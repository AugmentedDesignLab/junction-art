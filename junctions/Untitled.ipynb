{
 "cells": [
  {
   "cell_type": "code",
   "execution_count": 3,
   "metadata": {},
   "outputs": [],
   "source": [
    "import numpy as np\n",
    "import os"
   ]
  },
  {
   "cell_type": "code",
   "execution_count": null,
   "metadata": {},
   "outputs": [],
   "source": [
    "import os, sys\n",
    "currentFolder = os.path.abspath('')\n",
    "try:\n",
    "    sys.path.remove(str(currentFolder))\n",
    "except ValueError: # Already removed\n",
    "    pass\n",
    "\n",
    "projectFolder = '/home/exx/muktadir/earthquakePrediction/'\n",
    "projectFolder = 'F:/myProjects/tfKeras/UCSC/CSE243/Project/'\n",
    "sys.path.append(str(projectFolder))\n",
    "os.chdir(projectFolder)\n",
    "print( f\"current working dir{os.getcwd()}\")\n",
    "\n",
    "exec(open(\"inc_notebook.py\").read())"
   ]
  }
 ],
 "metadata": {
  "kernelspec": {
   "display_name": "Python 3",
   "language": "python",
   "name": "python3"
  },
  "language_info": {
   "codemirror_mode": {
    "name": "ipython",
    "version": 3
   },
   "file_extension": ".py",
   "mimetype": "text/x-python",
   "name": "python",
   "nbconvert_exporter": "python",
   "pygments_lexer": "ipython3",
   "version": "3.7.9"
  }
 },
 "nbformat": 4,
 "nbformat_minor": 2
}
