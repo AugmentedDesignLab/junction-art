{
 "cells": [
  {
   "cell_type": "code",
   "execution_count": 1,
   "metadata": {},
   "outputs": [
    {
     "name": "stdout",
     "output_type": "stream",
     "text": [
      "current working dirF:\\myProjects\\av\\junction-art\n",
      "Using matplotlib backend: Qt5Agg\n"
     ]
    }
   ],
   "source": [
    "exec(open(\"init_notebook.py\").read())\n",
    "import pyodrx \n",
    "import numpy as np\n",
    "import extensions\n",
    "import matplotlib.pyplot as plt\n",
    "%matplotlib auto\n"
   ]
  },
  {
   "cell_type": "code",
   "execution_count": 2,
   "metadata": {},
   "outputs": [],
   "source": [
    "import junctions\n",
    "import os"
   ]
  },
  {
   "cell_type": "code",
   "execution_count": 3,
   "metadata": {},
   "outputs": [],
   "source": [
    "outputDir= os.path.join(os.getcwd(), 'output')\n",
    "lastId = 0\n",
    "harvester = junctions.JunctionHarvester(outputDir=outputDir, \n",
    "                                        outputPrefix='merged_', \n",
    "                                        lastId=lastId)"
   ]
  },
  {
   "cell_type": "code",
   "execution_count": 4,
   "metadata": {},
   "outputs": [
    {
     "name": "stdout",
     "output_type": "stream",
     "text": [
      "starting adjustment. May freeze!!!!!!!!!!!!!\n",
      "starting adjustment. May freeze!!!!!!!!!!!!!\n",
      "starting adjustment. May freeze!!!!!!!!!!!!!\n",
      "starting adjustment. May freeze!!!!!!!!!!!!!\n",
      "starting adjustment. May freeze!!!!!!!!!!!!!\n",
      "starting adjustment. May freeze!!!!!!!!!!!!!\n",
      "starting adjustment. May freeze!!!!!!!!!!!!!\n",
      "starting adjustment. May freeze!!!!!!!!!!!!!\n",
      "starting adjustment. May freeze!!!!!!!!!!!!!\n",
      "starting adjustment. May freeze!!!!!!!!!!!!!\n",
      "starting adjustment. May freeze!!!!!!!!!!!!!\n",
      "starting adjustment. May freeze!!!!!!!!!!!!!\n",
      "starting adjustment. May freeze!!!!!!!!!!!!!\n",
      "starting adjustment. May freeze!!!!!!!!!!!!!\n",
      "starting adjustment. May freeze!!!!!!!!!!!!!\n",
      "starting adjustment. May freeze!!!!!!!!!!!!!\n",
      "starting adjustment. May freeze!!!!!!!!!!!!!\n",
      "starting adjustment. May freeze!!!!!!!!!!!!!\n",
      "starting adjustment. May freeze!!!!!!!!!!!!!\n",
      "starting adjustment. May freeze!!!!!!!!!!!!!\n",
      "starting adjustment. May freeze!!!!!!!!!!!!!\n",
      "starting adjustment. May freeze!!!!!!!!!!!!!\n",
      "starting adjustment. May freeze!!!!!!!!!!!!!\n",
      "starting adjustment. May freeze!!!!!!!!!!!!!\n",
      "starting adjustment. May freeze!!!!!!!!!!!!!\n",
      "starting adjustment. May freeze!!!!!!!!!!!!!\n",
      "starting adjustment. May freeze!!!!!!!!!!!!!\n",
      "starting adjustment. May freeze!!!!!!!!!!!!!\n",
      "starting adjustment. May freeze!!!!!!!!!!!!!\n",
      "starting adjustment. May freeze!!!!!!!!!!!!!\n",
      "starting adjustment. May freeze!!!!!!!!!!!!!\n",
      "starting adjustment. May freeze!!!!!!!!!!!!!\n",
      "starting adjustment. May freeze!!!!!!!!!!!!!\n",
      "starting adjustment. May freeze!!!!!!!!!!!!!\n",
      "starting adjustment. May freeze!!!!!!!!!!!!!\n",
      "starting adjustment. May freeze!!!!!!!!!!!!!\n",
      "starting adjustment. May freeze!!!!!!!!!!!!!\n",
      "starting adjustment. May freeze!!!!!!!!!!!!!\n",
      "starting adjustment. May freeze!!!!!!!!!!!!!\n",
      "starting adjustment. May freeze!!!!!!!!!!!!!\n",
      "starting adjustment. May freeze!!!!!!!!!!!!!\n",
      "starting adjustment. May freeze!!!!!!!!!!!!!\n",
      "starting adjustment. May freeze!!!!!!!!!!!!!\n",
      "starting adjustment. May freeze!!!!!!!!!!!!!\n",
      "starting adjustment. May freeze!!!!!!!!!!!!!\n",
      "starting adjustment. May freeze!!!!!!!!!!!!!\n",
      "starting adjustment. May freeze!!!!!!!!!!!!!\n",
      "starting adjustment. May freeze!!!!!!!!!!!!!\n",
      "starting adjustment. May freeze!!!!!!!!!!!!!\n",
      "starting adjustment. May freeze!!!!!!!!!!!!!\n",
      "starting adjustment. May freeze!!!!!!!!!!!!!\n",
      "starting adjustment. May freeze!!!!!!!!!!!!!\n",
      "starting adjustment. May freeze!!!!!!!!!!!!!\n",
      "starting adjustment. May freeze!!!!!!!!!!!!!\n",
      "starting adjustment. May freeze!!!!!!!!!!!!!\n",
      "starting adjustment. May freeze!!!!!!!!!!!!!\n",
      "starting adjustment. May freeze!!!!!!!!!!!!!\n",
      "starting adjustment. May freeze!!!!!!!!!!!!!\n",
      "starting adjustment. May freeze!!!!!!!!!!!!!\n",
      "starting adjustment. May freeze!!!!!!!!!!!!!\n",
      "starting adjustment. May freeze!!!!!!!!!!!!!\n",
      "starting adjustment. May freeze!!!!!!!!!!!!!\n",
      "starting adjustment. May freeze!!!!!!!!!!!!!\n",
      "starting adjustment. May freeze!!!!!!!!!!!!!\n",
      "starting adjustment. May freeze!!!!!!!!!!!!!\n",
      "starting adjustment. May freeze!!!!!!!!!!!!!\n",
      "starting adjustment. May freeze!!!!!!!!!!!!!\n",
      "starting adjustment. May freeze!!!!!!!!!!!!!\n",
      "starting adjustment. May freeze!!!!!!!!!!!!!\n",
      "starting adjustment. May freeze!!!!!!!!!!!!!\n",
      "starting adjustment. May freeze!!!!!!!!!!!!!\n",
      "starting adjustment. May freeze!!!!!!!!!!!!!\n",
      "starting adjustment. May freeze!!!!!!!!!!!!!\n",
      "starting adjustment. May freeze!!!!!!!!!!!!!\n",
      "starting adjustment. May freeze!!!!!!!!!!!!!\n",
      "starting adjustment. May freeze!!!!!!!!!!!!!\n",
      "starting adjustment. May freeze!!!!!!!!!!!!!\n",
      "starting adjustment. May freeze!!!!!!!!!!!!!\n",
      "starting adjustment. May freeze!!!!!!!!!!!!!\n",
      "starting adjustment. May freeze!!!!!!!!!!!!!\n",
      "starting adjustment. May freeze!!!!!!!!!!!!!\n",
      "starting adjustment. May freeze!!!!!!!!!!!!!\n",
      "starting adjustment. May freeze!!!!!!!!!!!!!\n",
      "starting adjustment. May freeze!!!!!!!!!!!!!\n",
      "starting adjustment. May freeze!!!!!!!!!!!!!\n",
      "starting adjustment. May freeze!!!!!!!!!!!!!\n",
      "starting adjustment. May freeze!!!!!!!!!!!!!\n",
      "starting adjustment. May freeze!!!!!!!!!!!!!\n",
      "starting adjustment. May freeze!!!!!!!!!!!!!\n",
      "starting adjustment. May freeze!!!!!!!!!!!!!\n",
      "starting adjustment. May freeze!!!!!!!!!!!!!\n",
      "starting adjustment. May freeze!!!!!!!!!!!!!\n",
      "starting adjustment. May freeze!!!!!!!!!!!!!\n",
      "starting adjustment. May freeze!!!!!!!!!!!!!\n",
      "starting adjustment. May freeze!!!!!!!!!!!!!\n",
      "starting adjustment. May freeze!!!!!!!!!!!!!\n",
      "starting adjustment. May freeze!!!!!!!!!!!!!\n",
      "starting adjustment. May freeze!!!!!!!!!!!!!\n",
      "starting adjustment. May freeze!!!!!!!!!!!!!\n",
      "starting adjustment. May freeze!!!!!!!!!!!!!\n",
      "Odr objects saved to F:\\myProjects\\av\\junction-art\\output\\merged__harvested3R2LOrds.dill\n"
     ]
    }
   ],
   "source": [
    "harvester.harvest3WayJunctionsFrom2Ways('F:\\\\myProjects\\\\av\\\\junction-art\\\\output\\\\harvested2R2LOrds.dill')"
   ]
  },
  {
   "cell_type": "code",
   "execution_count": null,
   "metadata": {},
   "outputs": [],
   "source": []
  }
 ],
 "metadata": {
  "kernelspec": {
   "display_name": "Python 3",
   "language": "python",
   "name": "python3"
  },
  "language_info": {
   "codemirror_mode": {
    "name": "ipython",
    "version": 3
   },
   "file_extension": ".py",
   "mimetype": "text/x-python",
   "name": "python",
   "nbconvert_exporter": "python",
   "pygments_lexer": "ipython3",
   "version": "3.7.4"
  }
 },
 "nbformat": 4,
 "nbformat_minor": 2
}
