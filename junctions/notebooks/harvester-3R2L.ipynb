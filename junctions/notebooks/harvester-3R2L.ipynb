{
 "cells": [
  {
   "cell_type": "code",
   "execution_count": 1,
   "metadata": {},
   "outputs": [
    {
     "name": "stdout",
     "output_type": "stream",
     "text": [
      "current working dirF:\\myProjects\\av\\junction-art\n",
      "Using matplotlib backend: Qt5Agg\n"
     ]
    }
   ],
   "source": [
    "exec(open(\"init_notebook.py\").read())\n",
    "import pyodrx \n",
    "import numpy as np\n",
    "import extensions\n",
    "import matplotlib.pyplot as plt\n",
    "%matplotlib auto\n"
   ]
  },
  {
   "cell_type": "code",
   "execution_count": 2,
   "metadata": {},
   "outputs": [],
   "source": [
    "import junctions\n",
    "import os"
   ]
  },
  {
   "cell_type": "code",
   "execution_count": 3,
   "metadata": {},
   "outputs": [],
   "source": [
    "outputDir= os.path.join(os.getcwd(), 'junction-3r')\n",
    "lastId = 0\n",
    "harvester = junctions.JunctionHarvester(outputDir=outputDir, \n",
    "                                        outputPrefix='merged_', \n",
    "                                        lastId=lastId)"
   ]
  },
  {
   "cell_type": "code",
   "execution_count": 4,
   "metadata": {},
   "outputs": [
    {
     "name": "stdout",
     "output_type": "stream",
     "text": [
      "starting adjustment. May freeze!!!!!!!!!!!!!\n",
      "starting adjustment. May freeze!!!!!!!!!!!!!\n",
      "starting adjustment. May freeze!!!!!!!!!!!!!\n",
      "starting adjustment. May freeze!!!!!!!!!!!!!\n",
      "starting adjustment. May freeze!!!!!!!!!!!!!\n",
      "starting adjustment. May freeze!!!!!!!!!!!!!\n",
      "starting adjustment. May freeze!!!!!!!!!!!!!\n",
      "starting adjustment. May freeze!!!!!!!!!!!!!\n",
      "starting adjustment. May freeze!!!!!!!!!!!!!\n",
      "starting adjustment. May freeze!!!!!!!!!!!!!\n",
      "starting adjustment. May freeze!!!!!!!!!!!!!\n",
      "starting adjustment. May freeze!!!!!!!!!!!!!\n",
      "starting adjustment. May freeze!!!!!!!!!!!!!\n",
      "starting adjustment. May freeze!!!!!!!!!!!!!\n",
      "starting adjustment. May freeze!!!!!!!!!!!!!\n",
      "starting adjustment. May freeze!!!!!!!!!!!!!\n",
      "starting adjustment. May freeze!!!!!!!!!!!!!\n",
      "starting adjustment. May freeze!!!!!!!!!!!!!\n",
      "starting adjustment. May freeze!!!!!!!!!!!!!\n",
      "starting adjustment. May freeze!!!!!!!!!!!!!\n",
      "starting adjustment. May freeze!!!!!!!!!!!!!\n",
      "starting adjustment. May freeze!!!!!!!!!!!!!\n",
      "starting adjustment. May freeze!!!!!!!!!!!!!\n",
      "starting adjustment. May freeze!!!!!!!!!!!!!\n",
      "starting adjustment. May freeze!!!!!!!!!!!!!\n",
      "starting adjustment. May freeze!!!!!!!!!!!!!\n",
      "starting adjustment. May freeze!!!!!!!!!!!!!\n",
      "starting adjustment. May freeze!!!!!!!!!!!!!\n",
      "starting adjustment. May freeze!!!!!!!!!!!!!\n",
      "starting adjustment. May freeze!!!!!!!!!!!!!\n",
      "starting adjustment. May freeze!!!!!!!!!!!!!\n",
      "starting adjustment. May freeze!!!!!!!!!!!!!\n",
      "starting adjustment. May freeze!!!!!!!!!!!!!\n",
      "starting adjustment. May freeze!!!!!!!!!!!!!\n",
      "starting adjustment. May freeze!!!!!!!!!!!!!\n",
      "starting adjustment. May freeze!!!!!!!!!!!!!\n",
      "starting adjustment. May freeze!!!!!!!!!!!!!\n",
      "starting adjustment. May freeze!!!!!!!!!!!!!\n",
      "starting adjustment. May freeze!!!!!!!!!!!!!\n",
      "starting adjustment. May freeze!!!!!!!!!!!!!\n",
      "starting adjustment. May freeze!!!!!!!!!!!!!\n",
      "starting adjustment. May freeze!!!!!!!!!!!!!\n",
      "starting adjustment. May freeze!!!!!!!!!!!!!\n",
      "starting adjustment. May freeze!!!!!!!!!!!!!\n",
      "starting adjustment. May freeze!!!!!!!!!!!!!\n",
      "starting adjustment. May freeze!!!!!!!!!!!!!\n",
      "starting adjustment. May freeze!!!!!!!!!!!!!\n",
      "starting adjustment. May freeze!!!!!!!!!!!!!\n",
      "starting adjustment. May freeze!!!!!!!!!!!!!\n",
      "starting adjustment. May freeze!!!!!!!!!!!!!\n",
      "starting adjustment. May freeze!!!!!!!!!!!!!\n",
      "starting adjustment. May freeze!!!!!!!!!!!!!\n",
      "starting adjustment. May freeze!!!!!!!!!!!!!\n",
      "starting adjustment. May freeze!!!!!!!!!!!!!\n",
      "starting adjustment. May freeze!!!!!!!!!!!!!\n",
      "starting adjustment. May freeze!!!!!!!!!!!!!\n",
      "starting adjustment. May freeze!!!!!!!!!!!!!\n",
      "starting adjustment. May freeze!!!!!!!!!!!!!\n",
      "starting adjustment. May freeze!!!!!!!!!!!!!\n",
      "starting adjustment. May freeze!!!!!!!!!!!!!\n",
      "starting adjustment. May freeze!!!!!!!!!!!!!\n",
      "starting adjustment. May freeze!!!!!!!!!!!!!\n",
      "starting adjustment. May freeze!!!!!!!!!!!!!\n",
      "starting adjustment. May freeze!!!!!!!!!!!!!\n",
      "starting adjustment. May freeze!!!!!!!!!!!!!\n",
      "starting adjustment. May freeze!!!!!!!!!!!!!\n",
      "starting adjustment. May freeze!!!!!!!!!!!!!\n",
      "starting adjustment. May freeze!!!!!!!!!!!!!\n",
      "starting adjustment. May freeze!!!!!!!!!!!!!\n",
      "starting adjustment. May freeze!!!!!!!!!!!!!\n",
      "starting adjustment. May freeze!!!!!!!!!!!!!\n",
      "starting adjustment. May freeze!!!!!!!!!!!!!\n",
      "starting adjustment. May freeze!!!!!!!!!!!!!\n",
      "starting adjustment. May freeze!!!!!!!!!!!!!\n",
      "starting adjustment. May freeze!!!!!!!!!!!!!\n",
      "starting adjustment. May freeze!!!!!!!!!!!!!\n",
      "starting adjustment. May freeze!!!!!!!!!!!!!\n",
      "starting adjustment. May freeze!!!!!!!!!!!!!\n",
      "starting adjustment. May freeze!!!!!!!!!!!!!\n",
      "starting adjustment. May freeze!!!!!!!!!!!!!\n",
      "starting adjustment. May freeze!!!!!!!!!!!!!\n",
      "starting adjustment. May freeze!!!!!!!!!!!!!\n",
      "starting adjustment. May freeze!!!!!!!!!!!!!\n",
      "starting adjustment. May freeze!!!!!!!!!!!!!\n",
      "starting adjustment. May freeze!!!!!!!!!!!!!\n",
      "starting adjustment. May freeze!!!!!!!!!!!!!\n",
      "Odr objects saved to F:\\myProjects\\av\\junction-art\\junction-3r\\merged__harvested3R2LOrds.dill\n"
     ]
    }
   ],
   "source": [
    "harvester.harvest3WayJunctionsFrom2Ways('F:\\\\myProjects\\\\av\\\\junction-art\\\\junctions-2r\\\\harvested2R2LOrds.dill')"
   ]
  },
  {
   "cell_type": "code",
   "execution_count": 9,
   "metadata": {},
   "outputs": [
    {
     "name": "stdout",
     "output_type": "stream",
     "text": [
      "f:\\myProjects\\av\\esmini\\bin\\odrplot.exe F:\\myProjects\\av\\junction-art\\junction-3r\\merged_3R_2L_13.xodr\n"
     ]
    },
    {
     "ename": "FileNotFoundError",
     "evalue": "[Errno 2] No such file or directory: 'track.csv'",
     "output_type": "error",
     "traceback": [
      "\u001b[1;31m---------------------------------------------------------------------------\u001b[0m",
      "\u001b[1;31mFileNotFoundError\u001b[0m                         Traceback (most recent call last)",
      "\u001b[1;32m<ipython-input-9-bf8b3164dd31>\u001b[0m in \u001b[0;36m<module>\u001b[1;34m\u001b[0m\n\u001b[1;32m----> 1\u001b[1;33m \u001b[0mextensions\u001b[0m\u001b[1;33m.\u001b[0m\u001b[0mviewRoadFromXODRFile\u001b[0m\u001b[1;33m(\u001b[0m\u001b[1;34m'F:\\\\myProjects\\\\av\\\\junction-art\\\\junction-3r\\\\merged_3R_2L_13.xodr'\u001b[0m\u001b[1;33m,\u001b[0m \u001b[1;34m\"f:\\\\myProjects\\\\av\\\\esmini\"\u001b[0m\u001b[1;33m)\u001b[0m\u001b[1;33m\u001b[0m\u001b[1;33m\u001b[0m\u001b[0m\n\u001b[0m",
      "\u001b[1;32mF:\\myProjects\\av\\junction-art\\extensions\\moreHelpers.py\u001b[0m in \u001b[0;36mviewRoadFromXODRFile\u001b[1;34m(xodrPath, esminipath)\u001b[0m\n\u001b[0;32m     42\u001b[0m     \u001b[0mos\u001b[0m\u001b[1;33m.\u001b[0m\u001b[0msystem\u001b[0m\u001b[1;33m(\u001b[0m\u001b[1;34mf\"{ordPlotPath} {xodrPath}\"\u001b[0m\u001b[1;33m)\u001b[0m\u001b[1;33m\u001b[0m\u001b[1;33m\u001b[0m\u001b[0m\n\u001b[0;32m     43\u001b[0m \u001b[1;33m\u001b[0m\u001b[0m\n\u001b[1;32m---> 44\u001b[1;33m     \u001b[0mplotRoadFromCSV\u001b[0m\u001b[1;33m(\u001b[0m\u001b[1;34m'track.csv'\u001b[0m\u001b[1;33m)\u001b[0m\u001b[1;33m\u001b[0m\u001b[1;33m\u001b[0m\u001b[0m\n\u001b[0m\u001b[0;32m     45\u001b[0m     \u001b[0mos\u001b[0m\u001b[1;33m.\u001b[0m\u001b[0mremove\u001b[0m\u001b[1;33m(\u001b[0m\u001b[1;34m'track.csv'\u001b[0m\u001b[1;33m)\u001b[0m\u001b[1;33m\u001b[0m\u001b[1;33m\u001b[0m\u001b[0m\n\u001b[0;32m     46\u001b[0m \u001b[1;33m\u001b[0m\u001b[0m\n",
      "\u001b[1;32mF:\\myProjects\\av\\junction-art\\extensions\\moreHelpers.py\u001b[0m in \u001b[0;36mplotRoadFromCSV\u001b[1;34m(csvFile, show)\u001b[0m\n\u001b[0;32m     82\u001b[0m \u001b[1;33m\u001b[0m\u001b[0m\n\u001b[0;32m     83\u001b[0m \u001b[1;33m\u001b[0m\u001b[0m\n\u001b[1;32m---> 84\u001b[1;33m     \u001b[1;32mwith\u001b[0m \u001b[0mopen\u001b[0m\u001b[1;33m(\u001b[0m\u001b[0mcsvFile\u001b[0m\u001b[1;33m,\u001b[0m \u001b[1;34m'r'\u001b[0m\u001b[1;33m)\u001b[0m \u001b[1;32mas\u001b[0m \u001b[0mf\u001b[0m\u001b[1;33m:\u001b[0m\u001b[1;33m\u001b[0m\u001b[1;33m\u001b[0m\u001b[0m\n\u001b[0m\u001b[0;32m     85\u001b[0m         \u001b[0mreader\u001b[0m \u001b[1;33m=\u001b[0m \u001b[0mcsv\u001b[0m\u001b[1;33m.\u001b[0m\u001b[0mreader\u001b[0m\u001b[1;33m(\u001b[0m\u001b[0mf\u001b[0m\u001b[1;33m,\u001b[0m \u001b[0mskipinitialspace\u001b[0m\u001b[1;33m=\u001b[0m\u001b[1;32mTrue\u001b[0m\u001b[1;33m)\u001b[0m\u001b[1;33m\u001b[0m\u001b[1;33m\u001b[0m\u001b[0m\n\u001b[0;32m     86\u001b[0m         \u001b[0mpositions\u001b[0m \u001b[1;33m=\u001b[0m \u001b[0mlist\u001b[0m\u001b[1;33m(\u001b[0m\u001b[0mreader\u001b[0m\u001b[1;33m)\u001b[0m\u001b[1;33m\u001b[0m\u001b[1;33m\u001b[0m\u001b[0m\n",
      "\u001b[1;31mFileNotFoundError\u001b[0m: [Errno 2] No such file or directory: 'track.csv'"
     ]
    }
   ],
   "source": [
    "extensions.viewRoadFromXODRFile('F:\\\\myProjects\\\\av\\\\junction-art\\\\junction-3r\\\\merged_3R_2L_13.xodr', \"f:\\\\myProjects\\\\av\\\\esmini\")"
   ]
  },
  {
   "cell_type": "code",
   "execution_count": null,
   "metadata": {},
   "outputs": [],
   "source": []
  }
 ],
 "metadata": {
  "kernelspec": {
   "display_name": "Python 3",
   "language": "python",
   "name": "python3"
  },
  "language_info": {
   "codemirror_mode": {
    "name": "ipython",
    "version": 3
   },
   "file_extension": ".py",
   "mimetype": "text/x-python",
   "name": "python",
   "nbconvert_exporter": "python",
   "pygments_lexer": "ipython3",
   "version": "3.7.4"
  }
 },
 "nbformat": 4,
 "nbformat_minor": 2
}
