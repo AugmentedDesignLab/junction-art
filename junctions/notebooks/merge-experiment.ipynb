{
 "cells": [
  {
   "cell_type": "code",
   "execution_count": 1,
   "metadata": {},
   "outputs": [
    {
     "name": "stdout",
     "output_type": "stream",
     "text": [
      "current working dirF:\\myProjects\\av\\junction-art\n"
     ]
    }
   ],
   "source": [
    "exec(open(\"init_notebook.py\").read())"
   ]
  },
  {
   "cell_type": "code",
   "execution_count": 2,
   "metadata": {},
   "outputs": [],
   "source": [
    "import numpy as np\n",
    "import os\n",
    "import pyodrx \n",
    "import math\n",
    "import dill\n",
    "from junctions.RoadBuilder import RoadBuilder\n",
    "from junctions.StandardCurvatures import StandardCurvature\n",
    "from junctions.StandardCurveTypes import StandardCurveTypes\n",
    "from junctions.JunctionMerger import JunctionMerger\n",
    "import extensions\n",
    "from copy import copy\n"
   ]
  },
  {
   "cell_type": "code",
   "execution_count": 3,
   "metadata": {},
   "outputs": [],
   "source": [
    "with(open('F:\\\\myProjects\\\\av\\\\junction-art\\\\output\\\\_harvestedOrds.dill', 'rb')) as f:\n",
    "    odrDic = dill.load(f)\n",
    "    \n",
    "odrs = odrDic['0.3141592653589793']\n",
    "odrs2 = [odrs[0], odrs[5]]"
   ]
  },
  {
   "cell_type": "code",
   "execution_count": null,
   "metadata": {},
   "outputs": [],
   "source": []
  },
  {
   "cell_type": "code",
   "execution_count": 4,
   "metadata": {},
   "outputs": [],
   "source": [
    "# class JunctionMerger:\n",
    "\n",
    "    \n",
    "\n",
    "#     def __init__(self, outputDir, outputPrefix='R3_', lastId=0, minAngle = np.pi / 10, maxAngle = np.pi - .0001):\n",
    "#         \"\"\"The angle between two connected roads are >= self.minAngle <= self.maxAngle\n",
    "\n",
    "#         Args:\n",
    "#             outputDir ([type]): [description]\n",
    "#             outputPrefix ([type]): [description]\n",
    "#             lastId (int, optional): [description]. Defaults to 0.\n",
    "#             minAngle ([type], optional): [description]. Defaults to np.pi/10.\n",
    "#             maxAngle ([type], optional): [description]. Defaults to np.pi.\n",
    "#         \"\"\"\n",
    "\n",
    "#         self.destinationPrefix = os.path.join(outputDir, outputPrefix)\n",
    "#         self.minAngle = minAngle\n",
    "#         self.maxAngle = maxAngle\n",
    "#         self.lastId = lastId\n",
    "\n",
    "#         self.roadBuilder = RoadBuilder()\n",
    "\n",
    "#         pass\n",
    "\n",
    "\n",
    "#     def getOutputPath(self, fname):\n",
    "#         return self.destinationPrefix + fname + '.xodr'\n",
    "    \n",
    "\n",
    "#     def merge2R2L(self, odrs):\n",
    "\n",
    "#         # how do we merge 2 road junctions?\n",
    "        \n",
    "#         # 1 find connectionRoad in the first, it's predecessor is first road, successor is the second road.\n",
    "\n",
    "#         connectionRoadsFirst = extensions.getConnectionRoads(odrs[0].roads, odrs[0].junctions[0])\n",
    "#         connectionRoadFirst = copy(connectionRoadsFirst[0])\n",
    "#         connectionRoadsSecond = extensions.getConnectionRoads(odrs[1].roads, odrs[1].junctions[0])\n",
    "#         connectionRoadSecond = copy(connectionRoadsSecond[0])\n",
    "\n",
    "#         roadFirstPred = copy(extensions.getRoadFromRoadDic(odrs[0].roads, connectionRoadFirst.predecessor.element_id))\n",
    "#         roadFirstSuc = copy(extensions.getRoadFromRoadDic(odrs[0].roads, connectionRoadFirst.successor.element_id))\n",
    "#         roadSecondPred = copy(extensions.getRoadFromRoadDic(odrs[1].roads, connectionRoadSecond.predecessor.element_id))\n",
    "#         roadSecondSuc = copy(extensions.getRoadFromRoadDic(odrs[1].roads, connectionRoadSecond.successor.element_id))\n",
    "\n",
    "\n",
    "#         roads = []\n",
    "#         roads.append(roadFirstPred)\n",
    "#         roads.append(connectionRoadFirst)\n",
    "#         roads.append(roadFirstSuc)\n",
    "#         roads.append(connectionRoadSecond)\n",
    "#         roads.append(roadSecondSuc)\n",
    "        \n",
    "#         # regenerate ids for connectionRoadSecond and roadSecondSuc\n",
    "#         connectionRoadSecond.id = roadFirstSuc.id + 100\n",
    "#         roadSecondSuc.id = connectionRoadSecond.id + 1\n",
    "\n",
    "#         # fix links for roadFirstSuc, connectionRoadSecond, roadSecondSuc\n",
    "\n",
    "#         roadFirstSuc.successor = None\n",
    "#         roadFirstSuc.add_successor(pyodrx.ElementType.junction, connectionRoadSecond.id)\n",
    "\n",
    "#         connectionRoadSecond.predecessor = None\n",
    "#         connectionRoadSecond.add_predecessor(pyodrx.ElementType.road, roadFirstSuc.id, pyodrx.ContactPoint.start) # interestingly, this becomes the start point after merging.\n",
    "\n",
    "#         connectionRoadSecond.successor = None\n",
    "#         connectionRoadSecond.add_successor(pyodrx.ElementType.road, roadSecondSuc.id, pyodrx.ContactPoint.start) # interestingly, this becomes the start point after merging.\n",
    "\n",
    "#         roadSecondSuc.predecessor = None\n",
    "#         roadSecondSuc.add_predecessor(pyodrx.ElementType.junction, connectionRoadSecond.id)\n",
    "\n",
    "#         # create new junction\n",
    "\n",
    "#         # experiment with connecting more lanes for a single connection road.\n",
    "#         con1 = pyodrx.Connection(roadFirstPred.id, connectionRoadFirst.id, pyodrx.ContactPoint.start)\n",
    "#         con1.add_lanelink(-1,-1)\n",
    "        \n",
    "#         con2 = pyodrx.Connection(roadFirstSuc.id, connectionRoadSecond.id, pyodrx.ContactPoint.start)\n",
    "#         con2.add_lanelink(-1,-1)\n",
    "\n",
    "#         junction = pyodrx.Junction('junc',1)\n",
    "\n",
    "#         junction.add_connection(con1)\n",
    "#         junction.add_connection(con1)\n",
    "\n",
    "#         # newOdr = self.mergeByRoad(self, commonRoads, ords)\n",
    "\n",
    "#         newOrd = pyodrx.OpenDrive(\"new road\")\n",
    "\n",
    "#         # create the opendrive\n",
    "#         odr = pyodrx.OpenDrive('myroad')\n",
    "#         for r in roads:\n",
    "#             odr.add_road(r)\n",
    "            \n",
    "#         # odr.create_junction()\n",
    "\n",
    "#         odr.add_junction(junction)\n",
    "# #         odr.adjust_roads_and_lanes()\n",
    "\n",
    "#         print(f\"total number of roads added {len(roads)}\")\n",
    "\n",
    "#         print(f\"total number of roads in odr {len(odr.roads)}\")\n",
    "\n",
    "        \n",
    "#         odr.write_xml(self.getOutputPath(\"test\"))\n",
    "\n",
    "#         return odr\n",
    "\n",
    "    \n",
    "    \n"
   ]
  },
  {
   "cell_type": "code",
   "execution_count": 5,
   "metadata": {},
   "outputs": [],
   "source": [
    "outputDir= os.path.join(os.getcwd(), 'output')\n",
    "merger = JunctionMerger(outputDir=outputDir)"
   ]
  },
  {
   "cell_type": "code",
   "execution_count": 6,
   "metadata": {},
   "outputs": [
    {
     "name": "stdout",
     "output_type": "stream",
     "text": [
      "adding road with id 0\n",
      "adding road with id 1\n",
      "adding road with id 2\n",
      "adding road with id 102\n",
      "adding road with id 103\n",
      "starting adjustment. May freeze!!!!!!!!!!!!!\n",
      "start points starting\n"
     ]
    },
    {
     "ename": "KeyboardInterrupt",
     "evalue": "",
     "output_type": "error",
     "traceback": [
      "\u001b[1;31m---------------------------------------------------------------------------\u001b[0m",
      "\u001b[1;31mKeyboardInterrupt\u001b[0m                         Traceback (most recent call last)",
      "\u001b[1;32m<ipython-input-6-da7f0a4366b1>\u001b[0m in \u001b[0;36m<module>\u001b[1;34m\u001b[0m\n\u001b[1;32m----> 1\u001b[1;33m \u001b[0mnewOdr\u001b[0m \u001b[1;33m=\u001b[0m \u001b[0mmerger\u001b[0m\u001b[1;33m.\u001b[0m\u001b[0mmerge2R2L\u001b[0m\u001b[1;33m(\u001b[0m\u001b[0modrs2\u001b[0m\u001b[1;33m)\u001b[0m\u001b[1;33m\u001b[0m\u001b[1;33m\u001b[0m\u001b[0m\n\u001b[0m",
      "\u001b[1;32mF:\\myProjects\\av\\junction-art\\junctions\\JunctionMerger.py\u001b[0m in \u001b[0;36mmerge2R2L\u001b[1;34m(self, odrs)\u001b[0m\n\u001b[0;32m     87\u001b[0m         \u001b[0modr\u001b[0m\u001b[1;33m.\u001b[0m\u001b[0madd_junction\u001b[0m\u001b[1;33m(\u001b[0m\u001b[0mjunction\u001b[0m\u001b[1;33m)\u001b[0m\u001b[1;33m\u001b[0m\u001b[1;33m\u001b[0m\u001b[0m\n\u001b[0;32m     88\u001b[0m         \u001b[0mprint\u001b[0m\u001b[1;33m(\u001b[0m\u001b[1;34mf\"starting adjustment. May freeze!!!!!!!!!!!!!\"\u001b[0m\u001b[1;33m)\u001b[0m\u001b[1;33m\u001b[0m\u001b[1;33m\u001b[0m\u001b[0m\n\u001b[1;32m---> 89\u001b[1;33m         \u001b[0modr\u001b[0m\u001b[1;33m.\u001b[0m\u001b[0madjust_roads_and_lanes\u001b[0m\u001b[1;33m(\u001b[0m\u001b[1;33m)\u001b[0m\u001b[1;33m\u001b[0m\u001b[1;33m\u001b[0m\u001b[0m\n\u001b[0m\u001b[0;32m     90\u001b[0m \u001b[1;33m\u001b[0m\u001b[0m\n\u001b[0;32m     91\u001b[0m         \u001b[0mprint\u001b[0m\u001b[1;33m(\u001b[0m\u001b[1;34mf\"total number of roads added {len(roads)}\"\u001b[0m\u001b[1;33m)\u001b[0m\u001b[1;33m\u001b[0m\u001b[1;33m\u001b[0m\u001b[0m\n",
      "\u001b[1;32mF:\\myProjects\\av\\junction-art\\pyodrx\\opendrive.py\u001b[0m in \u001b[0;36madjust_roads_and_lanes\u001b[1;34m(self)\u001b[0m\n\u001b[0;32m    297\u001b[0m         \u001b[1;31m#adjust roads and their geometries\u001b[0m\u001b[1;33m\u001b[0m\u001b[1;33m\u001b[0m\u001b[1;33m\u001b[0m\u001b[0m\n\u001b[0;32m    298\u001b[0m         \u001b[0mprint\u001b[0m\u001b[1;33m(\u001b[0m\u001b[1;34m\"start points starting\"\u001b[0m\u001b[1;33m)\u001b[0m\u001b[1;33m\u001b[0m\u001b[1;33m\u001b[0m\u001b[0m\n\u001b[1;32m--> 299\u001b[1;33m         \u001b[0mself\u001b[0m\u001b[1;33m.\u001b[0m\u001b[0madjust_startpoints\u001b[0m\u001b[1;33m(\u001b[0m\u001b[1;33m)\u001b[0m\u001b[1;33m\u001b[0m\u001b[1;33m\u001b[0m\u001b[0m\n\u001b[0m\u001b[0;32m    300\u001b[0m \u001b[1;33m\u001b[0m\u001b[0m\n\u001b[0;32m    301\u001b[0m         \u001b[0mprint\u001b[0m\u001b[1;33m(\u001b[0m\u001b[1;34m\"start points adjusted\"\u001b[0m\u001b[1;33m)\u001b[0m\u001b[1;33m\u001b[0m\u001b[1;33m\u001b[0m\u001b[0m\n",
      "\u001b[1;32mF:\\myProjects\\av\\junction-art\\pyodrx\\opendrive.py\u001b[0m in \u001b[0;36madjust_startpoints\u001b[1;34m(self)\u001b[0m\n\u001b[0;32m    371\u001b[0m                     \u001b[1;32mcontinue\u001b[0m\u001b[1;33m\u001b[0m\u001b[1;33m\u001b[0m\u001b[0m\n\u001b[0;32m    372\u001b[0m \u001b[1;33m\u001b[0m\u001b[0m\n\u001b[1;32m--> 373\u001b[1;33m                 \u001b[1;32mif\u001b[0m \u001b[0mself\u001b[0m\u001b[1;33m.\u001b[0m\u001b[0mroads\u001b[0m\u001b[1;33m[\u001b[0m\u001b[0mk\u001b[0m\u001b[1;33m]\u001b[0m\u001b[1;33m.\u001b[0m\u001b[0mplanview\u001b[0m\u001b[1;33m.\u001b[0m\u001b[0madjusted\u001b[0m \u001b[1;32mis\u001b[0m \u001b[1;32mTrue\u001b[0m\u001b[1;33m:\u001b[0m\u001b[1;33m\u001b[0m\u001b[1;33m\u001b[0m\u001b[0m\n\u001b[0m\u001b[0;32m    374\u001b[0m                     \u001b[1;32mcontinue\u001b[0m\u001b[1;33m\u001b[0m\u001b[1;33m\u001b[0m\u001b[0m\n\u001b[0;32m    375\u001b[0m \u001b[1;33m\u001b[0m\u001b[0m\n",
      "\u001b[1;31mKeyboardInterrupt\u001b[0m: "
     ]
    }
   ],
   "source": [
    "newOdr = merger.merge2R2L(odrs2)"
   ]
  },
  {
   "cell_type": "code",
   "execution_count": null,
   "metadata": {},
   "outputs": [],
   "source": [
    "\n",
    "pyodrx.prettyprint(newOdr.get_element())\n",
    "\n",
    "extensions.view_road(newOdr,os.path.join('..','F:\\\\myProjects\\\\av\\\\esmini'))"
   ]
  },
  {
   "cell_type": "code",
   "execution_count": null,
   "metadata": {},
   "outputs": [],
   "source": [
    "newOdr.roads"
   ]
  },
  {
   "cell_type": "code",
   "execution_count": null,
   "metadata": {},
   "outputs": [],
   "source": [
    "np.random.choice(2)"
   ]
  },
  {
   "cell_type": "code",
   "execution_count": null,
   "metadata": {},
   "outputs": [],
   "source": []
  }
 ],
 "metadata": {
  "kernelspec": {
   "display_name": "Python 3",
   "language": "python",
   "name": "python3"
  },
  "language_info": {
   "codemirror_mode": {
    "name": "ipython",
    "version": 3
   },
   "file_extension": ".py",
   "mimetype": "text/x-python",
   "name": "python",
   "nbconvert_exporter": "python",
   "pygments_lexer": "ipython3",
   "version": "3.7.4"
  }
 },
 "nbformat": 4,
 "nbformat_minor": 2
}
