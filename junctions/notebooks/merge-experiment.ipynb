{
 "cells": [
  {
   "cell_type": "code",
   "execution_count": 1,
   "metadata": {},
   "outputs": [
    {
     "name": "stdout",
     "output_type": "stream",
     "text": [
      "current working dirF:\\myProjects\\av\\junction-art\n"
     ]
    }
   ],
   "source": [
    "exec(open(\"init_notebook.py\").read())"
   ]
  },
  {
   "cell_type": "code",
   "execution_count": 2,
   "metadata": {},
   "outputs": [],
   "source": [
    "import numpy as np\n",
    "import os\n",
    "import pyodrx \n",
    "import math\n",
    "import dill\n",
    "from junctions.RoadBuilder import RoadBuilder\n",
    "from junctions.StandardCurvatures import StandardCurvature\n",
    "from junctions.StandardCurveTypes import StandardCurveTypes\n",
    "import extensions\n"
   ]
  },
  {
   "cell_type": "code",
   "execution_count": 3,
   "metadata": {},
   "outputs": [],
   "source": [
    "with(open('F:\\\\myProjects\\\\av\\\\junction-art\\\\output\\\\_harvestedOrds.dill', 'rb')) as f:\n",
    "    odrDic = dill.load(f)\n",
    "    \n",
    "odrs = odrDic[0.3141592653589793]\n",
    "odrs2 = [odrs[0], odrs[1]]"
   ]
  },
  {
   "cell_type": "code",
   "execution_count": 38,
   "metadata": {},
   "outputs": [],
   "source": [
    "class JunctionMerger:\n",
    "\n",
    "    \n",
    "\n",
    "    def __init__(self, outputDir, outputPrefix='R3_', lastId=0, minAngle = np.pi / 10, maxAngle = np.pi - .0001):\n",
    "        \"\"\"The angle between two connected roads are >= self.minAngle <= self.maxAngle\n",
    "\n",
    "        Args:\n",
    "            outputDir ([type]): [description]\n",
    "            outputPrefix ([type]): [description]\n",
    "            lastId (int, optional): [description]. Defaults to 0.\n",
    "            minAngle ([type], optional): [description]. Defaults to np.pi/10.\n",
    "            maxAngle ([type], optional): [description]. Defaults to np.pi.\n",
    "        \"\"\"\n",
    "\n",
    "        self.destinationPrefix = os.path.join(outputDir, outputPrefix)\n",
    "        self.minAngle = minAngle\n",
    "        self.maxAngle = maxAngle\n",
    "        self.lastId = lastId\n",
    "\n",
    "        self.roadBuilder = RoadBuilder()\n",
    "\n",
    "        pass\n",
    "\n",
    "\n",
    "    def getOutputPath(self, fname):\n",
    "        return self.destinationPrefix + fname + '.xodr'\n",
    "    \n",
    "\n",
    "    def merge2R2L(self, odrs):\n",
    "\n",
    "        # how do we merge 2 road junctions?\n",
    "        \n",
    "        # 1 find connectionRoad in the first, it's predecessor is first road, successor is the second road.\n",
    "\n",
    "        connectionRoadsFirst = extensions.getConnectionRoads(odrs[0].roads, odrs[0].junctions[0])\n",
    "        connectionRoadFirst = connectionRoadsFirst[0]\n",
    "        connectionRoadsSecond = extensions.getConnectionRoads(odrs[1].roads, odrs[1].junctions[0])\n",
    "        connectionRoadSecond = connectionRoadsFirst[0]\n",
    "\n",
    "        roadFirstPred = extensions.getRoadFromRoadDic(odrs[0].roads, connectionRoadFirst.predecessor.element_id)\n",
    "        roadFirstSuc = extensions.getRoadFromRoadDic(odrs[0].roads, connectionRoadFirst.successor.element_id)\n",
    "        roadSecondPred = extensions.getRoadFromRoadDic(odrs[1].roads, connectionRoadSecond.predecessor.element_id)\n",
    "        roadSecondSuc = extensions.getRoadFromRoadDic(odrs[1].roads, connectionRoadSecond.successor.element_id)\n",
    "\n",
    "        print(roadFirstPred)\n",
    "        print(roadFirstSuc)\n",
    "        print(roadSecondPred)\n",
    "        print(roadSecondSuc)\n",
    "\n",
    "        roads = []\n",
    "        roads.append(roadFirstPred)\n",
    "        roads.append(connectionRoadFirst)\n",
    "        roads.append(roadFirstSuc)\n",
    "        roads.append(connectionRoadSecond)\n",
    "        roads.append(roadSecondSuc)\n",
    "\n",
    "        # fix links for roadFirstSuc, connectionRoadSecond\n",
    "\n",
    "        roadFirstSuc.successor = None\n",
    "        roadFirstSuc.add_successor(pyodrx.ElementType.junction, connectionRoadSecond.id)\n",
    "\n",
    "        connectionRoadSecond.predecessor = None\n",
    "        connectionRoadSecond.add_predecessor(pyodrx.ElementType.road, roadFirstSuc.id, pyodrx.ContactPoint.start) # interestingly, this becomes the start point after merging.\n",
    "\n",
    "\n",
    "        # create new junction\n",
    "\n",
    "        # experiment with connecting more lanes for a single connection road.\n",
    "        con1 = pyodrx.Connection(roadFirstPred.id, connectionRoadFirst.id, pyodrx.ContactPoint.start)\n",
    "        con1.add_lanelink(-1,-1)\n",
    "        \n",
    "        con2 = pyodrx.Connection(roadFirstSuc.id, connectionRoadSecond.id, pyodrx.ContactPoint.start)\n",
    "        con2.add_lanelink(-1,-1)\n",
    "\n",
    "        junction = pyodrx.Junction('junc',1)\n",
    "\n",
    "        junction.add_connection(con1)\n",
    "        junction.add_connection(con1)\n",
    "\n",
    "        # newOdr = self.mergeByRoad(self, commonRoads, ords)\n",
    "\n",
    "        newOrd = pyodrx.OpenDrive(\"new road\")\n",
    "\n",
    "        # create the opendrive\n",
    "        odr = pyodrx.OpenDrive('myroad')\n",
    "        for r in roads:\n",
    "            odr.add_road(r)\n",
    "            \n",
    "        # odr.create_junction()\n",
    "\n",
    "        odr.add_junction(junction)\n",
    "#         odr.adjust_roads_and_lanes()\n",
    "\n",
    "        print(f\"total number of roads added {len(roads)}\")\n",
    "\n",
    "        print(f\"total number of roads in odr {len(odr.roads)}\")\n",
    "\n",
    "        \n",
    "        odr.write_xml(self.getOutputPath(\"test\"))\n",
    "\n",
    "        return odr\n",
    "\n",
    "    \n",
    "    \n"
   ]
  },
  {
   "cell_type": "code",
   "execution_count": 39,
   "metadata": {},
   "outputs": [],
   "source": [
    "outputDir= os.path.join(os.getcwd(), 'output')\n",
    "merger = JunctionMerger(outputDir=outputDir)"
   ]
  },
  {
   "cell_type": "code",
   "execution_count": 40,
   "metadata": {},
   "outputs": [
    {
     "name": "stdout",
     "output_type": "stream",
     "text": [
      "<extensions.ExtendedRoad.ExtendedRoad object at 0x000002278591D408>\n",
      "<extensions.ExtendedRoad.ExtendedRoad object at 0x000002278591D408>\n",
      "<extensions.ExtendedRoad.ExtendedRoad object at 0x00000227859244C8>\n",
      "<extensions.ExtendedRoad.ExtendedRoad object at 0x00000227859244C8>\n",
      "total number of roads added 5\n",
      "total number of roads in odr 2\n"
     ]
    }
   ],
   "source": [
    "newOdr = merger.merge2R2L(odrs2)"
   ]
  },
  {
   "cell_type": "code",
   "execution_count": 26,
   "metadata": {},
   "outputs": [
    {
     "name": "stdout",
     "output_type": "stream",
     "text": [
      "<?xml version=\"1.0\" ?>\n",
      "<OpenDRIVE>\n",
      "\t<header date=\"2020-10-29 12:44:03.869996\" east=\"0.0\" name=\"myroad\" north=\"0.0\" revMajor=\"1\" revMinor=\"5\" south=\"0.0\" west=\"0.0\"/>\n",
      "\t<road id=\"2\" junction=\"-1\" length=\"100\">\n",
      "\t\t<link>\n",
      "\t\t\t<predecessor elementId=\"1\" elementType=\"junction\"/>\n",
      "\t\t</link>\n",
      "\t\t<planView>\n",
      "\t\t\t<geometry hdg=\"2.8274338437617486\" length=\"100\" s=\"0\" x=\"123.48680495896875\" y=\"148.2900689832599\">\n",
      "\t\t\t\t<line/>\n",
      "\t\t\t</geometry>\n",
      "\t\t</planView>\n",
      "\t\t<lanes>\n",
      "\t\t\t<laneSection s=\"0\">\n",
      "\t\t\t\t<left>\n",
      "\t\t\t\t\t<lane id=\"1\" level=\"false\" type=\"driving\">\n",
      "\t\t\t\t\t\t<link/>\n",
      "\t\t\t\t\t\t<width a=\"3\" b=\"0\" c=\"0\" d=\"0\" sOffset=\"0\"/>\n",
      "\t\t\t\t\t\t<roadMark color=\"standard\" height=\"0.02\" laneChange=\"none\" sOffset=\"0\" type=\"solid\" weight=\"standard\" width=\"0.2\">\n",
      "\t\t\t\t\t\t\t<type name=\"solid\" width=\"0.2\">\n",
      "\t\t\t\t\t\t\t\t<line length=\"0\" rule=\"no passing\" sOffset=\"0\" space=\"0\" tOffset=\"0\" width=\"0.2\"/>\n",
      "\t\t\t\t\t\t\t</type>\n",
      "\t\t\t\t\t\t</roadMark>\n",
      "\t\t\t\t\t</lane>\n",
      "\t\t\t\t</left>\n",
      "\t\t\t\t<center>\n",
      "\t\t\t\t\t<lane id=\"0\" level=\"false\" type=\"driving\">\n",
      "\t\t\t\t\t\t<link/>\n",
      "\t\t\t\t\t\t<width a=\"3\" b=\"0\" c=\"0\" d=\"0\" sOffset=\"0\"/>\n",
      "\t\t\t\t\t\t<roadMark color=\"standard\" height=\"0.02\" laneChange=\"none\" sOffset=\"0\" type=\"solid\" weight=\"standard\" width=\"0.2\">\n",
      "\t\t\t\t\t\t\t<type name=\"solid\" width=\"0.2\">\n",
      "\t\t\t\t\t\t\t\t<line length=\"0\" rule=\"no passing\" sOffset=\"0\" space=\"0\" tOffset=\"0\" width=\"0.2\"/>\n",
      "\t\t\t\t\t\t\t</type>\n",
      "\t\t\t\t\t\t</roadMark>\n",
      "\t\t\t\t\t</lane>\n",
      "\t\t\t\t</center>\n",
      "\t\t\t\t<right>\n",
      "\t\t\t\t\t<lane id=\"-1\" level=\"false\" type=\"driving\">\n",
      "\t\t\t\t\t\t<link/>\n",
      "\t\t\t\t\t\t<width a=\"3\" b=\"0\" c=\"0\" d=\"0\" sOffset=\"0\"/>\n",
      "\t\t\t\t\t\t<roadMark color=\"standard\" height=\"0.02\" laneChange=\"none\" sOffset=\"0\" type=\"solid\" weight=\"standard\" width=\"0.2\">\n",
      "\t\t\t\t\t\t\t<type name=\"solid\" width=\"0.2\">\n",
      "\t\t\t\t\t\t\t\t<line length=\"0\" rule=\"no passing\" sOffset=\"0\" space=\"0\" tOffset=\"0\" width=\"0.2\"/>\n",
      "\t\t\t\t\t\t\t</type>\n",
      "\t\t\t\t\t\t</roadMark>\n",
      "\t\t\t\t\t</lane>\n",
      "\t\t\t\t</right>\n",
      "\t\t\t</laneSection>\n",
      "\t\t</lanes>\n",
      "\t</road>\n",
      "\t<road id=\"1\" junction=\"1\" length=\"155.50883635269477\">\n",
      "\t\t<link>\n",
      "\t\t\t<predecessor contactPoint=\"end\" elementId=\"0\" elementType=\"road\"/>\n",
      "\t\t\t<successor contactPoint=\"start\" elementId=\"2\" elementType=\"road\"/>\n",
      "\t\t\t<predecessor contactPoint=\"start\" elementId=\"2\" elementType=\"road\"/>\n",
      "\t\t\t<predecessor contactPoint=\"start\" elementId=\"2\" elementType=\"road\"/>\n",
      "\t\t\t<predecessor contactPoint=\"start\" elementId=\"2\" elementType=\"road\"/>\n",
      "\t\t\t<predecessor contactPoint=\"start\" elementId=\"2\" elementType=\"road\"/>\n",
      "\t\t</link>\n",
      "\t\t<planView>\n",
      "\t\t\t<geometry hdg=\"0\" length=\"14.137166941154069\" s=\"0\" x=\"100.0\" y=\"0.0\">\n",
      "\t\t\t\t<spiral curvEnd=\"0.02\" curvStart=\"1e-09\"/>\n",
      "\t\t\t</geometry>\n",
      "\t\t\t<geometry hdg=\"0.14137167648012416\" length=\"127.23450247038663\" s=\"14.137166941154069\" x=\"114.10893859840924\" y=\"0.6652479248528437\">\n",
      "\t\t\t\t<arc curvature=\"0.02\"/>\n",
      "\t\t\t</geometry>\n",
      "\t\t\t<geometry hdg=\"2.686061725887857\" length=\"14.137166941154069\" s=\"141.3716694115407\" x=\"129.06083482703346\" y=\"95.06780970440023\">\n",
      "\t\t\t\t<spiral curvEnd=\"1e-09\" curvStart=\"0.02\"/>\n",
      "\t\t\t</geometry>\n",
      "\t\t</planView>\n",
      "\t\t<lanes>\n",
      "\t\t\t<laneSection s=\"0\">\n",
      "\t\t\t\t<left>\n",
      "\t\t\t\t\t<lane id=\"1\" level=\"false\" type=\"driving\">\n",
      "\t\t\t\t\t\t<link>\n",
      "\t\t\t\t\t\t\t<predecessor id=\"1\"/>\n",
      "\t\t\t\t\t\t\t<successor id=\"1\"/>\n",
      "\t\t\t\t\t\t</link>\n",
      "\t\t\t\t\t\t<width a=\"3\" b=\"0\" c=\"0\" d=\"0\" sOffset=\"0\"/>\n",
      "\t\t\t\t\t\t<roadMark color=\"standard\" height=\"0.02\" laneChange=\"none\" sOffset=\"0\" type=\"solid\" weight=\"standard\" width=\"0.2\">\n",
      "\t\t\t\t\t\t\t<type name=\"solid\" width=\"0.2\">\n",
      "\t\t\t\t\t\t\t\t<line length=\"0\" rule=\"no passing\" sOffset=\"0\" space=\"0\" tOffset=\"0\" width=\"0.2\"/>\n",
      "\t\t\t\t\t\t\t</type>\n",
      "\t\t\t\t\t\t</roadMark>\n",
      "\t\t\t\t\t</lane>\n",
      "\t\t\t\t</left>\n",
      "\t\t\t\t<center>\n",
      "\t\t\t\t\t<lane id=\"0\" level=\"false\" type=\"driving\">\n",
      "\t\t\t\t\t\t<link/>\n",
      "\t\t\t\t\t\t<width a=\"3\" b=\"0\" c=\"0\" d=\"0\" sOffset=\"0\"/>\n",
      "\t\t\t\t\t\t<roadMark color=\"standard\" height=\"0.02\" laneChange=\"none\" sOffset=\"0\" type=\"solid\" weight=\"standard\" width=\"0.2\">\n",
      "\t\t\t\t\t\t\t<type name=\"solid\" width=\"0.2\">\n",
      "\t\t\t\t\t\t\t\t<line length=\"0\" rule=\"no passing\" sOffset=\"0\" space=\"0\" tOffset=\"0\" width=\"0.2\"/>\n",
      "\t\t\t\t\t\t\t</type>\n",
      "\t\t\t\t\t\t</roadMark>\n",
      "\t\t\t\t\t</lane>\n",
      "\t\t\t\t</center>\n",
      "\t\t\t\t<right>\n",
      "\t\t\t\t\t<lane id=\"-1\" level=\"false\" type=\"driving\">\n",
      "\t\t\t\t\t\t<link>\n",
      "\t\t\t\t\t\t\t<predecessor id=\"-1\"/>\n",
      "\t\t\t\t\t\t\t<successor id=\"-1\"/>\n",
      "\t\t\t\t\t\t</link>\n",
      "\t\t\t\t\t\t<width a=\"3\" b=\"0\" c=\"0\" d=\"0\" sOffset=\"0\"/>\n",
      "\t\t\t\t\t\t<roadMark color=\"standard\" height=\"0.02\" laneChange=\"none\" sOffset=\"0\" type=\"solid\" weight=\"standard\" width=\"0.2\">\n",
      "\t\t\t\t\t\t\t<type name=\"solid\" width=\"0.2\">\n",
      "\t\t\t\t\t\t\t\t<line length=\"0\" rule=\"no passing\" sOffset=\"0\" space=\"0\" tOffset=\"0\" width=\"0.2\"/>\n",
      "\t\t\t\t\t\t\t</type>\n",
      "\t\t\t\t\t\t</roadMark>\n",
      "\t\t\t\t\t</lane>\n",
      "\t\t\t\t</right>\n",
      "\t\t\t</laneSection>\n",
      "\t\t</lanes>\n",
      "\t</road>\n",
      "\t<junction id=\"1\" name=\"junc\">\n",
      "\t\t<connection connectingRoad=\"1\" contactPoint=\"start\" id=\"0\" incomingRoad=\"2\">\n",
      "\t\t\t<laneLink from=\"-1\" to=\"-1\"/>\n",
      "\t\t</connection>\n",
      "\t\t<connection connectingRoad=\"1\" contactPoint=\"start\" id=\"0\" incomingRoad=\"2\">\n",
      "\t\t\t<laneLink from=\"-1\" to=\"-1\"/>\n",
      "\t\t</connection>\n",
      "\t</junction>\n",
      "</OpenDRIVE>\n",
      "\n",
      "plotting xord: F:\\myProjects\\av\\esmini\\resources\\xodr\\pythonroad.xodr\n",
      "opening matplot lib\n"
     ]
    },
    {
     "data": {
      "image/png": "[encoded data removed]",
      "text/plain": [
       "<Figure size 1152x576 with 1 Axes>"
      ]
     },
     "metadata": {
      "needs_background": "light"
     },
     "output_type": "display_data"
    }
   ],
   "source": [
    "\n",
    "pyodrx.prettyprint(newOdr.get_element())\n",
    "\n",
    "extensions.view_road(newOdr,os.path.join('..','F:\\\\myProjects\\\\av\\\\esmini'))"
   ]
  },
  {
   "cell_type": "code",
   "execution_count": 29,
   "metadata": {},
   "outputs": [
    {
     "data": {
      "text/plain": [
       "{'2': <extensions.ExtendedRoad.ExtendedRoad at 0x227859244c8>,\n",
       " '1': <extensions.ExtendedRoad.ExtendedRoad at 0x22785918ac8>}"
      ]
     },
     "execution_count": 29,
     "metadata": {},
     "output_type": "execute_result"
    }
   ],
   "source": [
    "newOdr.roads"
   ]
  },
  {
   "cell_type": "code",
   "execution_count": null,
   "metadata": {},
   "outputs": [],
   "source": []
  }
 ],
 "metadata": {
  "kernelspec": {
   "display_name": "Python 3",
   "language": "python",
   "name": "python3"
  },
  "language_info": {
   "codemirror_mode": {
    "name": "ipython",
    "version": 3
   },
   "file_extension": ".py",
   "mimetype": "text/x-python",
   "name": "python",
   "nbconvert_exporter": "python",
   "pygments_lexer": "ipython3",
   "version": "3.7.4"
  }
 },
 "nbformat": 4,
 "nbformat_minor": 2
}
