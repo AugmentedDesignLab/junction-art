{
 "cells": [
  {
   "cell_type": "code",
   "execution_count": 1,
   "metadata": {},
   "outputs": [
    {
     "name": "stdout",
     "output_type": "stream",
     "text": [
      "current working dirF:\\myProjects\\av\\junction-art\n"
     ]
    }
   ],
   "source": [
    "exec(open(\"init_notebook.py\").read())"
   ]
  },
  {
   "cell_type": "code",
   "execution_count": 2,
   "metadata": {},
   "outputs": [
    {
     "name": "stdout",
     "output_type": "stream",
     "text": [
      "current working dirF:\\myProjects\\av\\junction-art\n"
     ]
    }
   ],
   "source": [
    "\n",
    "print( f\"current working dir{os.getcwd()}\")"
   ]
  },
  {
   "cell_type": "code",
   "execution_count": 3,
   "metadata": {},
   "outputs": [
    {
     "ename": "ImportError",
     "evalue": "cannot import name 'pyplot' from 'matplotlib.pyplot' (C:\\Users\\adhoc\\Anaconda3\\envs\\opendrive\\lib\\site-packages\\matplotlib\\pyplot.py)",
     "output_type": "error",
     "traceback": [
      "\u001b[1;31m---------------------------------------------------------------------------\u001b[0m",
      "\u001b[1;31mImportError\u001b[0m                               Traceback (most recent call last)",
      "\u001b[1;32m<ipython-input-3-6f2ec6dab4dc>\u001b[0m in \u001b[0;36m<module>\u001b[1;34m\u001b[0m\n\u001b[0;32m      2\u001b[0m \u001b[1;32mimport\u001b[0m \u001b[0mnumpy\u001b[0m \u001b[1;32mas\u001b[0m \u001b[0mnp\u001b[0m\u001b[1;33m\u001b[0m\u001b[1;33m\u001b[0m\u001b[0m\n\u001b[0;32m      3\u001b[0m \u001b[1;32mimport\u001b[0m \u001b[0mextensions\u001b[0m\u001b[1;33m\u001b[0m\u001b[1;33m\u001b[0m\u001b[0m\n\u001b[1;32m----> 4\u001b[1;33m \u001b[1;32mfrom\u001b[0m \u001b[0mmatplotlib\u001b[0m\u001b[1;33m.\u001b[0m\u001b[0mpyplot\u001b[0m \u001b[1;32mimport\u001b[0m \u001b[0mpyplot\u001b[0m\u001b[1;33m\u001b[0m\u001b[1;33m\u001b[0m\u001b[0m\n\u001b[0m\u001b[0;32m      5\u001b[0m \u001b[0mget_ipython\u001b[0m\u001b[1;33m(\u001b[0m\u001b[1;33m)\u001b[0m\u001b[1;33m.\u001b[0m\u001b[0mrun_line_magic\u001b[0m\u001b[1;33m(\u001b[0m\u001b[1;34m'matplotlib'\u001b[0m\u001b[1;33m,\u001b[0m \u001b[1;34m'inline'\u001b[0m\u001b[1;33m)\u001b[0m\u001b[1;33m\u001b[0m\u001b[1;33m\u001b[0m\u001b[0m\n",
      "\u001b[1;31mImportError\u001b[0m: cannot import name 'pyplot' from 'matplotlib.pyplot' (C:\\Users\\adhoc\\Anaconda3\\envs\\opendrive\\lib\\site-packages\\matplotlib\\pyplot.py)"
     ]
    }
   ],
   "source": [
    "import pyodrx \n",
    "import numpy as np\n",
    "import extensions\n",
    "import matplotlib.pyplot as plt\n",
    "%matplotlib inline"
   ]
  },
  {
   "cell_type": "code",
   "execution_count": null,
   "metadata": {},
   "outputs": [],
   "source": [
    "\n",
    "rm = pyodrx.RoadMark(pyodrx.RoadMarkType.solid,0.2,rule=pyodrx.MarkRule.no_passing)\n",
    "\n",
    "# create geometries\n",
    "\n",
    "geoms = []\n",
    "geoms.append(pyodrx.Line(100))\n",
    "geoms.append(pyodrx.Spiral(0.001,0.019,30))\n",
    "geoms.append(pyodrx.Line(100))\n",
    "geoms.append(pyodrx.Spiral(-0.001,-0.1,30))\n",
    "geoms.append(pyodrx.Line(100))\n",
    "geoms.append(pyodrx.Line(20))\n",
    "geoms.append(pyodrx.Line(100))\n",
    "numberofroads = len(geoms)\n",
    "\n",
    "# create planviews\n",
    "planviews = []\n",
    "for g in geoms:\n",
    "    pv = pyodrx.PlanView()\n",
    "    pv.add_geometry(g)\n",
    "    planviews.append(pv)\n",
    "\n",
    "\n",
    "\n",
    "# create centerlanes\n",
    "lanecenters = []\n",
    "for i in range(numberofroads):\n",
    "    lc = pyodrx.Lane(a=3)\n",
    "    lc.add_roadmark(rm)\n",
    "    lanecenters.append(lc)\n",
    "\n",
    "# create lanes\n",
    "rightlanes = []\n",
    "leftlanes = []\n",
    "for i in range(numberofroads):\n",
    "    right = pyodrx.Lane(a=3)\n",
    "    right.add_roadmark(rm)\n",
    "    rightlanes.append(right)\n",
    "    left = pyodrx.Lane(a=3)\n",
    "    left.add_roadmark(rm)\n",
    "    leftlanes.append(left)\n",
    "\n",
    "# create lanesections\n",
    "lanesections = []\n",
    "for i in range(numberofroads):\n",
    "    lsec = pyodrx.LaneSection(0,lanecenters[i])\n",
    "    lsec.add_right_lane(rightlanes[i])\n",
    "    lsec.add_left_lane(leftlanes[i])\n",
    "    lanesections.append(lsec)\n",
    "\n",
    "## create lanes\n",
    "lanes = []\n",
    "for l in lanesections:\n",
    "    lanes1 = pyodrx.Lanes()\n",
    "    lanes1.add_lanesection(l)\n",
    "    lanes.append(lanes1)\n",
    "\n",
    "\n",
    "# finally create the roads \n",
    "roads = []\n",
    "roadtypes = [-1,1,-1,1,-1,1,-1]\n",
    "for i in range(numberofroads):\n",
    "    roads.append(pyodrx.Road(i,planviews[i],lanes[i],road_type=roadtypes[i]))\n",
    "\n",
    "roads[0].add_successor(pyodrx.ElementType.junction,1)\n",
    "\n",
    "roads[1].add_predecessor(pyodrx.ElementType.road,0,pyodrx.ContactPoint.end)\n",
    "roads[1].add_successor(pyodrx.ElementType.road,2,pyodrx.ContactPoint.start)\n",
    "\n",
    "roads[2].add_predecessor(pyodrx.ElementType.junction,1)\n",
    "\n",
    "roads[3].add_predecessor(pyodrx.ElementType.road,0,pyodrx.ContactPoint.end)\n",
    "roads[3].add_successor(pyodrx.ElementType.road,4,pyodrx.ContactPoint.start)\n",
    "\n",
    "roads[4].add_predecessor(pyodrx.ElementType.junction,1)\n",
    "\n",
    "roads[5].add_predecessor(pyodrx.ElementType.road,0,pyodrx.ContactPoint.end)\n",
    "roads[5].add_successor(pyodrx.ElementType.road,6,pyodrx.ContactPoint.start)\n",
    "\n",
    "roads[6].add_predecessor(pyodrx.ElementType.junction,1)\n",
    "\n",
    "# create the opendrive\n",
    "odr = pyodrx.OpenDrive('myroad')\n",
    "for r in roads:\n",
    "    odr.add_road(r)\n",
    "\n",
    "# create junction\n",
    "junction = pyodrx.Junction('test',1)\n",
    "con1 = pyodrx.Connection(0,1,pyodrx.ContactPoint.start)\n",
    "con1.add_lanelink(-1,-1)\n",
    "con2 = pyodrx.Connection(0,3,pyodrx.ContactPoint.start)\n",
    "con2.add_lanelink(-1,-1)\n",
    "con3 = pyodrx.Connection(0,5,pyodrx.ContactPoint.start)\n",
    "con3.add_lanelink(-1,-1)\n",
    "\n",
    "con4 = pyodrx.Connection(2,1,pyodrx.ContactPoint.end)\n",
    "con4.add_lanelink(1,1)\n",
    "con5 = pyodrx.Connection(4,3,pyodrx.ContactPoint.end)\n",
    "con5.add_lanelink(1,1)\n",
    "con6 = pyodrx.Connection(6,5,pyodrx.ContactPoint.end)\n",
    "con6.add_lanelink(1,1)\n",
    "\n",
    "junction.add_connection(con1)\n",
    "junction.add_connection(con2)\n",
    "junction.add_connection(con3)\n",
    "junction.add_connection(con4)\n",
    "junction.add_connection(con5)\n",
    "junction.add_connection(con6)\n",
    "\n",
    "# odr.create_junction()\n",
    "odr.add_junction(junction)\n",
    "odr.adjust_roads_and_lanes()\n",
    "# pyodrx.prettyprint(odr.get_element())\n",
    "extensions.view_road(odr,os.path.join('..','F:\\\\myProjects\\\\av\\\\esmini'))"
   ]
  },
  {
   "cell_type": "code",
   "execution_count": null,
   "metadata": {},
   "outputs": [],
   "source": []
  },
  {
   "cell_type": "code",
   "execution_count": null,
   "metadata": {},
   "outputs": [],
   "source": []
  }
 ],
 "metadata": {
  "kernelspec": {
   "display_name": "Python 3",
   "language": "python",
   "name": "python3"
  },
  "language_info": {
   "codemirror_mode": {
    "name": "ipython",
    "version": 3
   },
   "file_extension": ".py",
   "mimetype": "text/x-python",
   "name": "python",
   "nbconvert_exporter": "python",
   "pygments_lexer": "ipython3",
   "version": "3.7.4"
  }
 },
 "nbformat": 4,
 "nbformat_minor": 2
}
