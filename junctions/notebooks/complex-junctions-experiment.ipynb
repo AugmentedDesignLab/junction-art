{
 "cells": [
  {
   "cell_type": "code",
   "execution_count": 1,
   "metadata": {},
   "outputs": [
    {
     "name": "stdout",
     "output_type": "stream",
     "text": [
      "current working dirF:\\myProjects\\av\\junction-art\n"
     ]
    }
   ],
   "source": [
    "exec(open(\"init_notebook.py\").read())\n"
   ]
  },
  {
   "cell_type": "code",
   "execution_count": 2,
   "metadata": {},
   "outputs": [],
   "source": [
    "import numpy as np\n",
    "import os\n",
    "import pyodrx \n",
    "import math\n",
    "import dill\n",
    "from junctions.RoadBuilder import RoadBuilder\n",
    "from junctions.StandardCurvatures import StandardCurvature\n",
    "from junctions.StandardCurveTypes import StandardCurveTypes\n",
    "from junctions.JunctionMerger import JunctionMerger\n",
    "import extensions, junctions\n",
    "from copy import copy"
   ]
  },
  {
   "cell_type": "code",
   "execution_count": 19,
   "metadata": {},
   "outputs": [
    {
     "name": "stdout",
     "output_type": "stream",
     "text": [
      "road id 0 add_successor element_id 1, element_type ElementType.junction, contact_point None\n",
      "road id 1 add_predecessor element_id 0, element_type ElementType.road, contact_point ContactPoint.end\n",
      "road id 1 add_successor element_id 2, element_type ElementType.road, contact_point ContactPoint.start\n",
      "road id 2 add_predecessor element_id 1, element_type ElementType.junction, contact_point None\n",
      "road id 3 add_predecessor element_id 2, element_type ElementType.road, contact_point ContactPoint.start\n",
      "road id 3 add_successor element_id 4, element_type ElementType.road, contact_point ContactPoint.start\n",
      "road id 4 add_predecessor element_id 3, element_type ElementType.junction, contact_point None\n",
      "road id 5 add_predecessor element_id 4, element_type ElementType.road, contact_point ContactPoint.start\n",
      "road id 5 add_successor element_id 6, element_type ElementType.road, contact_point ContactPoint.start\n"
     ]
    }
   ],
   "source": [
    "roadBuilder = junctions.RoadBuilder()\n",
    "\n",
    "junction = pyodrx.Junction('test',1)\n",
    "\n",
    "#1. create two arbitrary roads\n",
    "roads = []\n",
    "roads.append(pyodrx.create_straight_road(0))\n",
    "roads.append(roadBuilder.createCurve(1, np.pi/3, True, curvature = 0.5))\n",
    "roads.append(pyodrx.create_straight_road(2))\n",
    "\n",
    "roads[0].add_successor(pyodrx.ElementType.junction,1)\n",
    "\n",
    "roads[1].add_predecessor(pyodrx.ElementType.road,0,pyodrx.ContactPoint.end)\n",
    "roads[1].add_successor(pyodrx.ElementType.road,2,pyodrx.ContactPoint.start)\n",
    "\n",
    "roads[2].add_predecessor(pyodrx.ElementType.junction,1)\n",
    "\n",
    "con1 = pyodrx.Connection(0,1,pyodrx.ContactPoint.start)\n",
    "con1.add_lanelink(-1,-1)\n",
    "junction.add_connection(con1)\n",
    "\n",
    "# ---------------\n",
    "\n",
    "newConnectionId = 3\n",
    "newRoadId = newConnectionId + 1\n",
    "\n",
    "roads.append(roadBuilder.createCurve(newConnectionId, 1.2 * np.pi, True, curvature = 0.5))\n",
    "roads.append(pyodrx.create_straight_road(newRoadId))\n",
    "\n",
    "roads[newConnectionId].add_predecessor(pyodrx.ElementType.road,newConnectionId-1,pyodrx.ContactPoint.start)\n",
    "roads[newConnectionId].add_successor(pyodrx.ElementType.road, newRoadId, pyodrx.ContactPoint.start)\n",
    "roads[newRoadId].add_predecessor(pyodrx.ElementType.junction, newConnectionId)\n",
    "\n",
    "con1 = pyodrx.Connection(newConnectionId-1, newConnectionId ,pyodrx.ContactPoint.start)\n",
    "con1.add_lanelink(-1,-1)\n",
    "junction.add_connection(con1)\n",
    "\n",
    "# --------------- copy this to insert as many as you want\n",
    "\n",
    "# newConnectionId = newConnectionId + 2\n",
    "# newRoadId = newConnectionId + 1\n",
    "\n",
    "# roads.append(roadBuilder.createCurve(newConnectionId, np.pi/5, True, curvature = 0.2))\n",
    "# roads.append(pyodrx.create_straight_road(newRoadId))\n",
    "\n",
    "# roads[newConnectionId].add_predecessor(pyodrx.ElementType.road,newConnectionId-1,pyodrx.ContactPoint.start)\n",
    "# roads[newConnectionId].add_successor(pyodrx.ElementType.road, newRoadId, pyodrx.ContactPoint.start)\n",
    "# roads[newRoadId].add_predecessor(pyodrx.ElementType.junction, newConnectionId)\n",
    "\n",
    "# con1 = pyodrx.Connection(newConnectionId-1, newConnectionId ,pyodrx.ContactPoint.start)\n",
    "# con1.add_lanelink(-1,-1)\n",
    "# junction.add_connection(con1)\n",
    "\n",
    "# --------------- copy this to insert as many as you want\n",
    "\n",
    "# newConnectionId = newConnectionId + 2\n",
    "# newRoadId = newConnectionId + 1\n",
    "\n",
    "# roads.append(roadBuilder.createCurve(newConnectionId, np.pi/5, True, curvature = 0.3))\n",
    "# roads.append(pyodrx.create_straight_road(newRoadId))\n",
    "\n",
    "# roads[newConnectionId].add_predecessor(pyodrx.ElementType.road,newConnectionId-1,pyodrx.ContactPoint.start)\n",
    "# roads[newConnectionId].add_successor(pyodrx.ElementType.road, newRoadId, pyodrx.ContactPoint.start)\n",
    "# roads[newRoadId].add_predecessor(pyodrx.ElementType.junction, newConnectionId)\n",
    "\n",
    "# con1 = pyodrx.Connection(newConnectionId-1, newConnectionId ,pyodrx.ContactPoint.start)\n",
    "# con1.add_lanelink(-1,-1)\n",
    "# junction.add_connection(con1)\n",
    "\n",
    "\n",
    "# ---------------\n",
    "\n",
    "# now need to create connection roads for non-adjacent roads.\n",
    "# connect 0 with 4, 6\n",
    "\n",
    "newConnectionId = newConnectionId + 2\n",
    "newRoadId = newConnectionId + 1\n",
    "\n",
    "roads.append(roadBuilder.createCurve(newConnectionId, np.pi/200, True, curvature = 0.1, curveType=StandardCurveTypes.LongArc))\n",
    "roads.append(pyodrx.create_straight_road(newRoadId))\n",
    "\n",
    "roads[newConnectionId].add_predecessor(pyodrx.ElementType.road,newConnectionId-1,pyodrx.ContactPoint.start)\n",
    "roads[newConnectionId].add_successor(pyodrx.ElementType.road, newRoadId, pyodrx.ContactPoint.start)\n",
    "\n",
    "\n",
    "\n",
    "# newConnectionId = newConnectionId + 2\n",
    "# roads.append(roadBuilder.createCurveByLength(newConnectionId, 20, True, curvature = -0.001))\n",
    "\n",
    "# roads[newConnectionId].add_predecessor(pyodrx.ElementType.road,newConnectionId-1,pyodrx.ContactPoint.start)\n",
    "# roads[newConnectionId].add_successor(pyodrx.ElementType.road, 0, pyodrx.ContactPoint.end)\n",
    "\n",
    "# con1 = pyodrx.Connection(newConnectionId-1, newConnectionId ,pyodrx.ContactPoint.start)\n",
    "# con1.add_lanelink(-1,-1)\n",
    "# junction.add_connection(con1)\n",
    "\n",
    "\n",
    "# 3. create junction"
   ]
  },
  {
   "cell_type": "code",
   "execution_count": 20,
   "metadata": {},
   "outputs": [
    {
     "name": "stdout",
     "output_type": "stream",
     "text": [
      "start points starting\n"
     ]
    }
   ],
   "source": [
    "\n",
    "odr = pyodrx.OpenDrive('myroad')\n",
    "for r in roads:\n",
    "    odr.add_road(r)\n",
    "    \n",
    "# odr.create_junction()\n",
    "\n",
    "odr.add_junction(junction)\n",
    "odr.adjust_roads_and_lanes()\n",
    "\n"
   ]
  },
  {
   "cell_type": "code",
   "execution_count": 21,
   "metadata": {},
   "outputs": [
    {
     "name": "stdout",
     "output_type": "stream",
     "text": [
      "plotting xord: F:\\myProjects\\av\\esmini\\resources\\xodr\\pythonroad.xodr\n",
      "opening matplot lib\n"
     ]
    },
    {
     "data": {
      "image/png": "[encoded data removed]",
      "text/plain": [
       "<Figure size 1152x576 with 1 Axes>"
      ]
     },
     "metadata": {
      "needs_background": "light"
     },
     "output_type": "display_data"
    }
   ],
   "source": [
    "\n",
    "extensions.view_road(odr,os.path.join('..','F:\\\\myProjects\\\\av\\\\esmini'))"
   ]
  },
  {
   "cell_type": "code",
   "execution_count": 6,
   "metadata": {},
   "outputs": [],
   "source": [
    "\n",
    "# pyodrx.prettyprint(odr.get_element())"
   ]
  },
  {
   "cell_type": "code",
   "execution_count": 7,
   "metadata": {},
   "outputs": [
    {
     "data": {
      "text/plain": [
       "(0, 0, 0)"
      ]
     },
     "execution_count": 7,
     "metadata": {},
     "output_type": "execute_result"
    }
   ],
   "source": [
    "roads[0].getAdjustedStartPosition()"
   ]
  },
  {
   "cell_type": "code",
   "execution_count": 8,
   "metadata": {},
   "outputs": [
    {
     "data": {
      "text/plain": [
       "(100.0, 0.0, 0)"
      ]
     },
     "execution_count": 8,
     "metadata": {},
     "output_type": "execute_result"
    }
   ],
   "source": [
    "roads[0].getAdjustedEndPosition()"
   ]
  },
  {
   "cell_type": "code",
   "execution_count": 9,
   "metadata": {},
   "outputs": [
    {
     "name": "stdout",
     "output_type": "stream",
     "text": [
      "roadId: 0, \n",
      "  start_adj: (0, 0, 0)\tend_adj: (100.0, 0.0, 0)\n",
      "roadId: 1, \n",
      "  start_adj: (103.75217795668424, 1.3515532960075562, 1.0471978674502582)\tend_adj: (103.04656690349583, 5.276810605250397, 2.094395420741251)\n",
      "roadId: 2, \n",
      "  start_adj: (103.04656690349583, 5.276810605250397, 2.094395420741251)\tend_adj: (53.046539333748015, 91.8793350662871, 2.094395420741251)\n",
      "roadId: 3, \n",
      "  start_adj: (106.81875196353447, 2.502463280125178, 6.492625452439501)\tend_adj: (109.13638126891142, 6.571243650044372, 7.749262516388693)\n",
      "roadId: 4, \n",
      "  start_adj: (109.13638126891142, 6.571243650044372, 7.749262516388693)\tend_adj: (119.58916419153545, 106.02343985089504, 7.749262516388693)\n",
      "roadId: 5, \n",
      "  start_adj: (128.57838121511898, 1.2365660592753378, 13.86044562734718)\tend_adj: (129.11438806303096, 4.312708890593447, 14.016739863426215)\n",
      "roadId: 6, \n",
      "  start_adj: (129.11438806303096, 4.312708890593447, 14.016739863426215)\tend_adj: (141.1280083445257, 103.58845078020138, 14.016739863426215)\n"
     ]
    }
   ],
   "source": [
    "startX, startY, startH = 0.0, 0.0, 0.0\n",
    "for road in roads:\n",
    "#     endX, endY, endH = road.getEndPosition(startX, startY, startH)\n",
    "    print(f\"roadId: {road.id}, \\n  start_adj: {road.getAdjustedStartPosition()}\\tend_adj: {road.getAdjustedEndPosition()}\")\n",
    "#     print(f\"\\n  start_raw: {startX, startY, startH}\\tend_raw: {endX, endY, endH}\")\n",
    "#     if road.id % 2 != 0: # connecting roads start at the start\n",
    "#         startX, startY, startH = endX, endY, endH"
   ]
  },
  {
   "cell_type": "code",
   "execution_count": 10,
   "metadata": {},
   "outputs": [
    {
     "data": {
      "text/plain": [
       "(0, 0, 0)"
      ]
     },
     "execution_count": 10,
     "metadata": {},
     "output_type": "execute_result"
    }
   ],
   "source": [
    "roads[0].getAdjustedStartPosition()"
   ]
  },
  {
   "cell_type": "code",
   "execution_count": 11,
   "metadata": {},
   "outputs": [
    {
     "data": {
      "text/plain": [
       "(100.0, 0.0, 0)"
      ]
     },
     "execution_count": 11,
     "metadata": {},
     "output_type": "execute_result"
    }
   ],
   "source": [
    "roads[0].getAdjustedEndPosition()"
   ]
  },
  {
   "cell_type": "code",
   "execution_count": 12,
   "metadata": {},
   "outputs": [
    {
     "data": {
      "text/plain": [
       "(129.11438806303096, 4.312708890593447, 14.016739863426215)"
      ]
     },
     "execution_count": 12,
     "metadata": {},
     "output_type": "execute_result"
    }
   ],
   "source": [
    "roads[-1].getAdjustedStartPosition()"
   ]
  },
  {
   "cell_type": "code",
   "execution_count": 13,
   "metadata": {},
   "outputs": [
    {
     "data": {
      "text/plain": [
       "(141.1280083445257, 103.58845078020138, 14.016739863426215)"
      ]
     },
     "execution_count": 13,
     "metadata": {},
     "output_type": "execute_result"
    }
   ],
   "source": [
    "roads[-1].getAdjustedEndPosition()"
   ]
  },
  {
   "cell_type": "code",
   "execution_count": 14,
   "metadata": {},
   "outputs": [
    {
     "name": "stdout",
     "output_type": "stream",
     "text": [
      "roadId: 0, \n",
      "  heading_adj: 0.0\n",
      "roadId: 1, \n",
      "  heading_adj: 120.00001824000002\n",
      "roadId: 2, \n",
      "  heading_adj: 120.00001824000002\n",
      "roadId: 3, \n",
      "  heading_adj: 84.00003652800001\n",
      "roadId: 4, \n",
      "  heading_adj: 84.00003652800001\n",
      "roadId: 5, \n",
      "  heading_adj: 83.10003670710012\n",
      "roadId: 6, \n",
      "  heading_adj: 83.10003670710012\n"
     ]
    }
   ],
   "source": [
    "\n",
    "for road in roads:\n",
    "    _, _, heading = road.getAdjustedEndPosition()\n",
    "    print(f\"roadId: {road.id}, \\n  heading_adj: {math.degrees(heading) % 360}\")"
   ]
  },
  {
   "cell_type": "code",
   "execution_count": 15,
   "metadata": {},
   "outputs": [
    {
     "name": "stdout",
     "output_type": "stream",
     "text": [
      "heading1 0 heading2 14.016739863426215\n"
     ]
    },
    {
     "data": {
      "text/plain": [
       "83.10003670710006"
      ]
     },
     "execution_count": 15,
     "metadata": {},
     "output_type": "execute_result"
    }
   ],
   "source": [
    "math.degrees(roads[0].getClockWiseAngleWith(roads[-1], pyodrx.ContactPoint.end, pyodrx.ContactPoint.start))"
   ]
  },
  {
   "cell_type": "code",
   "execution_count": null,
   "metadata": {},
   "outputs": [],
   "source": []
  }
 ],
 "metadata": {
  "kernelspec": {
   "display_name": "Python 3",
   "language": "python",
   "name": "python3"
  },
  "language_info": {
   "codemirror_mode": {
    "name": "ipython",
    "version": 3
   },
   "file_extension": ".py",
   "mimetype": "text/x-python",
   "name": "python",
   "nbconvert_exporter": "python",
   "pygments_lexer": "ipython3",
   "version": "3.7.4"
  }
 },
 "nbformat": 4,
 "nbformat_minor": 2
}
