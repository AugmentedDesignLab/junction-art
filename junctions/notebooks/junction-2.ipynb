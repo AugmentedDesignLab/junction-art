{
 "cells": [
  {
   "cell_type": "code",
   "execution_count": 1,
   "metadata": {},
   "outputs": [
    {
     "name": "stdout",
     "output_type": "stream",
     "text": [
      "current working dirC:\\Users\\ishaa\\source\\repos\\junction-art\n"
     ]
    }
   ],
   "source": [
    "exec(open(\"init_notebook.py\").read())\n",
    "import pyodrx \n",
    "import numpy as np\n",
    "import extensions, junctions\n",
    "import matplotlib.pyplot as plt\n",
    "%matplotlib inline"
   ]
  },
  {
   "cell_type": "code",
   "execution_count": 2,
   "metadata": {},
   "outputs": [
    {
     "name": "stdout",
     "output_type": "stream",
     "text": [
      "start points starting\n",
      "Signal length\n",
      "20\n",
      "Signal t-coordinate for straight roads\n",
      "3\n",
      "Signal length\n",
      "43.70740779306799\n",
      "Signal t-coordinate for straight roads\n",
      "3\n",
      "Signal length\n",
      "100\n",
      "Signal t-coordinate for straight roads\n",
      "3\n",
      "C:\\Users\\ishaa\\Downloads\\roadGen\\esmini-master\\bin\\odrplot C:/Users/ishaa/Downloads/roadGen/esmini-master/resources/xodr/pythonroad.xodr\n"
     ]
    },
    {
     "data": {
      "image/png": "[encoded data removed]",
      "text/plain": [
       "<Figure size 1152x576 with 1 Axes>"
      ]
     },
     "metadata": {
      "needs_background": "light"
     },
     "output_type": "display_data"
    }
   ],
   "source": [
    "roadBuilder = junctions.RoadBuilder()\n",
    "#1. create two arbitrary roads\n",
    "\n",
    "roads = []\n",
    "roads.append(pyodrx.create_straight_road(0, 20))\n",
    "# roads.append(pyodrx.create_straight_road(1, junction=1))\n",
    "# roads.append(pyodrx.create_cloth_arc_cloth(.05, arc_angle=(np.pi - np.pi/4), cloth_angle=np.pi/8, r_id=1, junction = 1))\n",
    "# roads.append(roadBuilder.createSimpleCurve(1, np.pi/4, True, curvature = 0.9))\n",
    "# roads.append(roadBuilder.createSimpleCurveWithLongArc(1, -np.pi/16, True, curvature = 0.5))\n",
    "roads.append(roadBuilder.createS(1, -np.pi/20, True, curvature = 0.1))\n",
    "roads.append(pyodrx.create_straight_road(2))\n",
    "\n",
    "roads[0].add_successor(pyodrx.ElementType.junction,1)\n",
    "\n",
    "roads[1].add_predecessor(pyodrx.ElementType.road,0,pyodrx.ContactPoint.end)\n",
    "roads[1].add_successor(pyodrx.ElementType.road,2,pyodrx.ContactPoint.start)\n",
    "\n",
    "roads[2].add_predecessor(pyodrx.ElementType.junction,1)\n",
    "\n",
    "#2. create a connection road\n",
    "\n",
    "\n",
    "\n",
    "# 3. create junction\n",
    "junction = pyodrx.Junction('test',1)\n",
    "\n",
    "con1 = pyodrx.Connection(0,1,pyodrx.ContactPoint.start)\n",
    "con1.add_lanelink(-1,-1)\n",
    "\n",
    "junction.add_connection(con1)\n",
    "\n",
    "\n",
    "#4. make xord, add roads, add junctions, adjust\n",
    "\n",
    "# create the opendrive\n",
    "odr = pyodrx.OpenDrive('myroad')\n",
    "for r in roads:\n",
    "    odr.add_road(r)\n",
    "\n",
    "# odr.add_junction(junction)\n",
    "odr.adjust_roads_and_lanes()\n",
    "for i in range(3):\n",
    "    odr.roads[str(i)].addSignal()\n",
    "    \n",
    "\n",
    "# pyodrx.prettyprint(odr.get_element())\n",
    "\n",
    "extensions.view_road(odr,os.path.join('..','C:\\\\Users\\\\ishaa\\\\Downloads\\\\roadGen\\\\esmini-master'))"
   ]
  },
  {
   "cell_type": "code",
   "execution_count": 19,
   "metadata": {},
   "outputs": [
    {
     "data": {
      "text/plain": [
       "<StandardCurveTypes.S: 3>"
      ]
     },
     "execution_count": 19,
     "metadata": {},
     "output_type": "execute_result"
    }
   ],
   "source": [
    "roads[1].curveType"
   ]
  },
  {
   "cell_type": "code",
   "execution_count": null,
   "metadata": {},
   "outputs": [],
   "source": []
  },
  {
   "cell_type": "code",
   "execution_count": null,
   "metadata": {},
   "outputs": [],
   "source": []
  }
 ],
 "metadata": {
  "kernelspec": {
   "display_name": "Python 3",
   "language": "python",
   "name": "python3"
  },
  "language_info": {
   "codemirror_mode": {
    "name": "ipython",
    "version": 3
   },
   "file_extension": ".py",
   "mimetype": "text/x-python",
   "name": "python",
   "nbconvert_exporter": "python",
   "pygments_lexer": "ipython3",
   "version": "3.8.5"
  }
 },
 "nbformat": 4,
 "nbformat_minor": 2
}
