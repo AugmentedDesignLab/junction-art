{
 "cells": [
  {
   "cell_type": "code",
   "execution_count": 4,
   "id": "7ffae325-12aa-4721-a7e6-15b7a20910c0",
   "metadata": {},
   "outputs": [
    {
     "name": "stdout",
     "output_type": "stream",
     "text": [
      "The autoreload extension is already loaded. To reload it, use:\n",
      "  %reload_ext autoreload\n"
     ]
    }
   ],
   "source": [
    "%load_ext autoreload\n",
    "%autoreload 2"
   ]
  },
  {
   "cell_type": "code",
   "execution_count": 6,
   "id": "b7a6aa23-2464-4227-b123-befa94833fe0",
   "metadata": {},
   "outputs": [],
   "source": [
    "import math\n",
    "from junctionart.roundabout.encodingGFN.gflownet.gflownet import GFlowNet\n",
    "from junctionart.roundabout.encodingGFN.policy import ForwardPolicy, BackwardPolicy\n",
    "from junctionart.roundabout.encodingGFN.setGenerationEnv import SetGenerationEnv\n",
    "from junctionart.roundabout.encodingGFN.gflownet.utils import trajectory_balance_loss\n",
    "from torch.optim import Adam\n",
    "from tqdm import tqdm\n",
    "import torch \n",
    "\n",
    "size = 5\n",
    "nActions = 30\n",
    "losses = []\n",
    "rewards = []\n",
    "\n",
    "flows = []\n",
    "threePoints = [\n",
    "            {\"x\": 80, \"y\": 20, \"heading\": math.radians(30),'leftLane': 1, 'rightLane': 1, 'medianType': None, 'skipEndpoint': None},\n",
    "            {\"x\": 210, \"y\": 20, \"heading\": math.radians(145),'leftLane': 1, 'rightLane': 2, 'medianType': None, 'skipEndpoint': None},\n",
    "            # {\"x\": 120, \"y\": 110, \"heading\": math.radians(280),'leftLane': 2, 'rightLane': 1, 'medianType': None, 'skipEndpoint': None},\n",
    "        ]\n",
    "\n",
    "def train(batch_size, num_epochs, hidden_dim, setEnv):\n",
    "    \n",
    "    forward_policy = ForwardPolicy(setEnv.state_dim, hidden_dim=hidden_dim, num_actions=setEnv.num_actions)\n",
    "    backward_policy = BackwardPolicy(setEnv.state_dim, num_actions=setEnv.num_actions)\n",
    "    \n",
    "    model = GFlowNet(forward_policy, backward_policy, setEnv)\n",
    "\n",
    "    opt = Adam([\n",
    "        {\"params\": model.forward_policy.parameters()},\n",
    "        {\"params\": model.total_flow, \"lr\": 5e-2},\n",
    "    ],\n",
    "    lr=5e-5)\n",
    "    \n",
    "    for i in (p := tqdm(range(num_epochs))):\n",
    "        s0 = torch.zeros(batch_size, size).float()\n",
    "   \n",
    "        s, log, traj_length = model.sample_states(s0, return_log=True)\n",
    "\n",
    "        loss = trajectory_balance_loss(log.total_flow,\n",
    "                                       log.rewards,\n",
    "                                       log.fwd_probs,\n",
    "                                       log.back_probs)\n",
    "\n",
    "        \n",
    "        flows.append(model.total_flow.item())\n",
    "        rewards.append(log.rewards.mean())\n",
    "        losses.append(loss.item())\n",
    "        loss.backward()\n",
    "        torch.nn.utils.clip_grad_norm_(model.parameters(), 1e-2)\n",
    "        opt.step()\n",
    "        opt.zero_grad()\n",
    "        if i % 10 == 0: p.set_description(f\"{loss.item():.3f} T.L : {traj_length}\")\n",
    "\n",
    "    return model, losses, rewards, flows\n",
    "\n"
   ]
  },
  {
   "cell_type": "code",
   "execution_count": 9,
   "id": "75dd09b7-ef2c-434f-b718-11bda8706f39",
   "metadata": {},
   "outputs": [],
   "source": [
    "def trainWithBaseDecay(batch_size, num_epochs, hidden_dim, setEnv):\n",
    "    \n",
    "    forward_policy = ForwardPolicy(setEnv.state_dim, hidden_dim=hidden_dim, num_actions=setEnv.num_actions)\n",
    "    backward_policy = BackwardPolicy(setEnv.state_dim, num_actions=setEnv.num_actions)\n",
    "    \n",
    "    model = GFlowNet(forward_policy, backward_policy, setEnv)\n",
    "\n",
    "    opt = Adam([\n",
    "        {\"params\": model.forward_policy.parameters()},\n",
    "        {\"params\": model.total_flow, \"lr\": 5e-2},\n",
    "    ],\n",
    "    lr=5e-5)\n",
    "    \n",
    "    for i in (p := tqdm(range(num_epochs))):\n",
    "        s0 = torch.zeros(batch_size, size).float()\n",
    "   \n",
    "        s, log, traj_length = model.sample_states(s0, return_log=True)\n",
    "\n",
    "        loss = trajectory_balance_loss(log.total_flow,\n",
    "                                       log.rewards,\n",
    "                                       log.fwd_probs,\n",
    "                                       log.back_probs)\n",
    "\n",
    "        \n",
    "        flows.append(model.total_flow.item())\n",
    "        rewards.append(log.rewards.mean())\n",
    "        losses.append(loss.item())\n",
    "        loss.backward()\n",
    "        torch.nn.utils.clip_grad_norm_(model.parameters(), 1e-2)\n",
    "        opt.step()\n",
    "        opt.zero_grad()\n",
    "        if i % 10 == 0: p.set_description(f\"{loss.item():.3f} T.L : {traj_length}\")\n",
    "        model.env.base = 10000 - 10*i\n",
    "\n",
    "    return model, losses, rewards, flows\n",
    "\n"
   ]
  },
  {
   "cell_type": "code",
   "execution_count": 7,
   "id": "4d0c72a0-764b-4cfb-a91c-455b9390ceb1",
   "metadata": {},
   "outputs": [],
   "source": [
    "import seaborn as sns\n",
    "import pandas as pd\n",
    "nIter = 1\n",
    "nBatch = 10**5\n",
    "def getDistinctModes(nIter, nBatch, model, setEnv, base):\n",
    "    terminalStates = []\n",
    "    for i in tqdm(range(nIter)):\n",
    "        s0 = torch.zeros(nBatch, size).float()\n",
    "        s, traj_length = model.sample_states(s0, return_log=False)\n",
    "        terminalStates.append(s)\n",
    "\n",
    "    s = torch.concat(terminalStates)\n",
    "\n",
    "    statesForPlot = setEnv.getStateForm(s).long().tolist()\n",
    "    rewardsForPlot = setEnv.reward(s, showProgress=True).tolist()\n",
    "\n",
    "    cnts = []\n",
    "    cnt = 0\n",
    "\n",
    "    stateDict = {}\n",
    "    for i in tqdm(range(len(statesForPlot))):\n",
    "        state = str(statesForPlot[i])\n",
    "        if state in stateDict:\n",
    "            reward, freq = stateDict[state]\n",
    "            stateDict[state] = (reward, freq + 1)\n",
    "        else:\n",
    "            stateDict[state] = (rewardsForPlot[i], 1)\n",
    "            if rewardsForPlot[i] >= base**0.85:\n",
    "                cnt += 1\n",
    "        cnts.append(cnt)        \n",
    "    \n",
    "    return cnts\n"
   ]
  },
  {
   "cell_type": "code",
   "execution_count": 14,
   "id": "a65c449d-9e87-468e-a3b2-23e1db963553",
   "metadata": {},
   "outputs": [
    {
     "name": "stderr",
     "output_type": "stream",
     "text": [
      "0.215 T.L : 6: 100%|████████████████████████████████████████████████████████████████████████| 1000/1000 [01:34<00:00, 10.59it/s]\n"
     ]
    },
    {
     "name": "stdout",
     "output_type": "stream",
     "text": [
      "10\n"
     ]
    },
    {
     "name": "stderr",
     "output_type": "stream",
     "text": [
      "100%|█████████████████████████████████████████████████████████████████████████████████████████████| 1/1 [00:02<00:00,  2.87s/it]\n",
      "100%|█████████████████████████████████████████████████████████████████████████████████| 100000/100000 [00:46<00:00, 2142.35it/s]\n",
      "100%|███████████████████████████████████████████████████████████████████████████████| 100000/100000 [00:00<00:00, 840725.53it/s]\n"
     ]
    }
   ],
   "source": [
    "cntsByMethod = []\n",
    "\n",
    "batch_size = 128\n",
    "num_epochs = 1000\n",
    "hiddenLayer = 1024\n",
    "setEnv = SetGenerationEnv(size, nActions, threePoints, base = 10000)\n",
    "model, losses, rewards, flows = trainWithBaseDecay(batch_size, num_epochs, hidden_dim=hiddenLayer, setEnv=setEnv)\n",
    "nIter = 1\n",
    "nBatch = 10**5\n",
    "print(setEnv.base)\n",
    "cnts = getDistinctModes(nIter, nBatch=nBatch, model=model, setEnv=setEnv, base = setEnv.base)\n",
    "cntsByMethod.append({\"Method\" : \"w/ base decay\", \"cnts\" : cnts})"
   ]
  },
  {
   "cell_type": "code",
   "execution_count": 18,
   "id": "62cee847-84f2-4600-a7d3-949bf0cb0279",
   "metadata": {},
   "outputs": [
    {
     "name": "stderr",
     "output_type": "stream",
     "text": [
      "0.276 T.L : 6: 100%|████████████████████████████████████████████████████████████████████████| 1000/1000 [01:42<00:00,  9.79it/s]\n"
     ]
    },
    {
     "name": "stdout",
     "output_type": "stream",
     "text": [
      "1000\n"
     ]
    },
    {
     "name": "stderr",
     "output_type": "stream",
     "text": [
      "100%|█████████████████████████████████████████████████████████████████████████████████████████████| 1/1 [00:02<00:00,  2.97s/it]\n",
      "100%|█████████████████████████████████████████████████████████████████████████████████| 100000/100000 [00:47<00:00, 2123.80it/s]\n",
      "100%|███████████████████████████████████████████████████████████████████████████████| 100000/100000 [00:00<00:00, 863619.03it/s]\n"
     ]
    }
   ],
   "source": [
    "batch_size = 128\n",
    "num_epochs = 1000\n",
    "hiddenLayer = 1024\n",
    "setEnv = SetGenerationEnv(size, nActions, threePoints, base = 1000)\n",
    "model, losses, rewards, flows = train(batch_size, num_epochs, hidden_dim=hiddenLayer, setEnv=setEnv)\n",
    "nIter = 1\n",
    "nBatch = 10**5\n",
    "print(setEnv.base)\n",
    "cnts = getDistinctModes(nIter, nBatch=nBatch, model=model, setEnv=setEnv, base = setEnv.base)\n",
    "cntsByMethod.append({\"Method\" : \"w/o base decay\", \"cnts\" : cnts})"
   ]
  },
  {
   "cell_type": "code",
   "execution_count": 21,
   "id": "8d29a768-c192-4541-8de8-13856528ca7e",
   "metadata": {},
   "outputs": [
    {
     "data": {
      "image/png": "[encoded data removed]",
      "text/plain": [
       "<Figure size 432x288 with 1 Axes>"
      ]
     },
     "metadata": {
      "needs_background": "light"
     },
     "output_type": "display_data"
    }
   ],
   "source": [
    "import pandas as pd\n",
    "import seaborn as sns\n",
    "import matplotlib.pyplot as plt\n",
    "\n",
    "cnts = {\"No of Modes Found\" : [], \"Iteration\" : [], \"Method\" : []}\n",
    "for _ in cntsByMethod:\n",
    "    method = _[\"Method\"]\n",
    "    cntByIter = _[\"cnts\"]\n",
    "    for i, cnt in enumerate(cntByIter):\n",
    "        cnts[\"No of Modes Found\"].append(cnt)\n",
    "        cnts[\"Iteration\"].append(i + 1)\n",
    "        cnts[\"Method\"].append(method)\n",
    "        \n",
    "df = pd.DataFrame(cnts)\n",
    "\n",
    "sns.lineplot(data=df, x=\"Iteration\", y=\"No of Modes Found\", hue=\"Method\", palette=sns.color_palette('coolwarm', n_colors=2))\n",
    "plt.savefig(\"figs/ablationBaseDecay.png\", dpi = 300)"
   ]
  },
  {
   "cell_type": "code",
   "execution_count": null,
   "id": "f34c0bd9-137f-415e-a57c-23ff743c7ae7",
   "metadata": {},
   "outputs": [],
   "source": []
  }
 ],
 "metadata": {
  "kernelspec": {
   "display_name": "Python 3 (ipykernel)",
   "language": "python",
   "name": "python3"
  },
  "language_info": {
   "codemirror_mode": {
    "name": "ipython",
    "version": 3
   },
   "file_extension": ".py",
   "mimetype": "text/x-python",
   "name": "python",
   "nbconvert_exporter": "python",
   "pygments_lexer": "ipython3",
   "version": "3.9.7"
  }
 },
 "nbformat": 4,
 "nbformat_minor": 5
}
