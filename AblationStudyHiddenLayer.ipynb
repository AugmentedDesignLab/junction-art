{
 "cells": [
  {
   "cell_type": "code",
   "execution_count": 1,
   "id": "9d5a7d90-e46f-48cf-938f-cf17858b7628",
   "metadata": {},
   "outputs": [],
   "source": [
    "%load_ext autoreload\n",
    "%autoreload 2"
   ]
  },
  {
   "cell_type": "code",
   "execution_count": 2,
   "id": "d09018f5-a47e-4f2b-b498-28fd05123ae6",
   "metadata": {},
   "outputs": [],
   "source": [
    "import math\n",
    "from junctionart.roundabout.encodingGFN.gflownet.gflownet import GFlowNet\n",
    "from junctionart.roundabout.encodingGFN.policy import ForwardPolicy, BackwardPolicy\n",
    "from junctionart.roundabout.encodingGFN.setGenerationEnv import SetGenerationEnv\n",
    "from junctionart.roundabout.encodingGFN.gflownet.utils import trajectory_balance_loss\n",
    "from torch.optim import Adam\n",
    "from tqdm import tqdm\n",
    "import torch \n",
    "\n",
    "size = 5\n",
    "nActions = 30\n",
    "losses = []\n",
    "rewards = []\n",
    "\n",
    "flows = []\n",
    "threePoints = [\n",
    "            {\"x\": 80, \"y\": 20, \"heading\": math.radians(30),'leftLane': 1, 'rightLane': 1, 'medianType': None, 'skipEndpoint': None},\n",
    "            {\"x\": 210, \"y\": 20, \"heading\": math.radians(145),'leftLane': 1, 'rightLane': 2, 'medianType': None, 'skipEndpoint': None},\n",
    "            # {\"x\": 120, \"y\": 110, \"heading\": math.radians(280),'leftLane': 2, 'rightLane': 1, 'medianType': None, 'skipEndpoint': None},\n",
    "        ]\n",
    "\n",
    "\n",
    "# threePoints should not really be a part of setEnv. TO-DO: fix that later\n",
    "setEnv = SetGenerationEnv(size, nActions, threePoints)\n",
    "\n",
    "def train(batch_size, num_epochs, hidden_dim):\n",
    "    forward_policy = ForwardPolicy(setEnv.state_dim, hidden_dim=hidden_dim, num_actions=setEnv.num_actions)\n",
    "    backward_policy = BackwardPolicy(setEnv.state_dim, num_actions=setEnv.num_actions)\n",
    "    \n",
    "    model = GFlowNet(forward_policy, backward_policy, setEnv)\n",
    "\n",
    "    opt = Adam([\n",
    "        {\"params\": model.forward_policy.parameters()},\n",
    "        {\"params\": model.total_flow, \"lr\": 5e-2},\n",
    "    ],\n",
    "    lr=5e-5)\n",
    "    \n",
    "    for i in (p := tqdm(range(num_epochs))):\n",
    "        s0 = torch.zeros(batch_size, size).float()\n",
    "   \n",
    "        s, log, traj_length = model.sample_states(s0, return_log=True)\n",
    "\n",
    "        loss = trajectory_balance_loss(log.total_flow,\n",
    "                                       log.rewards,\n",
    "                                       log.fwd_probs,\n",
    "                                       log.back_probs)\n",
    "\n",
    "        \n",
    "        flows.append(model.total_flow.item())\n",
    "        rewards.append(log.rewards.mean())\n",
    "        losses.append(loss.item())\n",
    "        loss.backward()\n",
    "        torch.nn.utils.clip_grad_norm_(model.parameters(), 1e-2)\n",
    "        opt.step()\n",
    "        opt.zero_grad()\n",
    "        if i % 10 == 0: p.set_description(f\"{loss.item():.3f} T.L : {traj_length}\")\n",
    "\n",
    "    return model, losses, rewards, flows\n",
    "\n",
    "batch_size = 128\n",
    "num_epochs = 1000\n",
    "\n",
    "# model, losses, rewards, flows = train(batch_size, num_epochs)"
   ]
  },
  {
   "cell_type": "code",
   "execution_count": 3,
   "id": "00ca8a24-ded8-464f-b2a7-4e846c7a8b53",
   "metadata": {},
   "outputs": [],
   "source": [
    "import seaborn as sns\n",
    "import pandas as pd\n",
    "nIter = 1\n",
    "nBatch = 10**5\n",
    "def getDistinctModes(nIter, nBatch, model):\n",
    "    terminalStates = []\n",
    "    for i in tqdm(range(nIter)):\n",
    "        s0 = torch.zeros(nBatch, size).float()\n",
    "        s, traj_length = model.sample_states(s0, return_log=False)\n",
    "        terminalStates.append(s)\n",
    "\n",
    "    s = torch.concat(terminalStates)\n",
    "\n",
    "    statesForPlot = setEnv.getStateForm(s).long().tolist()\n",
    "    rewardsForPlot = setEnv.reward(s, showProgress=True).tolist()\n",
    "\n",
    "    cnts = []\n",
    "    cnt = 0\n",
    "\n",
    "    stateDict = {}\n",
    "    for i in tqdm(range(len(statesForPlot))):\n",
    "        state = str(statesForPlot[i])\n",
    "        if state in stateDict:\n",
    "            reward, freq = stateDict[state]\n",
    "            stateDict[state] = (reward, freq + 1)\n",
    "        else:\n",
    "            stateDict[state] = (rewardsForPlot[i], 1)\n",
    "            if rewardsForPlot[i] >= 10000**0.85:\n",
    "                cnt += 1\n",
    "        cnts.append(cnt)        \n",
    "    \n",
    "    return cnts\n"
   ]
  },
  {
   "cell_type": "code",
   "execution_count": 16,
   "id": "32f79b99-cb66-42da-a29b-42463f69520e",
   "metadata": {},
   "outputs": [
    {
     "name": "stderr",
     "output_type": "stream",
     "text": [
      "1.029 T.L : 6: 100%|████████████████████████████████████████████████████████████████████████| 1000/1000 [01:16<00:00, 13.14it/s]\n",
      "100%|█████████████████████████████████████████████████████████████████████████████████████████████| 1/1 [00:00<00:00,  2.11it/s]\n",
      "100%|█████████████████████████████████████████████████████████████████████████████████| 100000/100000 [00:47<00:00, 2092.02it/s]\n",
      "100%|███████████████████████████████████████████████████████████████████████████████| 100000/100000 [00:00<00:00, 853701.55it/s]\n",
      "0.841 T.L : 6: 100%|████████████████████████████████████████████████████████████████████████| 1000/1000 [01:16<00:00, 13.02it/s]\n",
      "100%|█████████████████████████████████████████████████████████████████████████████████████████████| 1/1 [00:00<00:00,  1.56it/s]\n",
      "100%|█████████████████████████████████████████████████████████████████████████████████| 100000/100000 [00:47<00:00, 2087.23it/s]\n",
      "100%|███████████████████████████████████████████████████████████████████████████████| 100000/100000 [00:00<00:00, 832908.83it/s]\n",
      "0.807 T.L : 6: 100%|████████████████████████████████████████████████████████████████████████| 1000/1000 [01:18<00:00, 12.71it/s]\n",
      "100%|█████████████████████████████████████████████████████████████████████████████████████████████| 1/1 [00:00<00:00,  1.64it/s]\n",
      "100%|█████████████████████████████████████████████████████████████████████████████████| 100000/100000 [00:47<00:00, 2092.16it/s]\n",
      "100%|███████████████████████████████████████████████████████████████████████████████| 100000/100000 [00:00<00:00, 858257.42it/s]\n",
      "0.675 T.L : 6: 100%|████████████████████████████████████████████████████████████████████████| 1000/1000 [01:21<00:00, 12.29it/s]\n",
      "100%|█████████████████████████████████████████████████████████████████████████████████████████████| 1/1 [00:00<00:00,  1.31it/s]\n",
      "100%|█████████████████████████████████████████████████████████████████████████████████| 100000/100000 [00:46<00:00, 2142.95it/s]\n",
      "100%|███████████████████████████████████████████████████████████████████████████████| 100000/100000 [00:00<00:00, 741480.66it/s]\n",
      "0.581 T.L : 6: 100%|████████████████████████████████████████████████████████████████████████| 1000/1000 [01:25<00:00, 11.66it/s]\n",
      "100%|█████████████████████████████████████████████████████████████████████████████████████████████| 1/1 [00:01<00:00,  1.57s/it]\n",
      "100%|█████████████████████████████████████████████████████████████████████████████████| 100000/100000 [00:47<00:00, 2123.51it/s]\n",
      "100%|███████████████████████████████████████████████████████████████████████████████| 100000/100000 [00:00<00:00, 237594.01it/s]\n",
      "0.401 T.L : 6: 100%|████████████████████████████████████████████████████████████████████████| 1000/1000 [01:32<00:00, 10.84it/s]\n",
      "100%|█████████████████████████████████████████████████████████████████████████████████████████████| 1/1 [00:03<00:00,  3.95s/it]\n",
      "100%|█████████████████████████████████████████████████████████████████████████████████| 100000/100000 [00:46<00:00, 2134.49it/s]\n",
      "100%|███████████████████████████████████████████████████████████████████████████████| 100000/100000 [00:00<00:00, 922473.83it/s]\n"
     ]
    }
   ],
   "source": [
    "cntsByHiddenLayer = []\n",
    "for hiddenLayer in [32, 64, 128, 256, 512, 1024]:\n",
    "    batch_size = 128\n",
    "    num_epochs = 1000\n",
    "    model, losses, rewards, flows = train(batch_size, num_epochs, hidden_dim=hiddenLayer)\n",
    "    nIter = 1\n",
    "    nBatch = 10**5\n",
    "    cnts = getDistinctModes(nIter, nBatch=nBatch, model=model)\n",
    "    cntsByHiddenLayer.append({\"Hidden Dim\" : hiddenLayer, \"cnts\" : cnts})"
   ]
  },
  {
   "cell_type": "code",
   "execution_count": 26,
   "id": "d66f38c5-75b0-49f4-acc8-207194f7a7d6",
   "metadata": {},
   "outputs": [
    {
     "data": {
      "image/png": "[encoded data removed]",
      "text/plain": [
       "<Figure size 432x288 with 1 Axes>"
      ]
     },
     "metadata": {
      "needs_background": "light"
     },
     "output_type": "display_data"
    }
   ],
   "source": [
    "import pandas as pd\n",
    "import seaborn as sns\n",
    "import matplotlib.pyplot as plt\n",
    "\n",
    "cntByHiddenLayer = [{\"Hidden Dim\" : _[\"Hidden Dim\"], \"No of Modes Found\" : _[\"cnts\"][-1]} for _ in cntsByHiddenLayer]\n",
    "df = pd.DataFrame(cntByHiddenLayer)\n",
    "\n",
    "sns.barplot(data=df, x = \"Hidden Dim\", y = \"No of Modes Found\", palette=sns.color_palette('coolwarm', n_colors=6)) \n",
    "plt.savefig(\"figs/ablationHidden.png\", dpi=300)"
   ]
  },
  {
   "cell_type": "code",
   "execution_count": 23,
   "id": "1ec6ea4e-4209-4db3-8fa1-84b1fa083748",
   "metadata": {},
   "outputs": [
    {
     "data": {
      "text/plain": [
       "<AxesSubplot:xlabel='Iteration', ylabel='No of Modes Found'>"
      ]
     },
     "execution_count": 23,
     "metadata": {},
     "output_type": "execute_result"
    },
    {
     "data": {
      "image/png": "[encoded data removed]",
      "text/plain": [
       "<Figure size 432x288 with 1 Axes>"
      ]
     },
     "metadata": {
      "needs_background": "light"
     },
     "output_type": "display_data"
    }
   ],
   "source": [
    "cnts = {\"No of Modes Found\" : [], \"Iteration\" : [], \"Hidden Dim\" : []}\n",
    "for _ in cntsByHiddenLayer:\n",
    "    hiddenDim = _[\"Hidden Dim\"]\n",
    "    cntByIter = _[\"cnts\"]\n",
    "    for i, cnt in enumerate(cntByIter):\n",
    "        cnts[\"No of Modes Found\"].append(cnt)\n",
    "        cnts[\"Iteration\"].append(i + 1)\n",
    "        cnts[\"Hidden Dim\"].append(hiddenDim)\n",
    "df = pd.DataFrame(cnts)\n",
    "\n",
    "sns.lineplot(data=df, x=\"Iteration\", y=\"No of Modes Found\", hue=\"Hidden Dim\", palette=sns.color_palette('coolwarm', n_colors=6))"
   ]
  }
 ],
 "metadata": {
  "kernelspec": {
   "display_name": "Python 3 (ipykernel)",
   "language": "python",
   "name": "python3"
  },
  "language_info": {
   "codemirror_mode": {
    "name": "ipython",
    "version": 3
   },
   "file_extension": ".py",
   "mimetype": "text/x-python",
   "name": "python",
   "nbconvert_exporter": "python",
   "pygments_lexer": "ipython3",
   "version": "3.9.7"
  }
 },
 "nbformat": 4,
 "nbformat_minor": 5
}
