{
 "cells": [
  {
   "cell_type": "code",
   "execution_count": null,
   "metadata": {},
   "outputs": [],
   "source": [
    "exec(open(\"init_notebook.py\").read())"
   ]
  },
  {
   "cell_type": "code",
   "execution_count": 2,
   "metadata": {},
   "outputs": [],
   "source": [
    "%load_ext autoreload\n",
    "%autoreload 2"
   ]
  },
  {
   "cell_type": "code",
   "execution_count": 3,
   "metadata": {},
   "outputs": [],
   "source": [
    "import junctionart.extensions as extensions, os, dill\n",
    "import numpy as np\n",
    "import pyodrx as pyodrx\n",
    "import logging\n",
    "from junctionart.library.Configuration import Configuration\n",
    "from junctionart.junctions.SequentialJunctionBuilder import SequentialJunctionBuilder\n",
    "from junctionart.junctions.LaneConfiguration import LaneConfigurationStrategies\n",
    "from junctionart.junctions.IntersectionValidator import IntersectionValidator\n",
    "from analysis.metrics.travel.ConnectionRoadComplexity import ConnectionRoadComplexity\n",
    "from analysis.metrics.MetricManager import MetricManager\n",
    "\n",
    "from analysis.core.Histogram import Histogram\n",
    "from analysis.core.ScatterPlot import ScatterPlot\n",
    "\n",
    "from analysis.core.MetricsPlotter import MetricsPlotter\n",
    "import seaborn as sns\n",
    "\n",
    "from tqdm import tqdm\n",
    "\n",
    "logging.basicConfig(level=logging.ERROR)\n"
   ]
  },
  {
   "cell_type": "markdown",
   "metadata": {},
   "source": [
    "# Collecting Metrics from Intersection Objects"
   ]
  },
  {
   "cell_type": "code",
   "execution_count": 4,
   "metadata": {},
   "outputs": [],
   "source": [
    "def loadIntersections(path):\n",
    "    intersections = None\n",
    "    with open(path, 'rb') as handler:\n",
    "        intersections = dill.load(handler)\n",
    "    return intersections"
   ]
  },
  {
   "cell_type": "code",
   "execution_count": null,
   "metadata": {},
   "outputs": [
    {
     "name": "stdout",
     "output_type": "stream",
     "text": [
      "calculating stats for output/Sequential-intersections-3way-1000.dill\n"
     ]
    },
    {
     "name": "stderr",
     "output_type": "stream",
     "text": [
      "calculateIntersectionStatistics: 100%|█████████████████████████████████████████████| 1000/1000 [12:15<00:00,  1.36it/s]\n"
     ]
    },
    {
     "name": "stdout",
     "output_type": "stream",
     "text": [
      "output/Sequential-intersections-3way-1000/2022-10-12-incidentRoadDF.csv\n",
      "output/Sequential-intersections-3way-1000/2022-10-12-connectionRoadDF.csv\n",
      "output/Sequential-intersections-3way-1000/2022-10-12-intersectionDF.csv\n",
      "calculating stats for output/Sequential-intersections-2lane-3way-1000.dill\n"
     ]
    },
    {
     "name": "stderr",
     "output_type": "stream",
     "text": [
      "calculateIntersectionStatistics: 100%|█████████████████████████████████████████████| 1000/1000 [09:16<00:00,  1.80it/s]\n"
     ]
    },
    {
     "name": "stdout",
     "output_type": "stream",
     "text": [
      "output/Sequential-intersections-2lane-3way-1000/2022-10-12-incidentRoadDF.csv\n",
      "output/Sequential-intersections-2lane-3way-1000/2022-10-12-connectionRoadDF.csv\n",
      "output/Sequential-intersections-2lane-3way-1000/2022-10-12-intersectionDF.csv\n",
      "calculating stats for output/Sequential-intersections-4way-1000.dill\n"
     ]
    },
    {
     "name": "stderr",
     "output_type": "stream",
     "text": [
      "calculateIntersectionStatistics: 100%|█████████████████████████████████████████████| 1000/1000 [21:24<00:00,  1.28s/it]\n"
     ]
    },
    {
     "name": "stdout",
     "output_type": "stream",
     "text": [
      "output/Sequential-intersections-4way-1000/2022-10-12-incidentRoadDF.csv\n",
      "output/Sequential-intersections-4way-1000/2022-10-12-connectionRoadDF.csv\n",
      "output/Sequential-intersections-4way-1000/2022-10-12-intersectionDF.csv\n",
      "calculating stats for output/Sequential-intersections-2lane-4way-1000.dill\n"
     ]
    },
    {
     "name": "stderr",
     "output_type": "stream",
     "text": [
      "calculateIntersectionStatistics: 100%|█████████████████████████████████████████████| 1000/1000 [15:25<00:00,  1.08it/s]\n"
     ]
    },
    {
     "name": "stdout",
     "output_type": "stream",
     "text": [
      "output/Sequential-intersections-2lane-4way-1000/2022-10-12-incidentRoadDF.csv\n",
      "output/Sequential-intersections-2lane-4way-1000/2022-10-12-connectionRoadDF.csv\n",
      "output/Sequential-intersections-2lane-4way-1000/2022-10-12-intersectionDF.csv\n",
      "calculating stats for output/Sequential-intersections-5way-1000.dill\n"
     ]
    },
    {
     "name": "stderr",
     "output_type": "stream",
     "text": [
      "calculateIntersectionStatistics: 100%|█████████████████████████████████████████████| 1000/1000 [32:49<00:00,  1.97s/it]\n"
     ]
    },
    {
     "name": "stdout",
     "output_type": "stream",
     "text": [
      "output/Sequential-intersections-5way-1000/2022-10-12-incidentRoadDF.csv\n",
      "output/Sequential-intersections-5way-1000/2022-10-12-connectionRoadDF.csv\n",
      "output/Sequential-intersections-5way-1000/2022-10-12-intersectionDF.csv\n",
      "calculating stats for output/Sequential-intersections-2lane-5way-1000.dill\n"
     ]
    },
    {
     "name": "stderr",
     "output_type": "stream",
     "text": [
      "calculateIntersectionStatistics: 100%|█████████████████████████████████████████████| 1000/1000 [22:32<00:00,  1.35s/it]\n"
     ]
    },
    {
     "name": "stdout",
     "output_type": "stream",
     "text": [
      "output/Sequential-intersections-2lane-5way-1000/2022-10-12-incidentRoadDF.csv\n",
      "output/Sequential-intersections-2lane-5way-1000/2022-10-12-connectionRoadDF.csv\n",
      "output/Sequential-intersections-2lane-5way-1000/2022-10-12-intersectionDF.csv\n",
      "calculating stats for output/Sequential-intersections-6way-1000.dill\n"
     ]
    },
    {
     "name": "stderr",
     "output_type": "stream",
     "text": [
      "calculateIntersectionStatistics:  25%|███████████▌                                  | 250/1000 [11:33<35:40,  2.85s/it]"
     ]
    }
   ],
   "source": [
    "# path = \"output/Sequential-intersections-3way-3000.dilll\"\n",
    "# path = \"output/Sequential-intersections-2lane-3way-3000.dill\"\n",
    "\n",
    "paths = [\n",
    "    \"output/Sequential-intersections-3way-1000.dill\",\n",
    "    \"output/Sequential-intersections-2lane-3way-1000.dill\",\n",
    "    \"output/Sequential-intersections-4way-1000.dill\",\n",
    "    \"output/Sequential-intersections-2lane-4way-1000.dill\",\n",
    "    \"output/Sequential-intersections-5way-1000.dill\",\n",
    "    \"output/Sequential-intersections-2lane-5way-1000.dill\",\n",
    "    \"output/Sequential-intersections-6way-1000.dill\",\n",
    "    \"output/Sequential-intersections-2lane-6way-1000.dill\"\n",
    "]\n",
    "\n",
    "for path in paths:\n",
    "    print(f\"calculating stats for {path}\")\n",
    "    intersections = loadIntersections(path)\n",
    "    metricManager = MetricManager(intersections)\n",
    "    path = path.replace(\".dill\", \"\")\n",
    "    metricManager.exportDataframes(path=path)"
   ]
  },
  {
   "cell_type": "markdown",
   "metadata": {},
   "source": [
    "# Plotting Metrics"
   ]
  },
  {
   "cell_type": "code",
   "execution_count": null,
   "metadata": {},
   "outputs": [],
   "source": [
    "class StyledMetricsPlotter():\n",
    "\n",
    "    def __init__(self,\n",
    "                incidentPath,\n",
    "                connectionPath,\n",
    "                intersectionPath\n",
    "                ) -> None:\n",
    "        \n",
    "        path= os.path.join(os.getcwd(), 'analysis/output')\n",
    "\n",
    "#         date = \"randlane/2021-08-21\"\n",
    "\n",
    "#         incidentPath = f\"{path}/{date}-incidentRoadDF.csv\"\n",
    "#         connectionPath = f\"{path}/{date}-connectionRoadDF.csv\"\n",
    "#         intersectionPath = f\"{path}/{date}-intersectionDF.csv\"\n",
    "\n",
    "        self.plotter = MetricsPlotter(incidentPath=incidentPath, connectionPath=connectionPath, intersectionPath=intersectionPath)\n",
    "    \n",
    "\n",
    "    def test_Incident_Histo(self):\n",
    "        self.plotter.plotIncidentHist(subplots=True)\n",
    "\n",
    "    def test_IncidentDistribution(self):\n",
    "        self.plotter.plotIncidentDistributions(subplots=True)\n",
    "\n",
    "    # def test_Incident_Complexity(self):\n",
    "    #     self.plotter.plotIncidentComplexity(subplots=True)\n",
    "\n",
    "    def test_Incident_HeatMaps_Complexity(self):\n",
    "        sns.set_context(\"talk\")\n",
    "        self.plotter.plotIncidentHeatMapsComplexity()\n",
    "\n",
    "    def test_Incident_HeatMaps_ComplexityMax(self):\n",
    "        sns.set_context(\"talk\")\n",
    "        self.plotter.plotIncidentHeatMapsComplexityMax()\n",
    "\n",
    "\n",
    "    def test_plotIncidentHeatMapsCurvatureFov(self):\n",
    "        # sns.set_context(\"talk\")\n",
    "        self.plotter.plotIncidentHeatMapsCurvatureFov()\n",
    "    def test_Incident_ComplexityRelation(self):\n",
    "        self.plotter.plotIncidentComplexityVs()\n",
    "\n",
    "    \n",
    "    def test_Connection_Curvature(self):\n",
    "        # sns.color_palette(\"Paired\")\n",
    "        sns.set_context(\"talk\")\n",
    "        self.plotter.plotConnectionPropertyHistGroupedByLegs(\"turnCurvature\")\n",
    "\n",
    "    def test_Incident_Curvature(self):\n",
    "        # sns.color_palette(\"viridis\", as_cmap=True)\n",
    "        sns.set_context(\"talk\")\n",
    "        self.plotter.plotIncidentPropertyHistGroupedByLegs(\"maxCurvature\")\n",
    "\n",
    "    def test_Incident_Complexity(self):\n",
    "        # sns.color_palette(\"viridis\", as_cmap=True)\n",
    "        sns.set_context(\"talk\")\n",
    "        self.plotter.plotIncidentPropertyHistGroupedByLegs(\"complexity_avg\")\n",
    "\n",
    "    def test_Incident_FOV(self):\n",
    "        # sns.color_palette(\"viridis\", as_cmap=True)\n",
    "        sns.set_context(\"talk\")\n",
    "        self.plotter.plotIncidentPropertyHistGroupedByLegs(\"fov\")\n",
    "\n",
    "    def test_Incident_Deviation(self):\n",
    "        # sns.color_palette(\"viridis\", as_cmap=True)\n",
    "        sns.set_context(\"talk\")\n",
    "        self.plotter.plotIncidentPropertyHistGroupedByLegs(\"cornerDeviation\")\n",
    "\n",
    "    \n",
    "    def test_plotIntersectionPropertyHistGroupedByLegs(self):\n",
    "        sns.set_context(\"talk\")\n",
    "        self.plotter.plotIntersectionPropertyHist(\"numberOfIncidentRoads\", xlabel=\"nIncidentRoads\", kde=False)\n",
    "        self.plotter.plotIntersectionPropertyHistGroupedByLegs(\"numberOfConnectionRoads\", xlabel=\"nConnectionRoads\")\n",
    "        self.plotter.plotIntersectionPropertyHistGroupedByLegs(\"area\")\n",
    "        self.plotter.plotIntersectionPropertyHistGroupedByLegs(\"conflictArea\")\n",
    "        self.plotter.plotIntersectionPropertyHistGroupedByLegs(\"conflictRatio\")\n",
    "        # sns.plotIntersectionPropertyHistGroupedByLegs(\"conflictArea\")\n",
    "\n",
    "    \n",
    "    \n",
    "    def test_plotIntersectionHeatmaps(self):\n",
    "        # sns.set_context(\"talk\")\n",
    "        self.plotter.plotIntersectionHeatMaps(scale=10)\n",
    "\n",
    "    \n",
    "    def test_printIntersectionHead(self):\n",
    "        self.plotter.printIntersectionHead()\n"
   ]
  },
  {
   "cell_type": "code",
   "execution_count": null,
   "metadata": {},
   "outputs": [],
   "source": [
    "%matplotlib inline\n",
    "prefix = \"output/Sequential-intersections-1000/2022-10-08\"\n",
    "plotter = StyledMetricsPlotter(\n",
    "            incidentPath=f\"{prefix}-incidentRoadDF.csv\",\n",
    "            connectionPath=f\"{prefix}-connectionRoadDF.csv\",\n",
    "            intersectionPath=f\"{prefix}-intersectionDF.csv\"\n",
    "            )\n",
    "\n",
    "\n"
   ]
  },
  {
   "cell_type": "code",
   "execution_count": null,
   "metadata": {},
   "outputs": [],
   "source": [
    "plotter.test_Incident_Histo()"
   ]
  },
  {
   "cell_type": "code",
   "execution_count": null,
   "metadata": {},
   "outputs": [],
   "source": [
    "plotter.test_IncidentDistribution()"
   ]
  },
  {
   "cell_type": "code",
   "execution_count": null,
   "metadata": {},
   "outputs": [],
   "source": [
    "plotter.test_Incident_HeatMaps_Complexity()"
   ]
  },
  {
   "cell_type": "code",
   "execution_count": null,
   "metadata": {},
   "outputs": [],
   "source": []
  }
 ],
 "metadata": {
  "kernelspec": {
   "display_name": "Python 3",
   "language": "python",
   "name": "python3"
  },
  "language_info": {
   "codemirror_mode": {
    "name": "ipython",
    "version": 3
   },
   "file_extension": ".py",
   "mimetype": "text/x-python",
   "name": "python",
   "nbconvert_exporter": "python",
   "pygments_lexer": "ipython3",
   "version": "3.7.9"
  }
 },
 "nbformat": 4,
 "nbformat_minor": 4
}
