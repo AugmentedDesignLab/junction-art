{
 "cells": [
  {
   "cell_type": "code",
   "execution_count": 1,
   "metadata": {},
   "outputs": [
    {
     "name": "stdout",
     "output_type": "stream",
     "text": [
      "current working dirc:\\muktadir\\junction-art\n"
     ]
    }
   ],
   "source": [
    "exec(open(\"init_notebook.py\").read())"
   ]
  },
  {
   "cell_type": "code",
   "execution_count": 2,
   "metadata": {},
   "outputs": [],
   "source": [
    "\n",
    "from junctionart.library.Configuration import Configuration\n",
    "import junctionart.extensions as extensions, os, logging"
   ]
  },
  {
   "cell_type": "code",
   "execution_count": 3,
   "metadata": {},
   "outputs": [],
   "source": [
    "configuration = Configuration()"
   ]
  },
  {
   "cell_type": "code",
   "execution_count": 7,
   "metadata": {},
   "outputs": [
    {
     "name": "stdout",
     "output_type": "stream",
     "text": [
      "name 'ControlLineBasedGenerator' is not defined\n"
     ]
    }
   ],
   "source": [
    "\n",
    "for seed in range(1,2):\n",
    "    try:\n",
    "        generator = ControlLineBasedGenerator((400, 400), debug=False, seed=seed, randomizeDistance=False, randomizeHeading=True)\n",
    "        odr = generator.generateWithHorizontalControlines(\"test_generateWithHorizontalControlines\", 4, plotGrid=False)\n",
    "\n",
    "        # xmlPath = f\"output/test_generateWithHorizontalControlines.xodr\"\n",
    "        # odr.write_xml(xmlPath)\n",
    "        extensions.view_road(odr, os.path.join('..',self.configuration.get(\"esminipath\"))) \n",
    "    except Exception as e:\n",
    "        print(e)\n",
    "        pass"
   ]
  },
  {
   "cell_type": "code",
   "execution_count": null,
   "metadata": {},
   "outputs": [],
   "source": []
  }
 ],
 "metadata": {
  "kernelspec": {
   "display_name": "Python 3",
   "language": "python",
   "name": "python3"
  },
  "language_info": {
   "codemirror_mode": {
    "name": "ipython",
    "version": 3
   },
   "file_extension": ".py",
   "mimetype": "text/x-python",
   "name": "python",
   "nbconvert_exporter": "python",
   "pygments_lexer": "ipython3",
   "version": "3.7.9"
  }
 },
 "nbformat": 4,
 "nbformat_minor": 5
}
