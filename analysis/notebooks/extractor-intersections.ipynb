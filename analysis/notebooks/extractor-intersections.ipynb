{
 "cells": [
  {
   "cell_type": "code",
   "execution_count": 1,
   "metadata": {},
   "outputs": [
    {
     "name": "stdout",
     "output_type": "stream",
     "text": [
      "current working dirc:\\muktadir\\junction-art\n"
     ]
    }
   ],
   "source": [
    "exec(open(\"init_notebook.py\").read())"
   ]
  },
  {
   "cell_type": "code",
   "execution_count": 2,
   "metadata": {},
   "outputs": [],
   "source": [
    "%load_ext autoreload\n",
    "%autoreload 2"
   ]
  },
  {
   "cell_type": "code",
   "execution_count": 13,
   "metadata": {},
   "outputs": [],
   "source": [
    "import dill\n",
    "import os\n",
    "import numpy as np\n",
    "from junctionart.library.Configuration import Configuration\n",
    "from junctionart.junctions.LaneConfigurationStrategies import LaneConfigurationStrategies\n",
    "from junctionart.junctions.IntersectionValidator import IntersectionValidator\n",
    "from junctionart.junctions.SequentialJunctionBuilder import SequentialJunctionBuilder\n",
    "import junctionart.extensions as extensions\n",
    "import pyodrx as pyodrx\n",
    "import logging\n",
    "from tqdm import tqdm\n",
    "logging.basicConfig(level=logging.INFO)"
   ]
  },
  {
   "cell_type": "code",
   "execution_count": 21,
   "metadata": {},
   "outputs": [],
   "source": [
    "class SequentialIntersectionExporter():\n",
    "\n",
    "    def __init__(self):\n",
    "        \n",
    "        self.configuration = Configuration()\n",
    "        self.outputDir= os.path.join(os.getcwd(), 'output')\n",
    "        lastId = 0\n",
    "        self.seed = 2\n",
    "        self.builder = SequentialJunctionBuilder(\n",
    "                                                    minAngle=np.pi/10, \n",
    "                                                    maxAngle=np.pi * .75,\n",
    "                                                    straightRoadLen=5, \n",
    "                                                    probLongConnection=0.5,\n",
    "                                                    probMinAngle=0.5,\n",
    "                                                    probRestrictedLane=0.2,\n",
    "                                                    maxConnectionLength=50,\n",
    "                                                    minConnectionLength=20,\n",
    "                                                    random_seed=self.seed)\n",
    "        \n",
    "        self.randomState =self.configuration.get(\"random_state\")\n",
    "        self.validator = IntersectionValidator()\n",
    "\n",
    "        pass\n",
    "    \n",
    "    def gen(self,\n",
    "        maxNumberOfRoadsPerJunction = 3,\n",
    "        minLanePerSide = 1,\n",
    "        maxLanePerSide = 2,\n",
    "        numberOfIntersections = 10):\n",
    "\n",
    "        created = 0\n",
    "        intersections = []\n",
    "        # create \n",
    "        with tqdm(total=numberOfIntersections) as pbar:\n",
    "            while created < numberOfIntersections:\n",
    "                path = self.configuration.get(\"harvested_straight_roads\")\n",
    "                intersection = self.builder.createWithRandomLaneConfigurations(path, \n",
    "                                    0, \n",
    "                                    maxNumberOfRoadsPerJunction=maxNumberOfRoadsPerJunction, \n",
    "                                    maxLanePerSide=maxLanePerSide, \n",
    "                                    minLanePerSide=minLanePerSide, \n",
    "                                    internalConnections=True, \n",
    "                                    cp1=pyodrx.ContactPoint.end,\n",
    "                                    internalLinkStrategy = LaneConfigurationStrategies.SPLIT_ANY,\n",
    "                                    getAsOdr=False)\n",
    "\n",
    "\n",
    "#                 odr = intersection.odr\n",
    "                # xmlPath = f\"output/test_createWithRandomLaneConfigurations-split-any-{maxNumberOfRoadsPerJunction}-{sl}.xodr\"\n",
    "#                 xmlPath = f\"output/seed-{self.seed}-{maxNumberOfRoadsPerJunction}-way-{sl}.xodr\"\n",
    "#                 odr.write_xml(xmlPath)\n",
    "                isValid = self.validator.validateIncidentPoints(intersection, self.builder.minConnectionLength)\n",
    "                if isValid:\n",
    "                    intersections.append(intersection)\n",
    "                    created += 1\n",
    "                    pbar.update(1)\n",
    "\n",
    "                if created % 1000 == 0:\n",
    "                    print(f\"generated {created}\")\n",
    "        \n",
    "        \n",
    "        return intersections\n",
    "    \n",
    "    def save(self, outputPath, intersections):\n",
    "        with open(outputPath, 'wb') as handler:\n",
    "            print(f\"writing out {len(intersections)}\")\n",
    "            dill.dump(intersections, handler)\n",
    "    \n",
    "    def genNSave(self, \n",
    "        maxNumberOfRoadsPerJunction = 3,\n",
    "        minLanePerSide = 1,\n",
    "        maxLanePerSide = 2,\n",
    "        numberOfIntersections = 10):\n",
    "        \n",
    "        intersections = self.gen(\n",
    "            maxNumberOfRoadsPerJunction = maxNumberOfRoadsPerJunction,\n",
    "            minLanePerSide = minLanePerSide,\n",
    "            maxLanePerSide = maxLanePerSide,\n",
    "            numberOfIntersections = numberOfIntersections\n",
    "        )\n",
    "        \n",
    "        laneStr = \"\"\n",
    "        if minLanePerSide == maxLanePerSide and minLanePerSide == 1:\n",
    "            laneStr = \"-2lane\"\n",
    "        \n",
    "        outputPath = os.path.join(self.outputDir, f\"Sequential-intersections{laneStr}-{numberOfIntersections}.dill\")\n",
    "\n",
    "        self.save(outputPath, intersections)\n",
    "        \n",
    "\n",
    "                    \n"
   ]
  },
  {
   "cell_type": "code",
   "execution_count": 19,
   "metadata": {},
   "outputs": [],
   "source": [
    "exporter = SequentialIntersectionExporter()"
   ]
  },
  {
   "cell_type": "code",
   "execution_count": 20,
   "metadata": {},
   "outputs": [
    {
     "name": "stderr",
     "output_type": "stream",
     "text": [
      "100%|██████████████████████████████████████████████████████████████████████████████████| 10/10 [00:00<00:00, 27.78it/s]\n"
     ]
    },
    {
     "name": "stdout",
     "output_type": "stream",
     "text": [
      "writing out 10\n",
      "None\n"
     ]
    }
   ],
   "source": [
    "exporter.genNSave()"
   ]
  },
  {
   "cell_type": "code",
   "execution_count": null,
   "metadata": {},
   "outputs": [],
   "source": []
  }
 ],
 "metadata": {
  "kernelspec": {
   "display_name": "Python 3",
   "language": "python",
   "name": "python3"
  },
  "language_info": {
   "codemirror_mode": {
    "name": "ipython",
    "version": 3
   },
   "file_extension": ".py",
   "mimetype": "text/x-python",
   "name": "python",
   "nbconvert_exporter": "python",
   "pygments_lexer": "ipython3",
   "version": "3.7.9"
  }
 },
 "nbformat": 4,
 "nbformat_minor": 4
}
