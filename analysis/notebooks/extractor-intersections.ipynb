{
 "cells": [
  {
   "cell_type": "code",
   "execution_count": 2,
   "metadata": {},
   "outputs": [
    {
     "name": "stdout",
     "output_type": "stream",
     "text": [
      "current working dirc:\\muktadir\\junction-art\n"
     ]
    }
   ],
   "source": [
    "exec(open(\"init_notebook.py\").read())"
   ]
  },
  {
   "cell_type": "code",
   "execution_count": 3,
   "metadata": {},
   "outputs": [],
   "source": [
    "%load_ext autoreload\n",
    "%autoreload 2"
   ]
  },
  {
   "cell_type": "code",
   "execution_count": 4,
   "metadata": {},
   "outputs": [],
   "source": [
    "import dill\n",
    "import os\n",
    "import numpy as np\n",
    "from junctionart.library.Configuration import Configuration\n",
    "from junctionart.junctions.LaneConfigurationStrategies import LaneConfigurationStrategies\n",
    "from junctionart.junctions.IntersectionValidator import IntersectionValidator\n",
    "from junctionart.junctions.SequentialJunctionBuilder import SequentialJunctionBuilder\n",
    "import junctionart.extensions as extensions\n",
    "import pyodrx as pyodrx\n",
    "import logging\n",
    "from tqdm import tqdm\n",
    "logging.basicConfig(level=logging.INFO)"
   ]
  },
  {
   "cell_type": "code",
   "execution_count": 33,
   "metadata": {},
   "outputs": [],
   "source": [
    "class SequentialIntersectionExporter():\n",
    "\n",
    "    def __init__(self):\n",
    "        \n",
    "        self.configuration = Configuration()\n",
    "        self.outputDir= os.path.join(os.getcwd(), 'output')\n",
    "        lastId = 0\n",
    "        self.seed = 2\n",
    "        self.builder = SequentialJunctionBuilder(\n",
    "                                                    minAngle=np.pi/10, \n",
    "                                                    maxAngle=np.pi * .75,\n",
    "                                                    straightRoadLen=5, \n",
    "                                                    probLongConnection=0.5,\n",
    "                                                    probMinAngle=0.5,\n",
    "                                                    probRestrictedLane=0.2,\n",
    "                                                    maxConnectionLength=50,\n",
    "                                                    minConnectionLength=20,\n",
    "                                                    random_seed=self.seed)\n",
    "        \n",
    "        self.randomState =self.configuration.get(\"random_state\")\n",
    "        self.validator = IntersectionValidator()\n",
    "\n",
    "        pass\n",
    "    \n",
    "    def gen(self,\n",
    "        nLegs = 3,\n",
    "        minLanePerSide = 1,\n",
    "        maxLanePerSide = 2,\n",
    "        numberOfIntersections = 10):\n",
    "\n",
    "        created = 0\n",
    "        intersections = []\n",
    "        # create \n",
    "        with tqdm(total=numberOfIntersections, desc=f\"{nLegs}way intersections {minLanePerSide}, {maxLanePerSide}\") as pbar:\n",
    "            while created < numberOfIntersections:\n",
    "                path = self.configuration.get(\"harvested_straight_roads\")\n",
    "                intersection = self.builder.createWithRandomLaneConfigurations(path, \n",
    "                                    0, \n",
    "                                    maxNumberOfRoadsPerJunction=nLegs, \n",
    "                                    maxLanePerSide=maxLanePerSide, \n",
    "                                    minLanePerSide=minLanePerSide, \n",
    "                                    internalConnections=True, \n",
    "                                    cp1=pyodrx.ContactPoint.end,\n",
    "                                    internalLinkStrategy = LaneConfigurationStrategies.SPLIT_ANY,\n",
    "                                    getAsOdr=False)\n",
    "\n",
    "\n",
    "#                 odr = intersection.odr\n",
    "                # xmlPath = f\"output/test_createWithRandomLaneConfigurations-split-any-{maxNumberOfRoadsPerJunction}-{sl}.xodr\"\n",
    "#                 xmlPath = f\"output/seed-{self.seed}-{maxNumberOfRoadsPerJunction}-way-{sl}.xodr\"\n",
    "#                 odr.write_xml(xmlPath)\n",
    "                isValid = self.validator.validateIncidentPoints(intersection, self.builder.minConnectionLength)\n",
    "                if isValid and len(intersection.incidentRoads) == nLegs:\n",
    "                    intersections.append(intersection)\n",
    "                    created += 1\n",
    "                    pbar.update(1)\n",
    "\n",
    "#                 if created % 1000 == 0:\n",
    "#                     print(f\"generated {created}\")\n",
    "        \n",
    "        \n",
    "        return intersections\n",
    "    \n",
    "    def save(self, outputPath, intersections):\n",
    "        with open(outputPath, 'wb') as handler:\n",
    "            print(f\"Writing out {len(intersections)} intersections at {outputPath}\")\n",
    "            dill.dump(intersections, handler)\n",
    "    \n",
    "    def genNSave(self, \n",
    "        nLegs = 3,\n",
    "        minLanePerSide = 1,\n",
    "        maxLanePerSide = 2,\n",
    "        numberOfIntersections = 10):\n",
    "        \n",
    "        intersections = self.gen(\n",
    "            nLegs = nLegs,\n",
    "            minLanePerSide = minLanePerSide,\n",
    "            maxLanePerSide = maxLanePerSide,\n",
    "            numberOfIntersections = numberOfIntersections\n",
    "        )\n",
    "        \n",
    "        laneStr = \"\"\n",
    "        if minLanePerSide == maxLanePerSide and minLanePerSide == 1:\n",
    "            laneStr = \"-2lane\"\n",
    "        \n",
    "        outputPath = os.path.join(self.outputDir, f\"Sequential-intersections{laneStr}-{nLegs}way-{numberOfIntersections}.dill\")\n",
    "\n",
    "        self.save(outputPath, intersections)\n",
    "        \n",
    "        \n",
    "\n",
    "                    \n"
   ]
  },
  {
   "cell_type": "code",
   "execution_count": 34,
   "metadata": {},
   "outputs": [],
   "source": [
    "exporter = SequentialIntersectionExporter()"
   ]
  },
  {
   "cell_type": "code",
   "execution_count": 35,
   "metadata": {},
   "outputs": [
    {
     "name": "stdout",
     "output_type": "stream",
     "text": [
      "Generating 3ways\n"
     ]
    },
    {
     "name": "stderr",
     "output_type": "stream",
     "text": [
      "3way intersections 1, 2:  34%|█████████████████▊                                   | 1005/3000 [00:31<00:59, 33.59it/s]"
     ]
    },
    {
     "name": "stdout",
     "output_type": "stream",
     "text": [
      "generated 1000\n"
     ]
    },
    {
     "name": "stderr",
     "output_type": "stream",
     "text": [
      "3way intersections 1, 2:  67%|███████████████████████████████████▍                 | 2006/3000 [01:03<00:30, 32.22it/s]"
     ]
    },
    {
     "name": "stdout",
     "output_type": "stream",
     "text": [
      "generated 2000\n"
     ]
    },
    {
     "name": "stderr",
     "output_type": "stream",
     "text": [
      "3way intersections 1, 2: 100%|█████████████████████████████████████████████████████| 3000/3000 [01:34<00:00, 31.61it/s]\n"
     ]
    },
    {
     "name": "stdout",
     "output_type": "stream",
     "text": [
      "generated 3000\n",
      "Writing out 3000 intersections at c:\\muktadir\\junction-art\\output\\Sequential-intersections-3way-3000.dill\n"
     ]
    },
    {
     "name": "stderr",
     "output_type": "stream",
     "text": [
      "3way intersections 1, 1:  34%|█████████████████▊                                   | 1006/3000 [00:23<00:50, 39.40it/s]"
     ]
    },
    {
     "name": "stdout",
     "output_type": "stream",
     "text": [
      "generated 1000\n"
     ]
    },
    {
     "name": "stderr",
     "output_type": "stream",
     "text": [
      "3way intersections 1, 1:  67%|███████████████████████████████████▍                 | 2007/3000 [00:48<00:22, 43.22it/s]"
     ]
    },
    {
     "name": "stdout",
     "output_type": "stream",
     "text": [
      "generated 2000\n"
     ]
    },
    {
     "name": "stderr",
     "output_type": "stream",
     "text": [
      "3way intersections 1, 1: 100%|█████████████████████████████████████████████████████| 3000/3000 [01:12<00:00, 41.19it/s]\n"
     ]
    },
    {
     "name": "stdout",
     "output_type": "stream",
     "text": [
      "generated 3000\n",
      "Writing out 3000 intersections at c:\\muktadir\\junction-art\\output\\Sequential-intersections-2lane-3way-3000.dill\n",
      "Generating 4ways\n"
     ]
    },
    {
     "name": "stderr",
     "output_type": "stream",
     "text": [
      "4way intersections 1, 2:   9%|████▊                                                 | 269/3000 [00:13<02:18, 19.65it/s]\n"
     ]
    },
    {
     "ename": "KeyboardInterrupt",
     "evalue": "",
     "output_type": "error",
     "traceback": [
      "\u001b[1;31m---------------------------------------------------------------------------\u001b[0m",
      "\u001b[1;31mKeyboardInterrupt\u001b[0m                         Traceback (most recent call last)",
      "\u001b[1;32m<ipython-input-35-0b632b5bc797>\u001b[0m in \u001b[0;36m<module>\u001b[1;34m\u001b[0m\n\u001b[0;32m      5\u001b[0m             \u001b[0mminLanePerSide\u001b[0m \u001b[1;33m=\u001b[0m \u001b[1;36m1\u001b[0m\u001b[1;33m,\u001b[0m\u001b[1;33m\u001b[0m\u001b[1;33m\u001b[0m\u001b[0m\n\u001b[0;32m      6\u001b[0m             \u001b[0mmaxLanePerSide\u001b[0m \u001b[1;33m=\u001b[0m \u001b[1;36m2\u001b[0m\u001b[1;33m,\u001b[0m\u001b[1;33m\u001b[0m\u001b[1;33m\u001b[0m\u001b[0m\n\u001b[1;32m----> 7\u001b[1;33m             \u001b[0mnumberOfIntersections\u001b[0m \u001b[1;33m=\u001b[0m \u001b[1;36m3000\u001b[0m\u001b[1;33m\u001b[0m\u001b[1;33m\u001b[0m\u001b[0m\n\u001b[0m\u001b[0;32m      8\u001b[0m     )\n\u001b[0;32m      9\u001b[0m     exporter.genNSave(\n",
      "\u001b[1;32m<ipython-input-33-c81e076fd8d7>\u001b[0m in \u001b[0;36mgenNSave\u001b[1;34m(self, nLegs, minLanePerSide, maxLanePerSide, numberOfIntersections)\u001b[0m\n\u001b[0;32m     77\u001b[0m             \u001b[0mminLanePerSide\u001b[0m \u001b[1;33m=\u001b[0m \u001b[0mminLanePerSide\u001b[0m\u001b[1;33m,\u001b[0m\u001b[1;33m\u001b[0m\u001b[1;33m\u001b[0m\u001b[0m\n\u001b[0;32m     78\u001b[0m             \u001b[0mmaxLanePerSide\u001b[0m \u001b[1;33m=\u001b[0m \u001b[0mmaxLanePerSide\u001b[0m\u001b[1;33m,\u001b[0m\u001b[1;33m\u001b[0m\u001b[1;33m\u001b[0m\u001b[0m\n\u001b[1;32m---> 79\u001b[1;33m             \u001b[0mnumberOfIntersections\u001b[0m \u001b[1;33m=\u001b[0m \u001b[0mnumberOfIntersections\u001b[0m\u001b[1;33m\u001b[0m\u001b[1;33m\u001b[0m\u001b[0m\n\u001b[0m\u001b[0;32m     80\u001b[0m         )\n\u001b[0;32m     81\u001b[0m \u001b[1;33m\u001b[0m\u001b[0m\n",
      "\u001b[1;32m<ipython-input-33-c81e076fd8d7>\u001b[0m in \u001b[0;36mgen\u001b[1;34m(self, nLegs, minLanePerSide, maxLanePerSide, numberOfIntersections)\u001b[0m\n\u001b[0;32m     43\u001b[0m                                     \u001b[0mcp1\u001b[0m\u001b[1;33m=\u001b[0m\u001b[0mpyodrx\u001b[0m\u001b[1;33m.\u001b[0m\u001b[0mContactPoint\u001b[0m\u001b[1;33m.\u001b[0m\u001b[0mend\u001b[0m\u001b[1;33m,\u001b[0m\u001b[1;33m\u001b[0m\u001b[1;33m\u001b[0m\u001b[0m\n\u001b[0;32m     44\u001b[0m                                     \u001b[0minternalLinkStrategy\u001b[0m \u001b[1;33m=\u001b[0m \u001b[0mLaneConfigurationStrategies\u001b[0m\u001b[1;33m.\u001b[0m\u001b[0mSPLIT_ANY\u001b[0m\u001b[1;33m,\u001b[0m\u001b[1;33m\u001b[0m\u001b[1;33m\u001b[0m\u001b[0m\n\u001b[1;32m---> 45\u001b[1;33m                                     getAsOdr=False)\n\u001b[0m\u001b[0;32m     46\u001b[0m \u001b[1;33m\u001b[0m\u001b[0m\n\u001b[0;32m     47\u001b[0m \u001b[1;33m\u001b[0m\u001b[0m\n",
      "\u001b[1;32mc:\\muktadir\\junction-art\\junctionart\\junctions\\SequentialJunctionBuilder.py\u001b[0m in \u001b[0;36mcreateWithRandomLaneConfigurations\u001b[1;34m(self, straightRoadsPath, id, maxNumberOfRoadsPerJunction, firstRoadId, maxLanePerSide, minLanePerSide, internalConnections, cp1, randomState, internalLinkStrategy, uTurnLanes, equalAngles, getAsOdr)\u001b[0m\n\u001b[0;32m    380\u001b[0m         \u001b[1;31m# Permanent connection roads\u001b[0m\u001b[1;33m\u001b[0m\u001b[1;33m\u001b[0m\u001b[1;33m\u001b[0m\u001b[0m\n\u001b[0;32m    381\u001b[0m         \u001b[1;32mif\u001b[0m \u001b[0minternalConnections\u001b[0m\u001b[1;33m:\u001b[0m\u001b[1;33m\u001b[0m\u001b[1;33m\u001b[0m\u001b[0m\n\u001b[1;32m--> 382\u001b[1;33m             \u001b[0minternalConnections\u001b[0m \u001b[1;33m=\u001b[0m \u001b[0mself\u001b[0m\u001b[1;33m.\u001b[0m\u001b[0mconnectionBuilder\u001b[0m\u001b[1;33m.\u001b[0m\u001b[0mcreateSingleLaneConnectionRoads\u001b[0m\u001b[1;33m(\u001b[0m\u001b[0mnextRoadId\u001b[0m\u001b[1;33m,\u001b[0m \u001b[0moutsideRoads\u001b[0m\u001b[1;33m,\u001b[0m \u001b[0mcp1\u001b[0m\u001b[1;33m,\u001b[0m \u001b[0minternalLinkStrategy\u001b[0m\u001b[1;33m)\u001b[0m\u001b[1;33m\u001b[0m\u001b[1;33m\u001b[0m\u001b[0m\n\u001b[0m\u001b[0;32m    383\u001b[0m             \u001b[0mnextRoadId\u001b[0m \u001b[1;33m+=\u001b[0m \u001b[0mlen\u001b[0m\u001b[1;33m(\u001b[0m\u001b[0minternalConnections\u001b[0m\u001b[1;33m)\u001b[0m\u001b[1;33m\u001b[0m\u001b[1;33m\u001b[0m\u001b[0m\n\u001b[0;32m    384\u001b[0m             \u001b[0mroads\u001b[0m \u001b[1;33m+=\u001b[0m \u001b[0minternalConnections\u001b[0m\u001b[1;33m\u001b[0m\u001b[1;33m\u001b[0m\u001b[0m\n",
      "\u001b[1;32mc:\\muktadir\\junction-art\\junctionart\\junctions\\ConnectionBuilder.py\u001b[0m in \u001b[0;36mcreateSingleLaneConnectionRoads\u001b[1;34m(self, nextRoadId, outsideRoads, cp1, strategy)\u001b[0m\n\u001b[0;32m    153\u001b[0m \u001b[1;33m\u001b[0m\u001b[0m\n\u001b[0;32m    154\u001b[0m                 \u001b[1;31m# for each link, create a new connection road\u001b[0m\u001b[1;33m\u001b[0m\u001b[1;33m\u001b[0m\u001b[1;33m\u001b[0m\u001b[0m\n\u001b[1;32m--> 155\u001b[1;33m                 \u001b[0mconnectionRoadsForConfig\u001b[0m \u001b[1;33m=\u001b[0m \u001b[0mself\u001b[0m\u001b[1;33m.\u001b[0m\u001b[0mcreateRoadsForLinkConfig\u001b[0m\u001b[1;33m(\u001b[0m\u001b[0mnextRoadId\u001b[0m\u001b[1;33m,\u001b[0m \u001b[0mroadDic\u001b[0m\u001b[1;33m,\u001b[0m \u001b[0mfirstRoadId\u001b[0m\u001b[1;33m,\u001b[0m \u001b[0mincomingRoad\u001b[0m\u001b[1;33m,\u001b[0m \u001b[0mcp1\u001b[0m\u001b[1;33m,\u001b[0m \u001b[0mlinkConfig\u001b[0m\u001b[1;33m)\u001b[0m\u001b[1;33m\u001b[0m\u001b[1;33m\u001b[0m\u001b[0m\n\u001b[0m\u001b[0;32m    156\u001b[0m                 \u001b[0mnextRoadId\u001b[0m \u001b[1;33m+=\u001b[0m \u001b[0mlen\u001b[0m\u001b[1;33m(\u001b[0m\u001b[0mconnectionRoadsForConfig\u001b[0m\u001b[1;33m)\u001b[0m\u001b[1;33m\u001b[0m\u001b[1;33m\u001b[0m\u001b[0m\n\u001b[0;32m    157\u001b[0m                 \u001b[0mnewConnectionRoads\u001b[0m \u001b[1;33m+=\u001b[0m \u001b[0mconnectionRoadsForConfig\u001b[0m\u001b[1;33m\u001b[0m\u001b[1;33m\u001b[0m\u001b[0m\n",
      "\u001b[1;32mc:\\muktadir\\junction-art\\junctionart\\junctions\\ConnectionBuilder.py\u001b[0m in \u001b[0;36mcreateRoadsForLinkConfig\u001b[1;34m(self, nextRoadId, roadDic, firstRoadId, incomingRoad, cp1, linkConfig)\u001b[0m\n\u001b[0;32m    238\u001b[0m                 \u001b[0mnewConnection\u001b[0m \u001b[1;33m=\u001b[0m \u001b[0mself\u001b[0m\u001b[1;33m.\u001b[0m\u001b[0mcreateSingleLaneConnectionRoad\u001b[0m\u001b[1;33m(\u001b[0m\u001b[0mnextRoadId\u001b[0m\u001b[1;33m,\u001b[0m \u001b[0mincomingRoad\u001b[0m\u001b[1;33m,\u001b[0m \u001b[0moutgoingRoad\u001b[0m\u001b[1;33m,\u001b[0m \u001b[0mincomingLaneId\u001b[0m\u001b[1;33m,\u001b[0m \u001b[0moutgoingLaneId\u001b[0m\u001b[1;33m,\u001b[0m \u001b[0mpyodrx\u001b[0m\u001b[1;33m.\u001b[0m\u001b[0mContactPoint\u001b[0m\u001b[1;33m.\u001b[0m\u001b[0mstart\u001b[0m\u001b[1;33m,\u001b[0m \u001b[0mcp1\u001b[0m\u001b[1;33m)\u001b[0m\u001b[1;33m\u001b[0m\u001b[1;33m\u001b[0m\u001b[0m\n\u001b[0;32m    239\u001b[0m             \u001b[1;32melse\u001b[0m\u001b[1;33m:\u001b[0m\u001b[1;33m\u001b[0m\u001b[1;33m\u001b[0m\u001b[0m\n\u001b[1;32m--> 240\u001b[1;33m                 \u001b[0mnewConnection\u001b[0m \u001b[1;33m=\u001b[0m \u001b[0mself\u001b[0m\u001b[1;33m.\u001b[0m\u001b[0mcreateSingleLaneConnectionRoad\u001b[0m\u001b[1;33m(\u001b[0m\u001b[0mnextRoadId\u001b[0m\u001b[1;33m,\u001b[0m \u001b[0mincomingRoad\u001b[0m\u001b[1;33m,\u001b[0m \u001b[0moutgoingRoad\u001b[0m\u001b[1;33m,\u001b[0m \u001b[0mincomingLaneId\u001b[0m\u001b[1;33m,\u001b[0m \u001b[0moutgoingLaneId\u001b[0m\u001b[1;33m,\u001b[0m \u001b[0mpyodrx\u001b[0m\u001b[1;33m.\u001b[0m\u001b[0mContactPoint\u001b[0m\u001b[1;33m.\u001b[0m\u001b[0mstart\u001b[0m\u001b[1;33m,\u001b[0m \u001b[0mpyodrx\u001b[0m\u001b[1;33m.\u001b[0m\u001b[0mContactPoint\u001b[0m\u001b[1;33m.\u001b[0m\u001b[0mstart\u001b[0m\u001b[1;33m)\u001b[0m\u001b[1;33m\u001b[0m\u001b[1;33m\u001b[0m\u001b[0m\n\u001b[0m\u001b[0;32m    241\u001b[0m \u001b[1;33m\u001b[0m\u001b[0m\n\u001b[0;32m    242\u001b[0m             \u001b[0mnewConnectionRoads\u001b[0m\u001b[1;33m.\u001b[0m\u001b[0mappend\u001b[0m\u001b[1;33m(\u001b[0m\u001b[0mnewConnection\u001b[0m\u001b[1;33m)\u001b[0m\u001b[1;33m\u001b[0m\u001b[1;33m\u001b[0m\u001b[0m\n",
      "\u001b[1;32mc:\\muktadir\\junction-art\\junctionart\\junctions\\ConnectionBuilder.py\u001b[0m in \u001b[0;36mcreateSingleLaneConnectionRoad\u001b[1;34m(self, newRoadId, incomingRoad, outgoingRoad, incomingLaneId, outgoingLaneId, incomingCp, outgoingCp)\u001b[0m\n\u001b[0;32m     70\u001b[0m         \u001b[0mlogging\u001b[0m\u001b[1;33m.\u001b[0m\u001b[0mdebug\u001b[0m\u001b[1;33m(\u001b[0m\u001b[1;34mf\"{self.name}: createSingleLaneConnectionRoad: end: \"\u001b[0m\u001b[1;33m,\u001b[0m \u001b[0mx2\u001b[0m\u001b[1;33m,\u001b[0m \u001b[0my2\u001b[0m\u001b[1;33m,\u001b[0m \u001b[0mh2\u001b[0m\u001b[1;33m)\u001b[0m\u001b[1;33m\u001b[0m\u001b[1;33m\u001b[0m\u001b[0m\n\u001b[0;32m     71\u001b[0m \u001b[1;33m\u001b[0m\u001b[0m\n\u001b[1;32m---> 72\u001b[1;33m         \u001b[0mxCoeffs\u001b[0m\u001b[1;33m,\u001b[0m \u001b[0myCoeffs\u001b[0m \u001b[1;33m=\u001b[0m \u001b[0mGeometry\u001b[0m\u001b[1;33m.\u001b[0m\u001b[0mgetCoeffsForParamPoly\u001b[0m\u001b[1;33m(\u001b[0m\u001b[0mx1\u001b[0m\u001b[1;33m,\u001b[0m \u001b[0my1\u001b[0m\u001b[1;33m,\u001b[0m \u001b[0mh1\u001b[0m\u001b[1;33m,\u001b[0m \u001b[0mx2\u001b[0m\u001b[1;33m,\u001b[0m \u001b[0my2\u001b[0m\u001b[1;33m,\u001b[0m \u001b[0mh2\u001b[0m\u001b[1;33m,\u001b[0m \u001b[0mincomingCp\u001b[0m\u001b[1;33m,\u001b[0m \u001b[0moutgoingCp\u001b[0m\u001b[1;33m,\u001b[0m \u001b[0mvShiftForSamePoint\u001b[0m\u001b[1;33m=\u001b[0m\u001b[0mself\u001b[0m\u001b[1;33m.\u001b[0m\u001b[0muTurnFirstLaneShift\u001b[0m\u001b[1;33m)\u001b[0m\u001b[1;33m\u001b[0m\u001b[1;33m\u001b[0m\u001b[0m\n\u001b[0m\u001b[0;32m     73\u001b[0m \u001b[1;33m\u001b[0m\u001b[0m\n\u001b[0;32m     74\u001b[0m         \u001b[1;31m# scipy coefficient and open drive coefficents have opposite order.\u001b[0m\u001b[1;33m\u001b[0m\u001b[1;33m\u001b[0m\u001b[1;33m\u001b[0m\u001b[0m\n",
      "\u001b[1;32mc:\\muktadir\\junction-art\\junctionart\\junctions\\Geometry.py\u001b[0m in \u001b[0;36mgetCoeffsForParamPoly\u001b[1;34m(x1, y1, h1, x2, y2, h2, cp1, cp2, vShiftForSamePoint)\u001b[0m\n\u001b[0;32m    160\u001b[0m \u001b[1;33m\u001b[0m\u001b[0m\n\u001b[0;32m    161\u001b[0m         \u001b[0mhermiteX\u001b[0m \u001b[1;33m=\u001b[0m \u001b[0mCubicHermiteSpline\u001b[0m\u001b[1;33m(\u001b[0m\u001b[0mp\u001b[0m\u001b[1;33m,\u001b[0m \u001b[0mX\u001b[0m\u001b[1;33m,\u001b[0m \u001b[0mtangentX\u001b[0m\u001b[1;33m)\u001b[0m\u001b[1;33m\u001b[0m\u001b[1;33m\u001b[0m\u001b[0m\n\u001b[1;32m--> 162\u001b[1;33m         \u001b[0mhermiteY\u001b[0m \u001b[1;33m=\u001b[0m \u001b[0mCubicHermiteSpline\u001b[0m\u001b[1;33m(\u001b[0m\u001b[0mp\u001b[0m\u001b[1;33m,\u001b[0m \u001b[0mY\u001b[0m\u001b[1;33m,\u001b[0m \u001b[0mtangentY\u001b[0m\u001b[1;33m)\u001b[0m\u001b[1;33m\u001b[0m\u001b[1;33m\u001b[0m\u001b[0m\n\u001b[0m\u001b[0;32m    163\u001b[0m \u001b[1;33m\u001b[0m\u001b[0m\n\u001b[0;32m    164\u001b[0m         \u001b[0mxCoeffs\u001b[0m \u001b[1;33m=\u001b[0m \u001b[0mhermiteX\u001b[0m\u001b[1;33m.\u001b[0m\u001b[0mc\u001b[0m\u001b[1;33m.\u001b[0m\u001b[0mflatten\u001b[0m\u001b[1;33m(\u001b[0m\u001b[1;33m)\u001b[0m\u001b[1;33m\u001b[0m\u001b[1;33m\u001b[0m\u001b[0m\n",
      "\u001b[1;32mC:\\ProgramData\\Anaconda3\\envs\\junction-art-2\\lib\\site-packages\\scipy\\interpolate\\_cubic.py\u001b[0m in \u001b[0;36m__init__\u001b[1;34m(self, x, y, dydx, axis, extrapolate)\u001b[0m\n\u001b[0;32m    146\u001b[0m         \u001b[0mc\u001b[0m \u001b[1;33m=\u001b[0m \u001b[0mnp\u001b[0m\u001b[1;33m.\u001b[0m\u001b[0mempty\u001b[0m\u001b[1;33m(\u001b[0m\u001b[1;33m(\u001b[0m\u001b[1;36m4\u001b[0m\u001b[1;33m,\u001b[0m \u001b[0mlen\u001b[0m\u001b[1;33m(\u001b[0m\u001b[0mx\u001b[0m\u001b[1;33m)\u001b[0m \u001b[1;33m-\u001b[0m \u001b[1;36m1\u001b[0m\u001b[1;33m)\u001b[0m \u001b[1;33m+\u001b[0m \u001b[0my\u001b[0m\u001b[1;33m.\u001b[0m\u001b[0mshape\u001b[0m\u001b[1;33m[\u001b[0m\u001b[1;36m1\u001b[0m\u001b[1;33m:\u001b[0m\u001b[1;33m]\u001b[0m\u001b[1;33m,\u001b[0m \u001b[0mdtype\u001b[0m\u001b[1;33m=\u001b[0m\u001b[0mt\u001b[0m\u001b[1;33m.\u001b[0m\u001b[0mdtype\u001b[0m\u001b[1;33m)\u001b[0m\u001b[1;33m\u001b[0m\u001b[1;33m\u001b[0m\u001b[0m\n\u001b[0;32m    147\u001b[0m         \u001b[0mc\u001b[0m\u001b[1;33m[\u001b[0m\u001b[1;36m0\u001b[0m\u001b[1;33m]\u001b[0m \u001b[1;33m=\u001b[0m \u001b[0mt\u001b[0m \u001b[1;33m/\u001b[0m \u001b[0mdxr\u001b[0m\u001b[1;33m\u001b[0m\u001b[1;33m\u001b[0m\u001b[0m\n\u001b[1;32m--> 148\u001b[1;33m         \u001b[0mc\u001b[0m\u001b[1;33m[\u001b[0m\u001b[1;36m1\u001b[0m\u001b[1;33m]\u001b[0m \u001b[1;33m=\u001b[0m \u001b[1;33m(\u001b[0m\u001b[0mslope\u001b[0m \u001b[1;33m-\u001b[0m \u001b[0mdydx\u001b[0m\u001b[1;33m[\u001b[0m\u001b[1;33m:\u001b[0m\u001b[1;33m-\u001b[0m\u001b[1;36m1\u001b[0m\u001b[1;33m]\u001b[0m\u001b[1;33m)\u001b[0m \u001b[1;33m/\u001b[0m \u001b[0mdxr\u001b[0m \u001b[1;33m-\u001b[0m \u001b[0mt\u001b[0m\u001b[1;33m\u001b[0m\u001b[1;33m\u001b[0m\u001b[0m\n\u001b[0m\u001b[0;32m    149\u001b[0m         \u001b[0mc\u001b[0m\u001b[1;33m[\u001b[0m\u001b[1;36m2\u001b[0m\u001b[1;33m]\u001b[0m \u001b[1;33m=\u001b[0m \u001b[0mdydx\u001b[0m\u001b[1;33m[\u001b[0m\u001b[1;33m:\u001b[0m\u001b[1;33m-\u001b[0m\u001b[1;36m1\u001b[0m\u001b[1;33m]\u001b[0m\u001b[1;33m\u001b[0m\u001b[1;33m\u001b[0m\u001b[0m\n\u001b[0;32m    150\u001b[0m         \u001b[0mc\u001b[0m\u001b[1;33m[\u001b[0m\u001b[1;36m3\u001b[0m\u001b[1;33m]\u001b[0m \u001b[1;33m=\u001b[0m \u001b[0my\u001b[0m\u001b[1;33m[\u001b[0m\u001b[1;33m:\u001b[0m\u001b[1;33m-\u001b[0m\u001b[1;36m1\u001b[0m\u001b[1;33m]\u001b[0m\u001b[1;33m\u001b[0m\u001b[1;33m\u001b[0m\u001b[0m\n",
      "\u001b[1;31mKeyboardInterrupt\u001b[0m: "
     ]
    }
   ],
   "source": [
    "for nLegs in range(3, 7):\n",
    "    print(f\"Generating {nLegs}ways\")\n",
    "    exporter.genNSave(\n",
    "            nLegs = nLegs,\n",
    "            minLanePerSide = 1,\n",
    "            maxLanePerSide = 2,\n",
    "            numberOfIntersections = 3000\n",
    "    )\n",
    "    exporter.genNSave(\n",
    "            nLegs = nLegs,\n",
    "            minLanePerSide = 1,\n",
    "            maxLanePerSide = 1,\n",
    "            numberOfIntersections = 3000\n",
    "    )"
   ]
  },
  {
   "cell_type": "code",
   "execution_count": null,
   "metadata": {},
   "outputs": [],
   "source": [
    "exporter.genNSave(\n",
    "        nLegs = 4,\n",
    "        minLanePerSide = 1,\n",
    "        maxLanePerSide = 2,\n",
    "        numberOfIntersections = 3000\n",
    ")\n",
    "exporter.genNSave(\n",
    "        nLegs = 4,\n",
    "        minLanePerSide = 1,\n",
    "        maxLanePerSide = 1,\n",
    "        numberOfIntersections = 3000\n",
    ")"
   ]
  },
  {
   "cell_type": "code",
   "execution_count": null,
   "metadata": {},
   "outputs": [],
   "source": []
  }
 ],
 "metadata": {
  "kernelspec": {
   "display_name": "Python 3",
   "language": "python",
   "name": "python3"
  },
  "language_info": {
   "codemirror_mode": {
    "name": "ipython",
    "version": 3
   },
   "file_extension": ".py",
   "mimetype": "text/x-python",
   "name": "python",
   "nbconvert_exporter": "python",
   "pygments_lexer": "ipython3",
   "version": "3.7.9"
  }
 },
 "nbformat": 4,
 "nbformat_minor": 4
}
