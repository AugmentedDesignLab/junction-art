{
 "cells": [
  {
   "cell_type": "code",
   "execution_count": 2,
   "metadata": {},
   "outputs": [
    {
     "name": "stdout",
     "output_type": "stream",
     "text": [
      "current working dirc:\\muktadir\\junction-art\n"
     ]
    }
   ],
   "source": [
    "exec(open(\"init_notebook.py\").read())"
   ]
  },
  {
   "cell_type": "code",
   "execution_count": 3,
   "metadata": {},
   "outputs": [],
   "source": [
    "%load_ext autoreload\n",
    "%autoreload 2"
   ]
  },
  {
   "cell_type": "code",
   "execution_count": 4,
   "metadata": {},
   "outputs": [],
   "source": [
    "import dill\n",
    "import os\n",
    "import numpy as np\n",
    "from junctionart.library.Configuration import Configuration\n",
    "from junctionart.junctions.LaneConfigurationStrategies import LaneConfigurationStrategies\n",
    "from junctionart.junctions.IntersectionValidator import IntersectionValidator\n",
    "from junctionart.junctions.SequentialJunctionBuilder import SequentialJunctionBuilder\n",
    "import junctionart.extensions as extensions\n",
    "import pyodrx as pyodrx\n",
    "import logging\n",
    "from tqdm import tqdm\n",
    "logging.basicConfig(level=logging.INFO)"
   ]
  },
  {
   "cell_type": "code",
   "execution_count": 43,
   "metadata": {},
   "outputs": [],
   "source": [
    "class SequentialIntersectionExporter():\n",
    "\n",
    "    def __init__(self):\n",
    "        \n",
    "        self.configuration = Configuration()\n",
    "        self.outputDir= os.path.join(os.getcwd(), 'output')\n",
    "        self.lastId = 0\n",
    "        self.seed = 2\n",
    "        self.builder = SequentialJunctionBuilder(\n",
    "                                                    minAngle=np.pi/10, \n",
    "                                                    maxAngle=np.pi * .75,\n",
    "                                                    straightRoadLen=5, \n",
    "                                                    probLongConnection=0.5,\n",
    "                                                    probMinAngle=0.5,\n",
    "                                                    probRestrictedLane=0.2,\n",
    "                                                    maxConnectionLength=50,\n",
    "                                                    minConnectionLength=20,\n",
    "                                                    random_seed=self.seed)\n",
    "        \n",
    "        self.randomState =self.configuration.get(\"random_state\")\n",
    "        self.validator = IntersectionValidator()\n",
    "\n",
    "        pass\n",
    "    \n",
    "    def genId(self):\n",
    "        self.lastId += 1\n",
    "        return self.lastId\n",
    "    \n",
    "    def gen(self,\n",
    "        nLegs = 3,\n",
    "        minLanePerSide = 1,\n",
    "        maxLanePerSide = 2,\n",
    "        numberOfIntersections = 10):\n",
    "\n",
    "        created = 0\n",
    "        intersections = []\n",
    "        # create \n",
    "        with tqdm(total=numberOfIntersections, desc=f\"{nLegs}way intersections {minLanePerSide}, {maxLanePerSide}\") as pbar:\n",
    "            while created < numberOfIntersections:\n",
    "                path = self.configuration.get(\"harvested_straight_roads\")\n",
    "                intersection = self.builder.createWithRandomLaneConfigurations(path, \n",
    "                                    self.genId(), \n",
    "                                    maxNumberOfRoadsPerJunction=nLegs, \n",
    "                                    maxLanePerSide=maxLanePerSide, \n",
    "                                    minLanePerSide=minLanePerSide, \n",
    "                                    internalConnections=True, \n",
    "                                    cp1=pyodrx.ContactPoint.end,\n",
    "                                    internalLinkStrategy = LaneConfigurationStrategies.SPLIT_ANY,\n",
    "                                    getAsOdr=False)\n",
    "\n",
    "\n",
    "#                 odr = intersection.odr\n",
    "                # xmlPath = f\"output/test_createWithRandomLaneConfigurations-split-any-{maxNumberOfRoadsPerJunction}-{sl}.xodr\"\n",
    "#                 xmlPath = f\"output/seed-{self.seed}-{maxNumberOfRoadsPerJunction}-way-{sl}.xodr\"\n",
    "#                 odr.write_xml(xmlPath)\n",
    "                isValid = self.validator.validateIncidentPoints(intersection, self.builder.minConnectionLength)\n",
    "                if isValid and len(intersection.incidentRoads) == nLegs:\n",
    "                    intersections.append(intersection)\n",
    "                    created += 1\n",
    "                    pbar.update(1)\n",
    "\n",
    "#                 if created % 1000 == 0:\n",
    "#                     print(f\"generated {created}\")\n",
    "        \n",
    "        \n",
    "        return intersections\n",
    "    \n",
    "    def save(self, outputPath, intersections):\n",
    "        with open(outputPath, 'wb') as handler:\n",
    "            print(f\"Writing out {len(intersections)} intersections at {outputPath}\")\n",
    "            dill.dump(intersections, handler)\n",
    "    \n",
    "    def genNSave(self, \n",
    "        nLegs = 3,\n",
    "        minLanePerSide = 1,\n",
    "        maxLanePerSide = 2,\n",
    "        numberOfIntersections = 10):\n",
    "        \n",
    "        intersections = self.gen(\n",
    "            nLegs = nLegs,\n",
    "            minLanePerSide = minLanePerSide,\n",
    "            maxLanePerSide = maxLanePerSide,\n",
    "            numberOfIntersections = numberOfIntersections\n",
    "        )\n",
    "        \n",
    "        laneStr = \"\"\n",
    "        if minLanePerSide == maxLanePerSide and minLanePerSide == 1:\n",
    "            laneStr = \"-2lane\"\n",
    "        \n",
    "        outputPath = os.path.join(self.outputDir, f\"Sequential-intersections{laneStr}-{nLegs}way-{numberOfIntersections}.dill\")\n",
    "\n",
    "        self.save(outputPath, intersections)\n",
    "        \n",
    "        \n",
    "\n",
    "                    \n"
   ]
  },
  {
   "cell_type": "code",
   "execution_count": 44,
   "metadata": {},
   "outputs": [],
   "source": [
    "exporter = SequentialIntersectionExporter()"
   ]
  },
  {
   "cell_type": "code",
   "execution_count": 45,
   "metadata": {},
   "outputs": [
    {
     "name": "stdout",
     "output_type": "stream",
     "text": [
      "Generating 3ways\n"
     ]
    },
    {
     "name": "stderr",
     "output_type": "stream",
     "text": [
      "3way intersections 1, 2: 100%|█████████████████████████████████████████████████████| 1000/1000 [00:32<00:00, 30.80it/s]\n"
     ]
    },
    {
     "name": "stdout",
     "output_type": "stream",
     "text": [
      "Writing out 1000 intersections at c:\\muktadir\\junction-art\\output\\Sequential-intersections-3way-1000.dill\n"
     ]
    },
    {
     "name": "stderr",
     "output_type": "stream",
     "text": [
      "3way intersections 1, 1: 100%|█████████████████████████████████████████████████████| 1000/1000 [00:24<00:00, 40.20it/s]\n"
     ]
    },
    {
     "name": "stdout",
     "output_type": "stream",
     "text": [
      "Writing out 1000 intersections at c:\\muktadir\\junction-art\\output\\Sequential-intersections-2lane-3way-1000.dill\n",
      "Generating 4ways\n"
     ]
    },
    {
     "name": "stderr",
     "output_type": "stream",
     "text": [
      "4way intersections 1, 2: 100%|█████████████████████████████████████████████████████| 1000/1000 [00:55<00:00, 17.91it/s]\n"
     ]
    },
    {
     "name": "stdout",
     "output_type": "stream",
     "text": [
      "Writing out 1000 intersections at c:\\muktadir\\junction-art\\output\\Sequential-intersections-4way-1000.dill\n"
     ]
    },
    {
     "name": "stderr",
     "output_type": "stream",
     "text": [
      "4way intersections 1, 1: 100%|█████████████████████████████████████████████████████| 1000/1000 [00:40<00:00, 24.42it/s]\n"
     ]
    },
    {
     "name": "stdout",
     "output_type": "stream",
     "text": [
      "Writing out 1000 intersections at c:\\muktadir\\junction-art\\output\\Sequential-intersections-2lane-4way-1000.dill\n",
      "Generating 5ways\n"
     ]
    },
    {
     "name": "stderr",
     "output_type": "stream",
     "text": [
      "5way intersections 1, 2: 100%|█████████████████████████████████████████████████████| 1000/1000 [01:44<00:00,  9.59it/s]\n"
     ]
    },
    {
     "name": "stdout",
     "output_type": "stream",
     "text": [
      "Writing out 1000 intersections at c:\\muktadir\\junction-art\\output\\Sequential-intersections-5way-1000.dill\n"
     ]
    },
    {
     "name": "stderr",
     "output_type": "stream",
     "text": [
      "5way intersections 1, 1: 100%|█████████████████████████████████████████████████████| 1000/1000 [01:13<00:00, 13.70it/s]\n"
     ]
    },
    {
     "name": "stdout",
     "output_type": "stream",
     "text": [
      "Writing out 1000 intersections at c:\\muktadir\\junction-art\\output\\Sequential-intersections-2lane-5way-1000.dill\n",
      "Generating 6ways\n"
     ]
    },
    {
     "name": "stderr",
     "output_type": "stream",
     "text": [
      "6way intersections 1, 2: 100%|█████████████████████████████████████████████████████| 1000/1000 [03:19<00:00,  5.02it/s]\n"
     ]
    },
    {
     "name": "stdout",
     "output_type": "stream",
     "text": [
      "Writing out 1000 intersections at c:\\muktadir\\junction-art\\output\\Sequential-intersections-6way-1000.dill\n"
     ]
    },
    {
     "name": "stderr",
     "output_type": "stream",
     "text": [
      "6way intersections 1, 1: 100%|█████████████████████████████████████████████████████| 1000/1000 [02:09<00:00,  7.73it/s]\n"
     ]
    },
    {
     "name": "stdout",
     "output_type": "stream",
     "text": [
      "Writing out 1000 intersections at c:\\muktadir\\junction-art\\output\\Sequential-intersections-2lane-6way-1000.dill\n"
     ]
    }
   ],
   "source": [
    "for nLegs in range(3, 7):\n",
    "    print(f\"Generating {nLegs}ways\")\n",
    "    exporter.genNSave(\n",
    "            nLegs = nLegs,\n",
    "            minLanePerSide = 1,\n",
    "            maxLanePerSide = 2,\n",
    "            numberOfIntersections = 1000\n",
    "    )\n",
    "    exporter.genNSave(\n",
    "            nLegs = nLegs,\n",
    "            minLanePerSide = 1,\n",
    "            maxLanePerSide = 1,\n",
    "            numberOfIntersections = 1000\n",
    "    )"
   ]
  },
  {
   "cell_type": "code",
   "execution_count": null,
   "metadata": {},
   "outputs": [],
   "source": []
  }
 ],
 "metadata": {
  "kernelspec": {
   "display_name": "Python 3",
   "language": "python",
   "name": "python3"
  },
  "language_info": {
   "codemirror_mode": {
    "name": "ipython",
    "version": 3
   },
   "file_extension": ".py",
   "mimetype": "text/x-python",
   "name": "python",
   "nbconvert_exporter": "python",
   "pygments_lexer": "ipython3",
   "version": "3.7.9"
  }
 },
 "nbformat": 4,
 "nbformat_minor": 4
}
