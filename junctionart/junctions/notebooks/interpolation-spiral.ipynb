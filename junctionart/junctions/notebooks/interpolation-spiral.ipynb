{
 "cells": [
  {
   "cell_type": "code",
   "execution_count": 1,
   "metadata": {},
   "outputs": [],
   "source": [
    "import numpy as np\n",
    "from math import cos, sin, pi, radians, sqrt\n",
    "from scipy.special import fresnel\n",
    "import matplotlib.pyplot as plt\n",
    "\n"
   ]
  },
  {
   "cell_type": "code",
   "execution_count": 2,
   "metadata": {},
   "outputs": [],
   "source": [
    "\n",
    "def spiral_interp_centre(distance, x, y, hdg, length, curvEnd):\n",
    "    '''Interpolate for a spiral centred on the origin'''\n",
    "    # s doesn't seem to be needed...\n",
    "    theta = hdg                    # Angle of the start of the curve\n",
    "    Ltot = length                  # Length of curve\n",
    "    Rend = 1 / curvEnd             # Radius of curvature at end of spiral\n",
    "\n",
    "    # Rescale, compute and unscale\n",
    "    a = 1 / sqrt(2 * Ltot * Rend)  # Scale factor\n",
    "    distance_scaled = distance * a # Distance along normalised spiral\n",
    "    deltay_scaled, deltax_scaled = fresnel(distance_scaled)\n",
    "    deltax = deltax_scaled / a\n",
    "    deltay = deltay_scaled / a\n",
    "\n",
    "    # deltax and deltay give coordinates for theta=0\n",
    "    deltax_rot = deltax * cos(theta) - deltay * sin(theta)\n",
    "    deltay_rot = deltax * sin(theta) + deltay * cos(theta)\n",
    "\n",
    "    # Spiral is relative to the starting coordinates\n",
    "    xcoord = x + deltax_rot\n",
    "    ycoord = y + deltay_rot\n",
    "\n",
    "    return xcoord, ycoord\n"
   ]
  },
  {
   "cell_type": "code",
   "execution_count": 3,
   "metadata": {},
   "outputs": [
    {
     "name": "stdout",
     "output_type": "stream",
     "text": [
      "[0.0, 0.9999999999812097, 1.9999999993987094, 2.999999995433949, 3.999999980758699, 4.9999999412802065, 5.999999853886365, 6.999999684190862, 7.999999384278361, 8.999998890449636, 9.999998120966772, 10.99999697379832, 11.999995324364473, 12.999993023282284, 13.999989894110827, 14.999985731096462, 15.999980296918054, 16.99997332043224, 17.999964494418744, 18.999953473325718, 19.999939871015155, 20.999923258508286, 21.99990316173117, 22.999879059260238, 23.999850380068008, 24.99981650126889, 25.99977674586506, 26.999730380492586, 27.99967661316758, 28.999614591032586, 29.999543398103174, 30.999462053014746, 31.999369506769533, 32.999264640483936, 33.99914626313613, 34.99901310931396, 35.998863836963196, 36.99869702513629, 37.99851117174139, 38.99830469129194, 39.99807591265669, 40.99782307681033, 41.99754433458467, 42.997237744420445, 43.99690127011987, 44.996532778599764, 45.99613003764567, 46.99569071366668, 47.99521236945121, 48.99469246192368, 49.99412833990236, 50.99351724185811, 51.99285629367446, 52.99214250640883, 53.99137277405513, 54.99054387130759, 55.98965245132633, 56.988695043504215, 57.987668051235545, 58.98656774968639, 59.98539028356674, 60.98413166490466, 61.98278777082243, 62.981354341314784, 63.979826977029475, 64.97820113705009, 65.97647213668147, 66.97463514523753, 67.97268518383201, 68.97061712317189, 69.96842568135385, 70.96610542166384, 71.96365075037986, 72.96105591457811, 73.95831499994276, 74.95542192857927, 75.95237045683174, 76.94915417310405, 77.9457664956851, 78.94220067057894, 79.93844976933852, 80.93450668690485, 81.9303641394507, 82.92601466222943, 83.92145060742887, 84.91666414203092, 85.91164724567673, 86.90639170853734, 87.90088912919087, 88.89513091250568, 89.88910826753016, 90.88281220538902, 91.87623353718664, 92.86936287191772, 93.86219061438499, 94.854706963125, 95.84690190834135, 96.83876522984649, 97.83028649501173, 98.82145505672592, 99.81226005136305]\n"
     ]
    },
    {
     "data": {
      "image/png": "[encoded data removed]",
      "text/plain": [
       "<Figure size 432x288 with 1 Axes>"
      ]
     },
     "metadata": {
      "needs_background": "light"
     },
     "output_type": "display_data"
    }
   ],
   "source": [
    "\n",
    "fig = plt.figure()\n",
    "ax = fig.add_subplot(1, 1, 1)\n",
    "# This version\n",
    "startX=0\n",
    "startY=0\n",
    "curvStart = radians(0) # 0 when coming out of a straight line\n",
    "curvEnd = radians(0.01) # non 0 when going into an arc\n",
    "length = 10\n",
    "xs = []\n",
    "ys = []\n",
    "for n in range(0, 100+1):\n",
    "    x, y = spiral_interp_centre(n, startX, startY, curvStart, length, curvEnd)\n",
    "    xs.append(x)\n",
    "    ys.append(y)\n",
    "ax.plot(xs, ys)\n",
    "\n",
    "print(xs)\n"
   ]
  },
  {
   "cell_type": "code",
   "execution_count": null,
   "metadata": {},
   "outputs": [],
   "source": []
  }
 ],
 "metadata": {
  "kernelspec": {
   "display_name": "Python 3",
   "language": "python",
   "name": "python3"
  },
  "language_info": {
   "codemirror_mode": {
    "name": "ipython",
    "version": 3
   },
   "file_extension": ".py",
   "mimetype": "text/x-python",
   "name": "python",
   "nbconvert_exporter": "python",
   "pygments_lexer": "ipython3",
   "version": "3.7.9"
  }
 },
 "nbformat": 4,
 "nbformat_minor": 4
}
