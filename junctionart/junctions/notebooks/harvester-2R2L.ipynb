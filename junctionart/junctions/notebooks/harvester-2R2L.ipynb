{
 "cells": [
  {
   "cell_type": "code",
   "execution_count": 1,
   "metadata": {},
   "outputs": [
    {
     "name": "stdout",
     "output_type": "stream",
     "text": [
      "current working dirF:\\myProjects\\av\\junction-art\n",
      "Using matplotlib backend: Qt5Agg\n"
     ]
    }
   ],
   "source": [
    "exec(open(\"init_notebook.py\").read())\n",
    "import pyodrx \n",
    "import numpy as np\n",
    "import junctionart.extensions\n",
    "import matplotlib.pyplot as plt\n",
    "%matplotlib auto\n"
   ]
  },
  {
   "cell_type": "code",
   "execution_count": 2,
   "metadata": {},
   "outputs": [],
   "source": [
    "import junctionart.junctions\n",
    "import os"
   ]
  },
  {
   "cell_type": "code",
   "execution_count": 8,
   "metadata": {},
   "outputs": [],
   "source": [
    "outputDir= os.path.join(os.getcwd(), 'output')\n",
    "lastId = 0"
   ]
  },
  {
   "cell_type": "code",
   "execution_count": 9,
   "metadata": {},
   "outputs": [],
   "source": [
    "harvester = junctions.JunctionHarvester(outputDir=outputDir, \n",
    "                                        outputPrefix='', \n",
    "                                        lastId=lastId,\n",
    "                                        minAngle = np.pi / 10, \n",
    "                                        maxAngle = np.pi)"
   ]
  },
  {
   "cell_type": "code",
   "execution_count": 11,
   "metadata": {},
   "outputs": [
    {
     "name": "stdout",
     "output_type": "stream",
     "text": [
      "randomSome2ways2Lanes: creating 3 for angle: 18.0\n",
      "starting adjustment. May freeze!!!!!!!!!!!!!\n",
      "start points starting\n",
      "F:\\myProjects\\av\\esmini\\bin\\odrplot.exe F:\\myProjects\\av\\junction-art\\output\\2R2L_18_no0.xodr\n",
      "saving image to F:\\myProjects\\av\\junction-art\\output\\2R2L_18_no0.xodr-image.png\n",
      "starting adjustment. May freeze!!!!!!!!!!!!!\n",
      "start points starting\n",
      "F:\\myProjects\\av\\esmini\\bin\\odrplot.exe F:\\myProjects\\av\\junction-art\\output\\2R2L_18_no1.xodr\n",
      "saving image to F:\\myProjects\\av\\junction-art\\output\\2R2L_18_no1.xodr-image.png\n",
      "starting adjustment. May freeze!!!!!!!!!!!!!\n",
      "start points starting\n",
      "F:\\myProjects\\av\\esmini\\bin\\odrplot.exe F:\\myProjects\\av\\junction-art\\output\\2R2L_18_no2.xodr\n",
      "saving image to F:\\myProjects\\av\\junction-art\\output\\2R2L_18_no2.xodr-image.png\n",
      "randomSome2ways2Lanes: creating 3 for angle: 22.5\n",
      "starting adjustment. May freeze!!!!!!!!!!!!!\n",
      "start points starting\n",
      "F:\\myProjects\\av\\esmini\\bin\\odrplot.exe F:\\myProjects\\av\\junction-art\\output\\2R2L_22_no0.xodr\n",
      "saving image to F:\\myProjects\\av\\junction-art\\output\\2R2L_22_no0.xodr-image.png\n",
      "starting adjustment. May freeze!!!!!!!!!!!!!\n",
      "start points starting\n",
      "F:\\myProjects\\av\\esmini\\bin\\odrplot.exe F:\\myProjects\\av\\junction-art\\output\\2R2L_22_no1.xodr\n",
      "saving image to F:\\myProjects\\av\\junction-art\\output\\2R2L_22_no1.xodr-image.png\n",
      "starting adjustment. May freeze!!!!!!!!!!!!!\n",
      "start points starting\n",
      "F:\\myProjects\\av\\esmini\\bin\\odrplot.exe F:\\myProjects\\av\\junction-art\\output\\2R2L_22_no2.xodr\n",
      "saving image to F:\\myProjects\\av\\junction-art\\output\\2R2L_22_no2.xodr-image.png\n",
      "randomSome2ways2Lanes: creating 3 for angle: 27.0\n",
      "starting adjustment. May freeze!!!!!!!!!!!!!\n",
      "start points starting\n",
      "F:\\myProjects\\av\\esmini\\bin\\odrplot.exe F:\\myProjects\\av\\junction-art\\output\\2R2L_27_no0.xodr\n",
      "saving image to F:\\myProjects\\av\\junction-art\\output\\2R2L_27_no0.xodr-image.png\n",
      "starting adjustment. May freeze!!!!!!!!!!!!!\n",
      "start points starting\n",
      "F:\\myProjects\\av\\esmini\\bin\\odrplot.exe F:\\myProjects\\av\\junction-art\\output\\2R2L_27_no1.xodr\n",
      "saving image to F:\\myProjects\\av\\junction-art\\output\\2R2L_27_no1.xodr-image.png\n",
      "starting adjustment. May freeze!!!!!!!!!!!!!\n",
      "start points starting\n",
      "F:\\myProjects\\av\\esmini\\bin\\odrplot.exe F:\\myProjects\\av\\junction-art\\output\\2R2L_27_no2.xodr\n",
      "saving image to F:\\myProjects\\av\\junction-art\\output\\2R2L_27_no2.xodr-image.png\n",
      "randomSome2ways2Lanes: creating 3 for angle: 31.5\n",
      "starting adjustment. May freeze!!!!!!!!!!!!!\n",
      "start points starting\n",
      "F:\\myProjects\\av\\esmini\\bin\\odrplot.exe F:\\myProjects\\av\\junction-art\\output\\2R2L_32_no0.xodr\n",
      "saving image to F:\\myProjects\\av\\junction-art\\output\\2R2L_32_no0.xodr-image.png\n",
      "starting adjustment. May freeze!!!!!!!!!!!!!\n",
      "start points starting\n",
      "F:\\myProjects\\av\\esmini\\bin\\odrplot.exe F:\\myProjects\\av\\junction-art\\output\\2R2L_32_no1.xodr\n",
      "saving image to F:\\myProjects\\av\\junction-art\\output\\2R2L_32_no1.xodr-image.png\n",
      "starting adjustment. May freeze!!!!!!!!!!!!!\n",
      "start points starting\n",
      "F:\\myProjects\\av\\esmini\\bin\\odrplot.exe F:\\myProjects\\av\\junction-art\\output\\2R2L_32_no2.xodr\n",
      "saving image to F:\\myProjects\\av\\junction-art\\output\\2R2L_32_no2.xodr-image.png\n",
      "randomSome2ways2Lanes: creating 3 for angle: 36.0\n",
      "starting adjustment. May freeze!!!!!!!!!!!!!\n",
      "start points starting\n",
      "F:\\myProjects\\av\\esmini\\bin\\odrplot.exe F:\\myProjects\\av\\junction-art\\output\\2R2L_36_no0.xodr\n",
      "saving image to F:\\myProjects\\av\\junction-art\\output\\2R2L_36_no0.xodr-image.png\n",
      "starting adjustment. May freeze!!!!!!!!!!!!!\n",
      "start points starting\n",
      "F:\\myProjects\\av\\esmini\\bin\\odrplot.exe F:\\myProjects\\av\\junction-art\\output\\2R2L_36_no1.xodr\n",
      "saving image to F:\\myProjects\\av\\junction-art\\output\\2R2L_36_no1.xodr-image.png\n",
      "starting adjustment. May freeze!!!!!!!!!!!!!\n",
      "start points starting\n",
      "F:\\myProjects\\av\\esmini\\bin\\odrplot.exe F:\\myProjects\\av\\junction-art\\output\\2R2L_36_no2.xodr\n",
      "saving image to F:\\myProjects\\av\\junction-art\\output\\2R2L_36_no2.xodr-image.png\n",
      "randomSome2ways2Lanes: creating 3 for angle: 40.5\n",
      "starting adjustment. May freeze!!!!!!!!!!!!!\n",
      "start points starting\n",
      "F:\\myProjects\\av\\esmini\\bin\\odrplot.exe F:\\myProjects\\av\\junction-art\\output\\2R2L_40_no0.xodr\n",
      "saving image to F:\\myProjects\\av\\junction-art\\output\\2R2L_40_no0.xodr-image.png\n",
      "starting adjustment. May freeze!!!!!!!!!!!!!\n",
      "start points starting\n",
      "F:\\myProjects\\av\\esmini\\bin\\odrplot.exe F:\\myProjects\\av\\junction-art\\output\\2R2L_40_no1.xodr\n",
      "saving image to F:\\myProjects\\av\\junction-art\\output\\2R2L_40_no1.xodr-image.png\n",
      "starting adjustment. May freeze!!!!!!!!!!!!!\n",
      "start points starting\n",
      "F:\\myProjects\\av\\esmini\\bin\\odrplot.exe F:\\myProjects\\av\\junction-art\\output\\2R2L_40_no2.xodr\n",
      "saving image to F:\\myProjects\\av\\junction-art\\output\\2R2L_40_no2.xodr-image.png\n",
      "randomSome2ways2Lanes: creating 3 for angle: 45.0\n",
      "starting adjustment. May freeze!!!!!!!!!!!!!\n",
      "start points starting\n",
      "F:\\myProjects\\av\\esmini\\bin\\odrplot.exe F:\\myProjects\\av\\junction-art\\output\\2R2L_45_no0.xodr\n",
      "saving image to F:\\myProjects\\av\\junction-art\\output\\2R2L_45_no0.xodr-image.png\n",
      "starting adjustment. May freeze!!!!!!!!!!!!!\n",
      "start points starting\n",
      "F:\\myProjects\\av\\esmini\\bin\\odrplot.exe F:\\myProjects\\av\\junction-art\\output\\2R2L_45_no1.xodr\n",
      "saving image to F:\\myProjects\\av\\junction-art\\output\\2R2L_45_no1.xodr-image.png\n",
      "starting adjustment. May freeze!!!!!!!!!!!!!\n",
      "start points starting\n",
      "F:\\myProjects\\av\\esmini\\bin\\odrplot.exe F:\\myProjects\\av\\junction-art\\output\\2R2L_45_no2.xodr\n",
      "saving image to F:\\myProjects\\av\\junction-art\\output\\2R2L_45_no2.xodr-image.png\n",
      "randomSome2ways2Lanes: creating 3 for angle: 49.5\n",
      "starting adjustment. May freeze!!!!!!!!!!!!!\n",
      "start points starting\n",
      "F:\\myProjects\\av\\esmini\\bin\\odrplot.exe F:\\myProjects\\av\\junction-art\\output\\2R2L_50_no0.xodr\n",
      "saving image to F:\\myProjects\\av\\junction-art\\output\\2R2L_50_no0.xodr-image.png\n",
      "starting adjustment. May freeze!!!!!!!!!!!!!\n",
      "start points starting\n",
      "F:\\myProjects\\av\\esmini\\bin\\odrplot.exe F:\\myProjects\\av\\junction-art\\output\\2R2L_50_no1.xodr\n",
      "saving image to F:\\myProjects\\av\\junction-art\\output\\2R2L_50_no1.xodr-image.png\n",
      "starting adjustment. May freeze!!!!!!!!!!!!!\n",
      "start points starting\n",
      "F:\\myProjects\\av\\esmini\\bin\\odrplot.exe F:\\myProjects\\av\\junction-art\\output\\2R2L_50_no2.xodr\n",
      "saving image to F:\\myProjects\\av\\junction-art\\output\\2R2L_50_no2.xodr-image.png\n",
      "randomSome2ways2Lanes: creating 3 for angle: 54.0\n",
      "starting adjustment. May freeze!!!!!!!!!!!!!\n",
      "start points starting\n",
      "F:\\myProjects\\av\\esmini\\bin\\odrplot.exe F:\\myProjects\\av\\junction-art\\output\\2R2L_54_no0.xodr\n",
      "saving image to F:\\myProjects\\av\\junction-art\\output\\2R2L_54_no0.xodr-image.png\n",
      "starting adjustment. May freeze!!!!!!!!!!!!!\n",
      "start points starting\n",
      "F:\\myProjects\\av\\esmini\\bin\\odrplot.exe F:\\myProjects\\av\\junction-art\\output\\2R2L_54_no1.xodr\n",
      "saving image to F:\\myProjects\\av\\junction-art\\output\\2R2L_54_no1.xodr-image.png\n",
      "starting adjustment. May freeze!!!!!!!!!!!!!\n",
      "start points starting\n",
      "F:\\myProjects\\av\\esmini\\bin\\odrplot.exe F:\\myProjects\\av\\junction-art\\output\\2R2L_54_no2.xodr\n",
      "saving image to F:\\myProjects\\av\\junction-art\\output\\2R2L_54_no2.xodr-image.png\n",
      "randomSome2ways2Lanes: creating 3 for angle: 58.5\n",
      "starting adjustment. May freeze!!!!!!!!!!!!!\n",
      "start points starting\n",
      "F:\\myProjects\\av\\esmini\\bin\\odrplot.exe F:\\myProjects\\av\\junction-art\\output\\2R2L_58_no0.xodr\n",
      "saving image to F:\\myProjects\\av\\junction-art\\output\\2R2L_58_no0.xodr-image.png\n",
      "starting adjustment. May freeze!!!!!!!!!!!!!\n",
      "start points starting\n",
      "F:\\myProjects\\av\\esmini\\bin\\odrplot.exe F:\\myProjects\\av\\junction-art\\output\\2R2L_58_no1.xodr\n",
      "saving image to F:\\myProjects\\av\\junction-art\\output\\2R2L_58_no1.xodr-image.png\n",
      "starting adjustment. May freeze!!!!!!!!!!!!!\n",
      "start points starting\n",
      "F:\\myProjects\\av\\esmini\\bin\\odrplot.exe F:\\myProjects\\av\\junction-art\\output\\2R2L_58_no2.xodr\n",
      "saving image to F:\\myProjects\\av\\junction-art\\output\\2R2L_58_no2.xodr-image.png\n",
      "randomSome2ways2Lanes: creating 3 for angle: 63.0\n",
      "starting adjustment. May freeze!!!!!!!!!!!!!\n",
      "start points starting\n",
      "F:\\myProjects\\av\\esmini\\bin\\odrplot.exe F:\\myProjects\\av\\junction-art\\output\\2R2L_63_no0.xodr\n",
      "saving image to F:\\myProjects\\av\\junction-art\\output\\2R2L_63_no0.xodr-image.png\n",
      "starting adjustment. May freeze!!!!!!!!!!!!!\n",
      "start points starting\n",
      "F:\\myProjects\\av\\esmini\\bin\\odrplot.exe F:\\myProjects\\av\\junction-art\\output\\2R2L_63_no1.xodr\n",
      "saving image to F:\\myProjects\\av\\junction-art\\output\\2R2L_63_no1.xodr-image.png\n",
      "starting adjustment. May freeze!!!!!!!!!!!!!\n",
      "start points starting\n",
      "F:\\myProjects\\av\\esmini\\bin\\odrplot.exe F:\\myProjects\\av\\junction-art\\output\\2R2L_63_no2.xodr\n",
      "saving image to F:\\myProjects\\av\\junction-art\\output\\2R2L_63_no2.xodr-image.png\n"
     ]
    },
    {
     "name": "stdout",
     "output_type": "stream",
     "text": [
      "randomSome2ways2Lanes: creating 3 for angle: 67.5\n",
      "starting adjustment. May freeze!!!!!!!!!!!!!\n",
      "start points starting\n",
      "F:\\myProjects\\av\\esmini\\bin\\odrplot.exe F:\\myProjects\\av\\junction-art\\output\\2R2L_68_no0.xodr\n",
      "saving image to F:\\myProjects\\av\\junction-art\\output\\2R2L_68_no0.xodr-image.png\n",
      "starting adjustment. May freeze!!!!!!!!!!!!!\n",
      "start points starting\n",
      "F:\\myProjects\\av\\esmini\\bin\\odrplot.exe F:\\myProjects\\av\\junction-art\\output\\2R2L_68_no1.xodr\n",
      "saving image to F:\\myProjects\\av\\junction-art\\output\\2R2L_68_no1.xodr-image.png\n",
      "starting adjustment. May freeze!!!!!!!!!!!!!\n",
      "start points starting\n",
      "F:\\myProjects\\av\\esmini\\bin\\odrplot.exe F:\\myProjects\\av\\junction-art\\output\\2R2L_68_no2.xodr\n",
      "saving image to F:\\myProjects\\av\\junction-art\\output\\2R2L_68_no2.xodr-image.png\n",
      "randomSome2ways2Lanes: creating 3 for angle: 72.0\n",
      "starting adjustment. May freeze!!!!!!!!!!!!!\n",
      "start points starting\n",
      "F:\\myProjects\\av\\esmini\\bin\\odrplot.exe F:\\myProjects\\av\\junction-art\\output\\2R2L_72_no0.xodr\n",
      "saving image to F:\\myProjects\\av\\junction-art\\output\\2R2L_72_no0.xodr-image.png\n",
      "starting adjustment. May freeze!!!!!!!!!!!!!\n",
      "start points starting\n",
      "F:\\myProjects\\av\\esmini\\bin\\odrplot.exe F:\\myProjects\\av\\junction-art\\output\\2R2L_72_no1.xodr\n",
      "saving image to F:\\myProjects\\av\\junction-art\\output\\2R2L_72_no1.xodr-image.png\n",
      "starting adjustment. May freeze!!!!!!!!!!!!!\n",
      "start points starting\n",
      "F:\\myProjects\\av\\esmini\\bin\\odrplot.exe F:\\myProjects\\av\\junction-art\\output\\2R2L_72_no2.xodr\n",
      "saving image to F:\\myProjects\\av\\junction-art\\output\\2R2L_72_no2.xodr-image.png\n",
      "randomSome2ways2Lanes: creating 3 for angle: 76.5\n",
      "starting adjustment. May freeze!!!!!!!!!!!!!\n",
      "start points starting\n",
      "F:\\myProjects\\av\\esmini\\bin\\odrplot.exe F:\\myProjects\\av\\junction-art\\output\\2R2L_76_no0.xodr\n",
      "saving image to F:\\myProjects\\av\\junction-art\\output\\2R2L_76_no0.xodr-image.png\n",
      "starting adjustment. May freeze!!!!!!!!!!!!!\n",
      "start points starting\n",
      "F:\\myProjects\\av\\esmini\\bin\\odrplot.exe F:\\myProjects\\av\\junction-art\\output\\2R2L_76_no1.xodr\n",
      "saving image to F:\\myProjects\\av\\junction-art\\output\\2R2L_76_no1.xodr-image.png\n",
      "starting adjustment. May freeze!!!!!!!!!!!!!\n",
      "start points starting\n",
      "F:\\myProjects\\av\\esmini\\bin\\odrplot.exe F:\\myProjects\\av\\junction-art\\output\\2R2L_76_no2.xodr\n",
      "saving image to F:\\myProjects\\av\\junction-art\\output\\2R2L_76_no2.xodr-image.png\n",
      "randomSome2ways2Lanes: creating 3 for angle: 81.0\n",
      "starting adjustment. May freeze!!!!!!!!!!!!!\n",
      "start points starting\n",
      "F:\\myProjects\\av\\esmini\\bin\\odrplot.exe F:\\myProjects\\av\\junction-art\\output\\2R2L_81_no0.xodr\n",
      "saving image to F:\\myProjects\\av\\junction-art\\output\\2R2L_81_no0.xodr-image.png\n",
      "starting adjustment. May freeze!!!!!!!!!!!!!\n",
      "start points starting\n",
      "F:\\myProjects\\av\\esmini\\bin\\odrplot.exe F:\\myProjects\\av\\junction-art\\output\\2R2L_81_no1.xodr\n",
      "saving image to F:\\myProjects\\av\\junction-art\\output\\2R2L_81_no1.xodr-image.png\n",
      "starting adjustment. May freeze!!!!!!!!!!!!!\n",
      "start points starting\n",
      "F:\\myProjects\\av\\esmini\\bin\\odrplot.exe F:\\myProjects\\av\\junction-art\\output\\2R2L_81_no2.xodr\n",
      "saving image to F:\\myProjects\\av\\junction-art\\output\\2R2L_81_no2.xodr-image.png\n",
      "randomSome2ways2Lanes: creating 3 for angle: 85.5\n",
      "starting adjustment. May freeze!!!!!!!!!!!!!\n",
      "start points starting\n",
      "F:\\myProjects\\av\\esmini\\bin\\odrplot.exe F:\\myProjects\\av\\junction-art\\output\\2R2L_86_no0.xodr\n",
      "saving image to F:\\myProjects\\av\\junction-art\\output\\2R2L_86_no0.xodr-image.png\n",
      "starting adjustment. May freeze!!!!!!!!!!!!!\n",
      "start points starting\n",
      "F:\\myProjects\\av\\esmini\\bin\\odrplot.exe F:\\myProjects\\av\\junction-art\\output\\2R2L_86_no1.xodr\n",
      "saving image to F:\\myProjects\\av\\junction-art\\output\\2R2L_86_no1.xodr-image.png\n",
      "starting adjustment. May freeze!!!!!!!!!!!!!\n",
      "start points starting\n",
      "F:\\myProjects\\av\\esmini\\bin\\odrplot.exe F:\\myProjects\\av\\junction-art\\output\\2R2L_86_no2.xodr\n",
      "saving image to F:\\myProjects\\av\\junction-art\\output\\2R2L_86_no2.xodr-image.png\n",
      "randomSome2ways2Lanes: creating 3 for angle: 90.0\n",
      "starting adjustment. May freeze!!!!!!!!!!!!!\n",
      "start points starting\n",
      "F:\\myProjects\\av\\esmini\\bin\\odrplot.exe F:\\myProjects\\av\\junction-art\\output\\2R2L_90_no0.xodr\n",
      "saving image to F:\\myProjects\\av\\junction-art\\output\\2R2L_90_no0.xodr-image.png\n",
      "starting adjustment. May freeze!!!!!!!!!!!!!\n",
      "start points starting\n",
      "F:\\myProjects\\av\\esmini\\bin\\odrplot.exe F:\\myProjects\\av\\junction-art\\output\\2R2L_90_no1.xodr\n",
      "saving image to F:\\myProjects\\av\\junction-art\\output\\2R2L_90_no1.xodr-image.png\n",
      "starting adjustment. May freeze!!!!!!!!!!!!!\n",
      "start points starting\n",
      "F:\\myProjects\\av\\esmini\\bin\\odrplot.exe F:\\myProjects\\av\\junction-art\\output\\2R2L_90_no2.xodr\n",
      "saving image to F:\\myProjects\\av\\junction-art\\output\\2R2L_90_no2.xodr-image.png\n",
      "randomSome2ways2Lanes: creating 3 for angle: 94.5\n",
      "starting adjustment. May freeze!!!!!!!!!!!!!\n",
      "start points starting\n",
      "F:\\myProjects\\av\\esmini\\bin\\odrplot.exe F:\\myProjects\\av\\junction-art\\output\\2R2L_94_no0.xodr\n",
      "saving image to F:\\myProjects\\av\\junction-art\\output\\2R2L_94_no0.xodr-image.png\n",
      "starting adjustment. May freeze!!!!!!!!!!!!!\n",
      "start points starting\n",
      "F:\\myProjects\\av\\esmini\\bin\\odrplot.exe F:\\myProjects\\av\\junction-art\\output\\2R2L_94_no1.xodr\n",
      "saving image to F:\\myProjects\\av\\junction-art\\output\\2R2L_94_no1.xodr-image.png\n",
      "starting adjustment. May freeze!!!!!!!!!!!!!\n",
      "start points starting\n",
      "F:\\myProjects\\av\\esmini\\bin\\odrplot.exe F:\\myProjects\\av\\junction-art\\output\\2R2L_94_no2.xodr\n",
      "saving image to F:\\myProjects\\av\\junction-art\\output\\2R2L_94_no2.xodr-image.png\n",
      "randomSome2ways2Lanes: creating 3 for angle: 99.0\n",
      "starting adjustment. May freeze!!!!!!!!!!!!!\n",
      "start points starting\n",
      "F:\\myProjects\\av\\esmini\\bin\\odrplot.exe F:\\myProjects\\av\\junction-art\\output\\2R2L_99_no0.xodr\n",
      "saving image to F:\\myProjects\\av\\junction-art\\output\\2R2L_99_no0.xodr-image.png\n",
      "starting adjustment. May freeze!!!!!!!!!!!!!\n",
      "start points starting\n",
      "F:\\myProjects\\av\\esmini\\bin\\odrplot.exe F:\\myProjects\\av\\junction-art\\output\\2R2L_99_no1.xodr\n",
      "saving image to F:\\myProjects\\av\\junction-art\\output\\2R2L_99_no1.xodr-image.png\n",
      "starting adjustment. May freeze!!!!!!!!!!!!!\n",
      "start points starting\n",
      "F:\\myProjects\\av\\esmini\\bin\\odrplot.exe F:\\myProjects\\av\\junction-art\\output\\2R2L_99_no2.xodr\n",
      "saving image to F:\\myProjects\\av\\junction-art\\output\\2R2L_99_no2.xodr-image.png\n",
      "randomSome2ways2Lanes: creating 3 for angle: 103.5\n",
      "starting adjustment. May freeze!!!!!!!!!!!!!\n",
      "start points starting\n",
      "F:\\myProjects\\av\\esmini\\bin\\odrplot.exe F:\\myProjects\\av\\junction-art\\output\\2R2L_104_no0.xodr\n",
      "saving image to F:\\myProjects\\av\\junction-art\\output\\2R2L_104_no0.xodr-image.png\n",
      "starting adjustment. May freeze!!!!!!!!!!!!!\n",
      "start points starting\n",
      "F:\\myProjects\\av\\esmini\\bin\\odrplot.exe F:\\myProjects\\av\\junction-art\\output\\2R2L_104_no1.xodr\n",
      "saving image to F:\\myProjects\\av\\junction-art\\output\\2R2L_104_no1.xodr-image.png\n",
      "starting adjustment. May freeze!!!!!!!!!!!!!\n",
      "start points starting\n",
      "F:\\myProjects\\av\\esmini\\bin\\odrplot.exe F:\\myProjects\\av\\junction-art\\output\\2R2L_104_no2.xodr\n",
      "saving image to F:\\myProjects\\av\\junction-art\\output\\2R2L_104_no2.xodr-image.png\n",
      "randomSome2ways2Lanes: creating 3 for angle: 108.0\n",
      "starting adjustment. May freeze!!!!!!!!!!!!!\n",
      "start points starting\n",
      "F:\\myProjects\\av\\esmini\\bin\\odrplot.exe F:\\myProjects\\av\\junction-art\\output\\2R2L_108_no0.xodr\n",
      "saving image to F:\\myProjects\\av\\junction-art\\output\\2R2L_108_no0.xodr-image.png\n",
      "starting adjustment. May freeze!!!!!!!!!!!!!\n",
      "start points starting\n",
      "F:\\myProjects\\av\\esmini\\bin\\odrplot.exe F:\\myProjects\\av\\junction-art\\output\\2R2L_108_no1.xodr\n",
      "saving image to F:\\myProjects\\av\\junction-art\\output\\2R2L_108_no1.xodr-image.png\n",
      "starting adjustment. May freeze!!!!!!!!!!!!!\n",
      "start points starting\n",
      "F:\\myProjects\\av\\esmini\\bin\\odrplot.exe F:\\myProjects\\av\\junction-art\\output\\2R2L_108_no2.xodr\n",
      "saving image to F:\\myProjects\\av\\junction-art\\output\\2R2L_108_no2.xodr-image.png\n",
      "randomSome2ways2Lanes: creating 3 for angle: 112.5\n",
      "starting adjustment. May freeze!!!!!!!!!!!!!\n",
      "start points starting\n",
      "F:\\myProjects\\av\\esmini\\bin\\odrplot.exe F:\\myProjects\\av\\junction-art\\output\\2R2L_112_no0.xodr\n",
      "saving image to F:\\myProjects\\av\\junction-art\\output\\2R2L_112_no0.xodr-image.png\n",
      "starting adjustment. May freeze!!!!!!!!!!!!!\n",
      "start points starting\n",
      "F:\\myProjects\\av\\esmini\\bin\\odrplot.exe F:\\myProjects\\av\\junction-art\\output\\2R2L_112_no1.xodr\n",
      "saving image to F:\\myProjects\\av\\junction-art\\output\\2R2L_112_no1.xodr-image.png\n"
     ]
    },
    {
     "name": "stdout",
     "output_type": "stream",
     "text": [
      "starting adjustment. May freeze!!!!!!!!!!!!!\n",
      "start points starting\n",
      "F:\\myProjects\\av\\esmini\\bin\\odrplot.exe F:\\myProjects\\av\\junction-art\\output\\2R2L_112_no2.xodr\n",
      "saving image to F:\\myProjects\\av\\junction-art\\output\\2R2L_112_no2.xodr-image.png\n",
      "randomSome2ways2Lanes: creating 3 for angle: 117.0\n",
      "starting adjustment. May freeze!!!!!!!!!!!!!\n",
      "start points starting\n",
      "F:\\myProjects\\av\\esmini\\bin\\odrplot.exe F:\\myProjects\\av\\junction-art\\output\\2R2L_117_no0.xodr\n",
      "saving image to F:\\myProjects\\av\\junction-art\\output\\2R2L_117_no0.xodr-image.png\n",
      "starting adjustment. May freeze!!!!!!!!!!!!!\n",
      "start points starting\n",
      "F:\\myProjects\\av\\esmini\\bin\\odrplot.exe F:\\myProjects\\av\\junction-art\\output\\2R2L_117_no1.xodr\n",
      "saving image to F:\\myProjects\\av\\junction-art\\output\\2R2L_117_no1.xodr-image.png\n",
      "starting adjustment. May freeze!!!!!!!!!!!!!\n",
      "start points starting\n",
      "F:\\myProjects\\av\\esmini\\bin\\odrplot.exe F:\\myProjects\\av\\junction-art\\output\\2R2L_117_no2.xodr\n",
      "saving image to F:\\myProjects\\av\\junction-art\\output\\2R2L_117_no2.xodr-image.png\n",
      "randomSome2ways2Lanes: creating 3 for angle: 121.5\n",
      "starting adjustment. May freeze!!!!!!!!!!!!!\n",
      "start points starting\n",
      "F:\\myProjects\\av\\esmini\\bin\\odrplot.exe F:\\myProjects\\av\\junction-art\\output\\2R2L_122_no0.xodr\n",
      "saving image to F:\\myProjects\\av\\junction-art\\output\\2R2L_122_no0.xodr-image.png\n",
      "starting adjustment. May freeze!!!!!!!!!!!!!\n",
      "start points starting\n",
      "F:\\myProjects\\av\\esmini\\bin\\odrplot.exe F:\\myProjects\\av\\junction-art\\output\\2R2L_122_no1.xodr\n",
      "saving image to F:\\myProjects\\av\\junction-art\\output\\2R2L_122_no1.xodr-image.png\n",
      "starting adjustment. May freeze!!!!!!!!!!!!!\n",
      "start points starting\n",
      "F:\\myProjects\\av\\esmini\\bin\\odrplot.exe F:\\myProjects\\av\\junction-art\\output\\2R2L_122_no2.xodr\n",
      "saving image to F:\\myProjects\\av\\junction-art\\output\\2R2L_122_no2.xodr-image.png\n",
      "randomSome2ways2Lanes: creating 3 for angle: 126.0\n",
      "starting adjustment. May freeze!!!!!!!!!!!!!\n",
      "start points starting\n",
      "F:\\myProjects\\av\\esmini\\bin\\odrplot.exe F:\\myProjects\\av\\junction-art\\output\\2R2L_126_no0.xodr\n",
      "saving image to F:\\myProjects\\av\\junction-art\\output\\2R2L_126_no0.xodr-image.png\n",
      "starting adjustment. May freeze!!!!!!!!!!!!!\n",
      "start points starting\n",
      "F:\\myProjects\\av\\esmini\\bin\\odrplot.exe F:\\myProjects\\av\\junction-art\\output\\2R2L_126_no1.xodr\n",
      "saving image to F:\\myProjects\\av\\junction-art\\output\\2R2L_126_no1.xodr-image.png\n",
      "starting adjustment. May freeze!!!!!!!!!!!!!\n",
      "start points starting\n",
      "F:\\myProjects\\av\\esmini\\bin\\odrplot.exe F:\\myProjects\\av\\junction-art\\output\\2R2L_126_no2.xodr\n",
      "saving image to F:\\myProjects\\av\\junction-art\\output\\2R2L_126_no2.xodr-image.png\n",
      "randomSome2ways2Lanes: creating 3 for angle: 130.5\n",
      "starting adjustment. May freeze!!!!!!!!!!!!!\n",
      "start points starting\n",
      "F:\\myProjects\\av\\esmini\\bin\\odrplot.exe F:\\myProjects\\av\\junction-art\\output\\2R2L_130_no0.xodr\n",
      "saving image to F:\\myProjects\\av\\junction-art\\output\\2R2L_130_no0.xodr-image.png\n",
      "starting adjustment. May freeze!!!!!!!!!!!!!\n",
      "start points starting\n",
      "F:\\myProjects\\av\\esmini\\bin\\odrplot.exe F:\\myProjects\\av\\junction-art\\output\\2R2L_130_no1.xodr\n",
      "saving image to F:\\myProjects\\av\\junction-art\\output\\2R2L_130_no1.xodr-image.png\n",
      "starting adjustment. May freeze!!!!!!!!!!!!!\n",
      "start points starting\n",
      "F:\\myProjects\\av\\esmini\\bin\\odrplot.exe F:\\myProjects\\av\\junction-art\\output\\2R2L_130_no2.xodr\n",
      "saving image to F:\\myProjects\\av\\junction-art\\output\\2R2L_130_no2.xodr-image.png\n",
      "randomSome2ways2Lanes: creating 3 for angle: 135.0\n",
      "starting adjustment. May freeze!!!!!!!!!!!!!\n",
      "start points starting\n",
      "F:\\myProjects\\av\\esmini\\bin\\odrplot.exe F:\\myProjects\\av\\junction-art\\output\\2R2L_135_no0.xodr\n",
      "saving image to F:\\myProjects\\av\\junction-art\\output\\2R2L_135_no0.xodr-image.png\n",
      "starting adjustment. May freeze!!!!!!!!!!!!!\n",
      "start points starting\n",
      "F:\\myProjects\\av\\esmini\\bin\\odrplot.exe F:\\myProjects\\av\\junction-art\\output\\2R2L_135_no1.xodr\n",
      "saving image to F:\\myProjects\\av\\junction-art\\output\\2R2L_135_no1.xodr-image.png\n",
      "starting adjustment. May freeze!!!!!!!!!!!!!\n",
      "start points starting\n",
      "F:\\myProjects\\av\\esmini\\bin\\odrplot.exe F:\\myProjects\\av\\junction-art\\output\\2R2L_135_no2.xodr\n",
      "saving image to F:\\myProjects\\av\\junction-art\\output\\2R2L_135_no2.xodr-image.png\n",
      "randomSome2ways2Lanes: creating 3 for angle: 139.5\n",
      "starting adjustment. May freeze!!!!!!!!!!!!!\n",
      "start points starting\n",
      "F:\\myProjects\\av\\esmini\\bin\\odrplot.exe F:\\myProjects\\av\\junction-art\\output\\2R2L_140_no0.xodr\n",
      "saving image to F:\\myProjects\\av\\junction-art\\output\\2R2L_140_no0.xodr-image.png\n",
      "starting adjustment. May freeze!!!!!!!!!!!!!\n",
      "start points starting\n",
      "F:\\myProjects\\av\\esmini\\bin\\odrplot.exe F:\\myProjects\\av\\junction-art\\output\\2R2L_140_no1.xodr\n",
      "saving image to F:\\myProjects\\av\\junction-art\\output\\2R2L_140_no1.xodr-image.png\n",
      "starting adjustment. May freeze!!!!!!!!!!!!!\n",
      "start points starting\n",
      "F:\\myProjects\\av\\esmini\\bin\\odrplot.exe F:\\myProjects\\av\\junction-art\\output\\2R2L_140_no2.xodr\n",
      "saving image to F:\\myProjects\\av\\junction-art\\output\\2R2L_140_no2.xodr-image.png\n",
      "randomSome2ways2Lanes: creating 3 for angle: 144.0\n",
      "starting adjustment. May freeze!!!!!!!!!!!!!\n",
      "start points starting\n",
      "F:\\myProjects\\av\\esmini\\bin\\odrplot.exe F:\\myProjects\\av\\junction-art\\output\\2R2L_144_no0.xodr\n",
      "saving image to F:\\myProjects\\av\\junction-art\\output\\2R2L_144_no0.xodr-image.png\n",
      "starting adjustment. May freeze!!!!!!!!!!!!!\n",
      "start points starting\n",
      "F:\\myProjects\\av\\esmini\\bin\\odrplot.exe F:\\myProjects\\av\\junction-art\\output\\2R2L_144_no1.xodr\n",
      "saving image to F:\\myProjects\\av\\junction-art\\output\\2R2L_144_no1.xodr-image.png\n",
      "starting adjustment. May freeze!!!!!!!!!!!!!\n",
      "start points starting\n",
      "F:\\myProjects\\av\\esmini\\bin\\odrplot.exe F:\\myProjects\\av\\junction-art\\output\\2R2L_144_no2.xodr\n",
      "saving image to F:\\myProjects\\av\\junction-art\\output\\2R2L_144_no2.xodr-image.png\n",
      "randomSome2ways2Lanes: creating 3 for angle: 148.5\n",
      "starting adjustment. May freeze!!!!!!!!!!!!!\n",
      "start points starting\n",
      "F:\\myProjects\\av\\esmini\\bin\\odrplot.exe F:\\myProjects\\av\\junction-art\\output\\2R2L_148_no0.xodr\n",
      "saving image to F:\\myProjects\\av\\junction-art\\output\\2R2L_148_no0.xodr-image.png\n",
      "starting adjustment. May freeze!!!!!!!!!!!!!\n",
      "start points starting\n",
      "F:\\myProjects\\av\\esmini\\bin\\odrplot.exe F:\\myProjects\\av\\junction-art\\output\\2R2L_148_no1.xodr\n",
      "saving image to F:\\myProjects\\av\\junction-art\\output\\2R2L_148_no1.xodr-image.png\n",
      "starting adjustment. May freeze!!!!!!!!!!!!!\n",
      "start points starting\n",
      "F:\\myProjects\\av\\esmini\\bin\\odrplot.exe F:\\myProjects\\av\\junction-art\\output\\2R2L_148_no2.xodr\n",
      "saving image to F:\\myProjects\\av\\junction-art\\output\\2R2L_148_no2.xodr-image.png\n",
      "randomSome2ways2Lanes: creating 3 for angle: 153.0\n",
      "starting adjustment. May freeze!!!!!!!!!!!!!\n",
      "start points starting\n",
      "F:\\myProjects\\av\\esmini\\bin\\odrplot.exe F:\\myProjects\\av\\junction-art\\output\\2R2L_153_no0.xodr\n",
      "saving image to F:\\myProjects\\av\\junction-art\\output\\2R2L_153_no0.xodr-image.png\n",
      "starting adjustment. May freeze!!!!!!!!!!!!!\n",
      "start points starting\n",
      "F:\\myProjects\\av\\esmini\\bin\\odrplot.exe F:\\myProjects\\av\\junction-art\\output\\2R2L_153_no1.xodr\n",
      "saving image to F:\\myProjects\\av\\junction-art\\output\\2R2L_153_no1.xodr-image.png\n",
      "starting adjustment. May freeze!!!!!!!!!!!!!\n",
      "start points starting\n",
      "F:\\myProjects\\av\\esmini\\bin\\odrplot.exe F:\\myProjects\\av\\junction-art\\output\\2R2L_153_no2.xodr\n",
      "saving image to F:\\myProjects\\av\\junction-art\\output\\2R2L_153_no2.xodr-image.png\n",
      "randomSome2ways2Lanes: creating 3 for angle: 157.5\n",
      "starting adjustment. May freeze!!!!!!!!!!!!!\n",
      "start points starting\n",
      "F:\\myProjects\\av\\esmini\\bin\\odrplot.exe F:\\myProjects\\av\\junction-art\\output\\2R2L_158_no0.xodr\n",
      "saving image to F:\\myProjects\\av\\junction-art\\output\\2R2L_158_no0.xodr-image.png\n",
      "starting adjustment. May freeze!!!!!!!!!!!!!\n",
      "start points starting\n",
      "F:\\myProjects\\av\\esmini\\bin\\odrplot.exe F:\\myProjects\\av\\junction-art\\output\\2R2L_158_no1.xodr\n",
      "saving image to F:\\myProjects\\av\\junction-art\\output\\2R2L_158_no1.xodr-image.png\n",
      "starting adjustment. May freeze!!!!!!!!!!!!!\n",
      "start points starting\n",
      "F:\\myProjects\\av\\esmini\\bin\\odrplot.exe F:\\myProjects\\av\\junction-art\\output\\2R2L_158_no2.xodr\n",
      "saving image to F:\\myProjects\\av\\junction-art\\output\\2R2L_158_no2.xodr-image.png\n",
      "randomSome2ways2Lanes: creating 3 for angle: 162.0\n",
      "starting adjustment. May freeze!!!!!!!!!!!!!\n",
      "start points starting\n",
      "F:\\myProjects\\av\\esmini\\bin\\odrplot.exe F:\\myProjects\\av\\junction-art\\output\\2R2L_162_no0.xodr\n",
      "saving image to F:\\myProjects\\av\\junction-art\\output\\2R2L_162_no0.xodr-image.png\n",
      "starting adjustment. May freeze!!!!!!!!!!!!!\n",
      "start points starting\n",
      "F:\\myProjects\\av\\esmini\\bin\\odrplot.exe F:\\myProjects\\av\\junction-art\\output\\2R2L_162_no1.xodr\n",
      "saving image to F:\\myProjects\\av\\junction-art\\output\\2R2L_162_no1.xodr-image.png\n"
     ]
    },
    {
     "name": "stdout",
     "output_type": "stream",
     "text": [
      "starting adjustment. May freeze!!!!!!!!!!!!!\n",
      "start points starting\n",
      "F:\\myProjects\\av\\esmini\\bin\\odrplot.exe F:\\myProjects\\av\\junction-art\\output\\2R2L_162_no2.xodr\n",
      "saving image to F:\\myProjects\\av\\junction-art\\output\\2R2L_162_no2.xodr-image.png\n",
      "randomSome2ways2Lanes: creating 3 for angle: 166.5\n",
      "starting adjustment. May freeze!!!!!!!!!!!!!\n",
      "start points starting\n",
      "F:\\myProjects\\av\\esmini\\bin\\odrplot.exe F:\\myProjects\\av\\junction-art\\output\\2R2L_166_no0.xodr\n",
      "saving image to F:\\myProjects\\av\\junction-art\\output\\2R2L_166_no0.xodr-image.png\n",
      "starting adjustment. May freeze!!!!!!!!!!!!!\n",
      "start points starting\n",
      "F:\\myProjects\\av\\esmini\\bin\\odrplot.exe F:\\myProjects\\av\\junction-art\\output\\2R2L_166_no1.xodr\n",
      "saving image to F:\\myProjects\\av\\junction-art\\output\\2R2L_166_no1.xodr-image.png\n",
      "starting adjustment. May freeze!!!!!!!!!!!!!\n",
      "start points starting\n",
      "F:\\myProjects\\av\\esmini\\bin\\odrplot.exe F:\\myProjects\\av\\junction-art\\output\\2R2L_166_no2.xodr\n",
      "saving image to F:\\myProjects\\av\\junction-art\\output\\2R2L_166_no2.xodr-image.png\n",
      "created 102 roads\n",
      "Odr objects saved to F:\\myProjects\\av\\junction-art\\output\\harvested2R2LOrds.dill\n"
     ]
    }
   ],
   "source": [
    "harvester.harvest2ways2Lanes(stepAngle = np.pi / 40,  maxTries = 100)"
   ]
  },
  {
   "cell_type": "code",
   "execution_count": 6,
   "metadata": {},
   "outputs": [
    {
     "name": "stdout",
     "output_type": "stream",
     "text": [
      "F:\\myProjects\\av\\esmini\\bin\\odrplot.exe F:/myProjects/av/junction-art/junctions-2r/road2lane2angle18no0.xodr\n"
     ]
    },
    {
     "data": {
      "image/png": "[encoded data removed]",
      "text/plain": [
       "<Figure size 1152x576 with 1 Axes>"
      ]
     },
     "metadata": {
      "needs_background": "light"
     },
     "output_type": "display_data"
    },
    {
     "name": "stdout",
     "output_type": "stream",
     "text": [
      "F:\\myProjects\\av\\esmini\\bin\\odrplot.exe F:/myProjects/av/junction-art/junctions-2r/road2lane2angle18no1.xodr\n"
     ]
    },
    {
     "data": {
      "image/png": "[encoded data removed]",
      "text/plain": [
       "<Figure size 1152x576 with 1 Axes>"
      ]
     },
     "metadata": {
      "needs_background": "light"
     },
     "output_type": "display_data"
    },
    {
     "name": "stdout",
     "output_type": "stream",
     "text": [
      "F:\\myProjects\\av\\esmini\\bin\\odrplot.exe F:/myProjects/av/junction-art/junctions-2r/road2lane2angle18no2.xodr\n"
     ]
    },
    {
     "data": {
      "image/png": "[encoded data removed]",
      "text/plain": [
       "<Figure size 1152x576 with 1 Axes>"
      ]
     },
     "metadata": {
      "needs_background": "light"
     },
     "output_type": "display_data"
    },
    {
     "name": "stdout",
     "output_type": "stream",
     "text": [
      "F:\\myProjects\\av\\esmini\\bin\\odrplot.exe F:/myProjects/av/junction-art/junctions-2r/road2lane2angle18no3.xodr\n"
     ]
    },
    {
     "data": {
      "image/png": "[encoded data removed]",
      "text/plain": [
       "<Figure size 1152x576 with 1 Axes>"
      ]
     },
     "metadata": {
      "needs_background": "light"
     },
     "output_type": "display_data"
    },
    {
     "name": "stdout",
     "output_type": "stream",
     "text": [
      "F:\\myProjects\\av\\esmini\\bin\\odrplot.exe F:/myProjects/av/junction-art/junctions-2r/road2lane2angle18no4.xodr\n"
     ]
    },
    {
     "data": {
      "image/png": "[encoded data removed]",
      "text/plain": [
       "<Figure size 1152x576 with 1 Axes>"
      ]
     },
     "metadata": {
      "needs_background": "light"
     },
     "output_type": "display_data"
    },
    {
     "name": "stdout",
     "output_type": "stream",
     "text": [
      "F:\\myProjects\\av\\esmini\\bin\\odrplot.exe F:/myProjects/av/junction-art/junctions-2r/road2lane2angle18no5.xodr\n"
     ]
    },
    {
     "data": {
      "image/png": "[encoded data removed]",
      "text/plain": [
       "<Figure size 1152x576 with 1 Axes>"
      ]
     },
     "metadata": {
      "needs_background": "light"
     },
     "output_type": "display_data"
    },
    {
     "name": "stdout",
     "output_type": "stream",
     "text": [
      "F:\\myProjects\\av\\esmini\\bin\\odrplot.exe F:/myProjects/av/junction-art/junctions-2r/road2lane2angle45no0.xodr\n"
     ]
    },
    {
     "data": {
      "image/png": "[encoded data removed]",
      "text/plain": [
       "<Figure size 1152x576 with 1 Axes>"
      ]
     },
     "metadata": {
      "needs_background": "light"
     },
     "output_type": "display_data"
    },
    {
     "name": "stdout",
     "output_type": "stream",
     "text": [
      "F:\\myProjects\\av\\esmini\\bin\\odrplot.exe F:/myProjects/av/junction-art/junctions-2r/road2lane2angle45no1.xodr\n"
     ]
    },
    {
     "data": {
      "image/png": "[encoded data removed]",
      "text/plain": [
       "<Figure size 1152x576 with 1 Axes>"
      ]
     },
     "metadata": {
      "needs_background": "light"
     },
     "output_type": "display_data"
    },
    {
     "name": "stdout",
     "output_type": "stream",
     "text": [
      "F:\\myProjects\\av\\esmini\\bin\\odrplot.exe F:/myProjects/av/junction-art/junctions-2r/road2lane2angle45no2.xodr\n"
     ]
    },
    {
     "data": {
      "image/png": "[encoded data removed]",
      "text/plain": [
       "<Figure size 1152x576 with 1 Axes>"
      ]
     },
     "metadata": {
      "needs_background": "light"
     },
     "output_type": "display_data"
    },
    {
     "name": "stdout",
     "output_type": "stream",
     "text": [
      "F:\\myProjects\\av\\esmini\\bin\\odrplot.exe F:/myProjects/av/junction-art/junctions-2r/road2lane2angle45no3.xodr\n"
     ]
    },
    {
     "data": {
      "image/png": "[encoded data removed]",
      "text/plain": [
       "<Figure size 1152x576 with 1 Axes>"
      ]
     },
     "metadata": {
      "needs_background": "light"
     },
     "output_type": "display_data"
    },
    {
     "name": "stdout",
     "output_type": "stream",
     "text": [
      "F:\\myProjects\\av\\esmini\\bin\\odrplot.exe F:/myProjects/av/junction-art/junctions-2r/road2lane2angle45no4.xodr\n"
     ]
    },
    {
     "data": {
      "image/png": "[encoded data removed]",
      "text/plain": [
       "<Figure size 1152x576 with 1 Axes>"
      ]
     },
     "metadata": {
      "needs_background": "light"
     },
     "output_type": "display_data"
    },
    {
     "name": "stdout",
     "output_type": "stream",
     "text": [
      "F:\\myProjects\\av\\esmini\\bin\\odrplot.exe F:/myProjects/av/junction-art/junctions-2r/road2lane2angle45no5.xodr\n"
     ]
    },
    {
     "data": {
      "image/png": "[encoded data removed]",
      "text/plain": [
       "<Figure size 1152x576 with 1 Axes>"
      ]
     },
     "metadata": {
      "needs_background": "light"
     },
     "output_type": "display_data"
    },
    {
     "name": "stdout",
     "output_type": "stream",
     "text": [
      "F:\\myProjects\\av\\esmini\\bin\\odrplot.exe F:/myProjects/av/junction-art/junctions-2r/road2lane2angle144no0.xodr\n"
     ]
    },
    {
     "data": {
      "image/png": "[encoded data removed]",
      "text/plain": [
       "<Figure size 1152x576 with 1 Axes>"
      ]
     },
     "metadata": {
      "needs_background": "light"
     },
     "output_type": "display_data"
    },
    {
     "name": "stdout",
     "output_type": "stream",
     "text": [
      "F:\\myProjects\\av\\esmini\\bin\\odrplot.exe F:/myProjects/av/junction-art/junctions-2r/road2lane2angle144no1.xodr\n"
     ]
    },
    {
     "data": {
      "image/png": "[encoded data removed]",
      "text/plain": [
       "<Figure size 1152x576 with 1 Axes>"
      ]
     },
     "metadata": {
      "needs_background": "light"
     },
     "output_type": "display_data"
    },
    {
     "name": "stdout",
     "output_type": "stream",
     "text": [
      "F:\\myProjects\\av\\esmini\\bin\\odrplot.exe F:/myProjects/av/junction-art/junctions-2r/road2lane2angle144no2.xodr\n"
     ]
    },
    {
     "data": {
      "image/png": "[encoded data removed]",
      "text/plain": [
       "<Figure size 1152x576 with 1 Axes>"
      ]
     },
     "metadata": {
      "needs_background": "light"
     },
     "output_type": "display_data"
    },
    {
     "name": "stdout",
     "output_type": "stream",
     "text": [
      "F:\\myProjects\\av\\esmini\\bin\\odrplot.exe F:/myProjects/av/junction-art/junctions-2r/road2lane2angle144no3.xodr\n"
     ]
    },
    {
     "data": {
      "image/png": "[encoded data removed]",
      "text/plain": [
       "<Figure size 1152x576 with 1 Axes>"
      ]
     },
     "metadata": {
      "needs_background": "light"
     },
     "output_type": "display_data"
    },
    {
     "name": "stdout",
     "output_type": "stream",
     "text": [
      "F:\\myProjects\\av\\esmini\\bin\\odrplot.exe F:/myProjects/av/junction-art/junctions-2r/road2lane2angle144no4.xodr\n"
     ]
    },
    {
     "data": {
      "image/png": "[encoded data removed]",
      "text/plain": [
       "<Figure size 1152x576 with 1 Axes>"
      ]
     },
     "metadata": {
      "needs_background": "light"
     },
     "output_type": "display_data"
    },
    {
     "name": "stdout",
     "output_type": "stream",
     "text": [
      "F:\\myProjects\\av\\esmini\\bin\\odrplot.exe F:/myProjects/av/junction-art/junctions-2r/road2lane2angle144no5.xodr\n"
     ]
    },
    {
     "data": {
      "image/png": "[encoded data removed]",
      "text/plain": [
       "<Figure size 1152x576 with 1 Axes>"
      ]
     },
     "metadata": {
      "needs_background": "light"
     },
     "output_type": "display_data"
    }
   ],
   "source": [
    "\n",
    "for angle in [18, 45, 144]:\n",
    "    for i in range(6):\n",
    "        xodrPath = os.path.join(outputDir,  f\"road2lane2angle{angle}no{i}.xodr\")\n",
    "        # print(xodrPath)\n",
    "        extensions.viewRoadFromXODRFile(xodrPath, 'F:\\\\myProjects\\\\av\\\\esmini')\n",
    "        "
   ]
  },
  {
   "cell_type": "code",
   "execution_count": null,
   "metadata": {},
   "outputs": [],
   "source": []
  }
 ],
 "metadata": {
  "kernelspec": {
   "display_name": "Python 3",
   "language": "python",
   "name": "python3"
  },
  "language_info": {
   "codemirror_mode": {
    "name": "ipython",
    "version": 3
   },
   "file_extension": ".py",
   "mimetype": "text/x-python",
   "name": "python",
   "nbconvert_exporter": "python",
   "pygments_lexer": "ipython3",
   "version": "3.7.4"
  }
 },
 "nbformat": 4,
 "nbformat_minor": 2
}
