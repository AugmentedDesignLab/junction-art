{
 "cells": [
  {
   "cell_type": "code",
   "execution_count": 1,
   "id": "e9db00e2-5d5c-4643-8baf-ee715bf4d1db",
   "metadata": {},
   "outputs": [],
   "source": [
    "%load_ext autoreload\n",
    "%autoreload 2"
   ]
  },
  {
   "cell_type": "code",
   "execution_count": 3,
   "id": "45fab29c-d4a1-4912-bd08-173fdb01f5c9",
   "metadata": {},
   "outputs": [],
   "source": [
    "from gflownet.gflownet import GFlowNet\n",
    "from policy import ForwardPolicy, BackwardPolicy\n",
    "from setGenerationEnv import SetGenerationEnv\n",
    "from gflownet.utils import trajectory_balance_loss\n",
    "from torch.optim import Adam\n",
    "from tqdm import tqdm\n",
    "import torch "
   ]
  },
  {
   "cell_type": "code",
   "execution_count": 39,
   "id": "4fc236ba-ec84-48fc-aecc-521f965859a7",
   "metadata": {},
   "outputs": [
    {
     "name": "stdout",
     "output_type": "stream",
     "text": [
      "tensor([[2., 0., 0., 0.],\n",
      "        [4., 0., 0., 0.]])\n",
      "tensor([[1., 2., 0., 0.],\n",
      "        [2., 4., 0., 0.]])\n"
     ]
    }
   ],
   "source": [
    "bcz_size = 2\n",
    "size = 4\n",
    "nActions = 4\n",
    "setEnv = SetGenerationEnv(size, nActions)\n",
    "\n",
    "s0 = torch.zeros(bcz_size, size).float()\n",
    "actions = torch.tensor([5, 3])\n",
    "\n",
    "s = setEnv.update(s0, actions)\n",
    "print(s)\n",
    "actions = torch.tensor([0, 1])\n",
    "s = setEnv.update(s, actions)\n",
    "print(s)"
   ]
  },
  {
   "cell_type": "code",
   "execution_count": 40,
   "id": "28a6ec4a-c2c0-4fb3-ac8a-7d429b5b94cf",
   "metadata": {},
   "outputs": [
    {
     "name": "stdout",
     "output_type": "stream",
     "text": [
      "tensor([[1., 2., 3., 2.],\n",
      "        [2., 4., 0., 0.]])\n"
     ]
    },
    {
     "data": {
      "text/plain": [
       "tensor([[0., 0., 0., 0., 0., 0., 0., 0., 1.],\n",
       "        [1., 1., 1., 1., 1., 1., 1., 1., 0.]])"
      ]
     },
     "execution_count": 40,
     "metadata": {},
     "output_type": "execute_result"
    }
   ],
   "source": [
    "s[0][0] = 1\n",
    "s[0][2] = 3\n",
    "s[0][3] = 2\n",
    "print(s)\n",
    "\n",
    "setEnv.mask(s)"
   ]
  },
  {
   "cell_type": "code",
   "execution_count": 41,
   "id": "8692e283-1305-482c-9136-749c45affff5",
   "metadata": {},
   "outputs": [
    {
     "data": {
      "text/plain": [
       "tensor([[0.5000, 0.0000, 0.0000, 0.0000, 0.0000, 0.5000, 0.0000, 0.0000, 0.0000],\n",
       "        [0.0000, 0.5000, 0.0000, 0.0000, 0.0000, 0.0000, 0.0000, 0.5000, 0.0000]])"
      ]
     },
     "execution_count": 41,
     "metadata": {},
     "output_type": "execute_result"
    }
   ],
   "source": [
    "backward_policy = BackwardPolicy(setEnv.state_dim, num_actions=setEnv.num_actions)\n",
    "backward_policy(s)"
   ]
  },
  {
   "cell_type": "code",
   "execution_count": 42,
   "id": "100430b1-8dac-4653-8fa3-924ecdf0d38e",
   "metadata": {},
   "outputs": [
    {
     "data": {
      "text/plain": [
       "tensor([[0.0580, 0.1341, 0.1712, 0.0741, 0.0706, 0.2430, 0.0452, 0.0934, 0.1105],\n",
       "        [0.0685, 0.0918, 0.1237, 0.1093, 0.1837, 0.1814, 0.0506, 0.0992, 0.0918]],\n",
       "       grad_fn=<SoftmaxBackward0>)"
      ]
     },
     "execution_count": 42,
     "metadata": {},
     "output_type": "execute_result"
    }
   ],
   "source": [
    "forward_policy = ForwardPolicy(setEnv.state_dim, hidden_dim=32, num_actions=setEnv.num_actions)\n",
    "forward_policy(s)"
   ]
  },
  {
   "cell_type": "code",
   "execution_count": null,
   "id": "05c92429-9dee-4f7b-943d-77782cc39ab9",
   "metadata": {},
   "outputs": [],
   "source": []
  }
 ],
 "metadata": {
  "kernelspec": {
   "display_name": "Python 3 (ipykernel)",
   "language": "python",
   "name": "python3"
  },
  "language_info": {
   "codemirror_mode": {
    "name": "ipython",
    "version": 3
   },
   "file_extension": ".py",
   "mimetype": "text/x-python",
   "name": "python",
   "nbconvert_exporter": "python",
   "pygments_lexer": "ipython3",
   "version": "3.9.7"
  }
 },
 "nbformat": 4,
 "nbformat_minor": 5
}
