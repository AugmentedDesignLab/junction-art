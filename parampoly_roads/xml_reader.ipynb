{
 "cells": [
  {
   "cell_type": "code",
   "execution_count": null,
   "metadata": {},
   "outputs": [],
   "source": []
  },
  {
   "cell_type": "code",
   "execution_count": 1,
   "metadata": {},
   "outputs": [
    {
     "name": "stdout",
     "output_type": "stream",
     "text": [
      "current working dirC:\\Users\\abjaw\\Documents\\GitHub\\junction-art\n"
     ]
    }
   ],
   "source": [
    "exec(open(\"init_notebook.py\").read())"
   ]
  },
  {
   "cell_type": "code",
   "execution_count": 2,
   "metadata": {},
   "outputs": [],
   "source": [
    "from junctions.RoadBuilder import RoadBuilder\n",
    "from scipy.interpolate import CubicHermiteSpline\n",
    "from junctions.JunctionHarvester import JunctionHarvester\n",
    "import numpy as np\n",
    "import pyodrx, extensions, os\n",
    "from junctions.JunctionBuilder import JunctionBuilder\n",
    "from library.Configuration import Configuration\n",
    "\n",
    "\n",
    "import xml.etree.ElementTree as ET\n",
    "import xml.dom.minidom as mini"
   ]
  },
  {
   "cell_type": "code",
   "execution_count": 3,
   "metadata": {},
   "outputs": [
    {
     "name": "stdout",
     "output_type": "stream",
     "text": [
      "{'test': 'This is nothing', 'test2': {'test22': 'this is something'}, 'esminipath': 'C:\\\\Users\\\\abjaw\\\\Documents\\\\GitHub\\\\esmini', 'rootPath': 'C:\\\\Users\\\\abjaw\\\\Documents\\\\GitHub\\\\junction-art'}\n"
     ]
    }
   ],
   "source": [
    "configuration = Configuration()\n",
    "junctionBuilder = JunctionBuilder()\n",
    "esminiPath = configuration.get(\"esminipath\")"
   ]
  },
  {
   "cell_type": "code",
   "execution_count": 4,
   "metadata": {
    "scrolled": true
   },
   "outputs": [
    {
     "name": "stdout",
     "output_type": "stream",
     "text": [
      "connecting roads 0 1\n",
      "connecting roads 2 3\n",
      "connecting roads 4 5\n",
      "connecting roads 6 7\n",
      "starting adjustment. May freeze!!!!!!!!!!!!!\n",
      "start points starting\n",
      "refreshing odr road adjustments\n",
      "start points starting\n",
      "creating internal connection from 2 to 6\n",
      "creating internal connection from 6 to 10\n",
      "creating internal connection from 10 to 2\n",
      "refreshing odr road adjustments\n",
      "start points starting\n",
      "roadId: 0, \n",
      "  start_adj: (0, 0, 0)\tend_adj: (10.0, 0.0, 0)\n",
      "roadId: 1, \n",
      "  start_adj: (10.783447944824083, 0.04125582176058534, 0.15747233176118838)\tend_adj: (12.89139195887703, 2.5113046513620296, 1.5711890258765953)\n",
      "roadId: 2, \n",
      "  start_adj: (12.89139195887703, 2.5113046513620296, 1.5711890258765953)\tend_adj: (27.88798992856225, 11.177448507520499, -0.5232060765166)\n",
      "roadId: 3, \n",
      "  start_adj: (31.080622201417867, 11.770464828811814, 0.8905106175988069)\tend_adj: (31.541350845745214, 12.405462341700256, 1.0479829493599953)\n",
      "roadId: 4, \n",
      "  start_adj: (31.541350845745214, 12.405462341700256, 1.0479829493599953)\tend_adj: (36.534547556703004, 21.069640698917997, 1.0479829493599953)\n",
      "roadId: 5, \n",
      "  start_adj: (31.18590465541572, 11.70606922559282, 4.347047934710977)\tend_adj: (32.27346110470087, 8.64636496592729, 5.760764628826384)\n",
      "roadId: 6, \n",
      "  start_adj: (32.27346110470087, 8.64636496592729, 5.760764628826384)\tend_adj: (32.29386634282839, -8.674131090082682, 3.6663695264331886)\n",
      "roadId: 7, \n",
      "  start_adj: (31.21352216405726, -11.736389348687343, 5.080086220548596)\tend_adj: (31.53364445971284, -12.452639612842564, 5.2375585523097845)\n",
      "roadId: 8, \n",
      "  start_adj: (31.53364445971284, -12.452639612842564, 5.2375585523097845)\tend_adj: (36.54724178084891, -21.105028988124815, 5.2375585523097845)\n",
      "roadId: 9, \n",
      "  start_adj: (31.105159064583898, -11.795453953200317, 8.536623537660766)\tend_adj: (27.911138393420643, -11.20996173362867, 9.950340231776174)\n",
      "roadId: 10, \n",
      "  start_adj: (27.911138393420643, -11.20996173362867, 9.950340231776174)\tend_adj: (12.894162950154481, -2.579176801981898, 7.855945129382979)\n",
      "roadId: 11, \n",
      "  start_adj: (10.780404877327333, -0.11410155027959412, 9.269661823498385)\tend_adj: (9.99998951424565, -0.033823370527538116, 9.427134155259573)\n",
      "roadId: 12, \n",
      "  start_adj: (27.88798992856225, 11.177448507520499, -0.5232060765166)\tend_adj: (32.27147184395079, 8.64292140592378, 2.6176011789097977)\n",
      "roadId: 13, \n",
      "  start_adj: (32.29386634282839, -8.674131090082682, 3.6663695264331886)\tend_adj: (27.909148108638668, -11.206518765386539, 6.8071767818595825)\n",
      "roadId: 14, \n",
      "  start_adj: (12.894162950154481, -2.579176801981898, 7.855945129382979)\tend_adj: (12.883395856015326, 2.5112940185724226, 4.7159232721199835)\n"
     ]
    }
   ],
   "source": [
    "numRoads = 3\n",
    "odr = junctionBuilder.buildSimpleRoundAbout(odrId=0, numRoads=numRoads, radius=10, cp1=pyodrx.ContactPoint.end)\n",
    "xmlPath = f\"output/test-{numRoads}.xodr\"\n",
    "odr.write_xml(xmlPath)\n",
    "\n",
    "extensions.printRoadPositions(odr)\n"
   ]
  },
  {
   "cell_type": "code",
   "execution_count": 5,
   "metadata": {
    "scrolled": true
   },
   "outputs": [
    {
     "name": "stdout",
     "output_type": "stream",
     "text": [
      "\t<header date=\"2020-11-22 14:07:15.562119\" east=\"0.0\" name=\"Simple-Roundabout-3_L2_0\" north=\"0.0\" revMajor=\"1\" revMinor=\"5\" south=\"0.0\" west=\"0.0\"/>\n",
      "\n",
      "\t<header date=\"2020-11-22 14:07:15.562119\" east=\"0.0\" name=\"Simple-Roundabout-3_L2_0\" north=\"0.0\" revMajor=\"1\" revMinor=\"4\" south=\"0.0\" west=\"0.0\"/>\n",
      "\n"
     ]
    }
   ],
   "source": [
    "extensions.modify_xodr_for_roadrunner(xmlPath)"
   ]
  },
  {
   "cell_type": "code",
   "execution_count": 6,
   "metadata": {},
   "outputs": [],
   "source": [
    "st = '<header date=\"2020-11-22 13:54:00.531001\" east=\"0.0\" name=\"Simple-Roundabout-3_L2_0\" north=\"0.0\" revMajor=\"1\" revMinor=\"5\" south=\"0.0\" west=\"0.0\"/>'"
   ]
  },
  {
   "cell_type": "code",
   "execution_count": 7,
   "metadata": {},
   "outputs": [
    {
     "data": {
      "text/plain": [
       "'<header date=\"2020-11-22 13:54:00.531001\" east=\"0.0\" name=\"Simple-Roundabout-3_L2_0\" north=\"0.0\" revMajor=\"1\" revMinor=\"4\" south=\"0.0\" west=\"0.0\"/>'"
      ]
     },
     "execution_count": 7,
     "metadata": {},
     "output_type": "execute_result"
    }
   ],
   "source": [
    "st.replace(\"revMinor=\\\"5\\\"\", \"revMinor=\\\"4\\\"\")"
   ]
  },
  {
   "cell_type": "code",
   "execution_count": 8,
   "metadata": {},
   "outputs": [
    {
     "name": "stdout",
     "output_type": "stream",
     "text": [
      "\t<header date=\"2020-11-22 14:07:15.562119\" east=\"0.0\" name=\"Simple-Roundabout-3_L2_0\" north=\"0.0\" revMajor=\"1\" revMinor=\"4\" south=\"0.0\" west=\"0.0\"/>\n",
      "\n",
      "\t<header date=\"2020-11-22 14:07:15.562119\" east=\"0.0\" name=\"Simple-Roundabout-3_L2_0\" north=\"0.0\" revMajor=\"1\" revMinor=\"4\" south=\"0.0\" west=\"0.0\"/>\n",
      "\n"
     ]
    }
   ],
   "source": [
    "extensions.change_revMinor(xmlPath)"
   ]
  },
  {
   "cell_type": "code",
   "execution_count": null,
   "metadata": {},
   "outputs": [],
   "source": []
  }
 ],
 "metadata": {
  "kernelspec": {
   "display_name": "Python 3",
   "language": "python",
   "name": "python3"
  },
  "language_info": {
   "codemirror_mode": {
    "name": "ipython",
    "version": 3
   },
   "file_extension": ".py",
   "mimetype": "text/x-python",
   "name": "python",
   "nbconvert_exporter": "python",
   "pygments_lexer": "ipython3",
   "version": "3.7.9"
  }
 },
 "nbformat": 4,
 "nbformat_minor": 2
}
