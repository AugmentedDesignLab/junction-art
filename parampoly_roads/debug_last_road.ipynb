{
 "cells": [
  {
   "cell_type": "code",
   "execution_count": 1,
   "metadata": {},
   "outputs": [
    {
     "name": "stdout",
     "output_type": "stream",
     "text": [
      "current working dirC:\\Users\\abjaw\\Documents\\GitHub\\junction-art\n"
     ]
    }
   ],
   "source": [
    "exec(open(\"init_notebook.py\").read())"
   ]
  },
  {
   "cell_type": "code",
   "execution_count": 2,
   "metadata": {},
   "outputs": [],
   "source": [
    "from junctions.RoadBuilder import RoadBuilder\n",
    "from scipy.interpolate import CubicHermiteSpline\n",
    "from junctions.JunctionHarvester import JunctionHarvester\n",
    "import numpy as np\n",
    "import pyodrx, extensions, os\n",
    "from junctions.JunctionBuilder import JunctionBuilder\n",
    "from library.Configuration import Configuration"
   ]
  },
  {
   "cell_type": "code",
   "execution_count": 3,
   "metadata": {},
   "outputs": [
    {
     "name": "stdout",
     "output_type": "stream",
     "text": [
      "{'test': 'This is nothing', 'test2': {'test22': 'this is something'}, 'esminipath': 'C:\\\\Users\\\\abjaw\\\\Documents\\\\GitHub\\\\esmini', 'rootPath': 'F:\\\\myProjects\\\\av'}\n",
      "{'test': 'This is nothing', 'test2': {'test22': 'this is something'}, 'esminipath': 'C:\\\\Users\\\\abjaw\\\\Documents\\\\GitHub\\\\esmini', 'rootPath': 'F:\\\\myProjects\\\\av'}\n",
      "{'test': 'This is nothing', 'test2': {'test22': 'this is something'}, 'esminipath': 'C:\\\\Users\\\\abjaw\\\\Documents\\\\GitHub\\\\esmini', 'rootPath': 'F:\\\\myProjects\\\\av'}\n"
     ]
    }
   ],
   "source": [
    "configuration = Configuration()\n",
    "roadBuilder = RoadBuilder()\n",
    "junctionBuilder = JunctionBuilder()\n",
    "outputDir= os.path.join(os.getcwd(), 'output')\n",
    "lastId = 0\n",
    "harvester = JunctionHarvester(outputDir=outputDir, \n",
    "                            outputPrefix='test_', \n",
    "                            lastId=lastId,\n",
    "                            minAngle = np.pi / 30, \n",
    "                            maxAngle = np.pi)"
   ]
  },
  {
   "cell_type": "code",
   "execution_count": 4,
   "metadata": {},
   "outputs": [
    {
     "name": "stdout",
     "output_type": "stream",
     "text": [
      "connecting roads 0 1\n",
      "connecting roads 2 3\n",
      "starting adjustment. May freeze!!!!!!!!!!!!!\n",
      "start points starting\n",
      "1 adjusted road  0\n",
      "connecting road X, Y, tangentX, tangentY\n",
      "[11.870541445776654, 10.0]\n",
      "[-1.0799568208171124, 0.0]\n",
      "[-1.079958590289833, -2.159914821282918]\n",
      "[1.87054042417073, 2.6451327723150526e-16]\n",
      " is planview adjusted  False\n",
      " is planview adjusted  False\n",
      " is planview adjusted  False\n",
      " is planview adjusted  False\n",
      " is planview adjusted  False\n",
      " is planview adjusted  False\n",
      "refreshing odr road adjustments\n",
      "start points starting\n",
      "1 adjusted road  0\n"
     ]
    },
    {
     "ename": "AttributeError",
     "evalue": "'NoneType' object has no attribute 'element_id'",
     "output_type": "error",
     "traceback": [
      "\u001b[1;31m---------------------------------------------------------------------------\u001b[0m",
      "\u001b[1;31mAttributeError\u001b[0m                            Traceback (most recent call last)",
      "\u001b[1;32m<ipython-input-4-0432dd91d075>\u001b[0m in \u001b[0;36m<module>\u001b[1;34m\u001b[0m\n\u001b[0;32m     38\u001b[0m \u001b[1;31m# odr.adjust_roads_and_lanes()\u001b[0m\u001b[1;33m\u001b[0m\u001b[1;33m\u001b[0m\u001b[1;33m\u001b[0m\u001b[0m\n\u001b[0;32m     39\u001b[0m \u001b[1;33m\u001b[0m\u001b[0m\n\u001b[1;32m---> 40\u001b[1;33m \u001b[0modr\u001b[0m\u001b[1;33m.\u001b[0m\u001b[0mresetAndReadjust\u001b[0m\u001b[1;33m(\u001b[0m\u001b[1;33m)\u001b[0m\u001b[1;33m\u001b[0m\u001b[1;33m\u001b[0m\u001b[0m\n\u001b[0m\u001b[0;32m     41\u001b[0m \u001b[1;33m\u001b[0m\u001b[0m\n\u001b[0;32m     42\u001b[0m \u001b[1;33m\u001b[0m\u001b[0m\n",
      "\u001b[1;32m~\\Documents\\GitHub\\junction-art\\extensions\\ExtendedOpenDrive.py\u001b[0m in \u001b[0;36mresetAndReadjust\u001b[1;34m(self)\u001b[0m\n\u001b[0;32m     16\u001b[0m     \u001b[1;32mdef\u001b[0m \u001b[0mresetAndReadjust\u001b[0m\u001b[1;33m(\u001b[0m\u001b[0mself\u001b[0m\u001b[1;33m)\u001b[0m\u001b[1;33m:\u001b[0m\u001b[1;33m\u001b[0m\u001b[1;33m\u001b[0m\u001b[0m\n\u001b[0;32m     17\u001b[0m         \u001b[0mself\u001b[0m\u001b[1;33m.\u001b[0m\u001b[0mreset\u001b[0m\u001b[1;33m(\u001b[0m\u001b[1;33m)\u001b[0m\u001b[1;33m\u001b[0m\u001b[1;33m\u001b[0m\u001b[0m\n\u001b[1;32m---> 18\u001b[1;33m         \u001b[0mself\u001b[0m\u001b[1;33m.\u001b[0m\u001b[0madjust_roads_and_lanes\u001b[0m\u001b[1;33m(\u001b[0m\u001b[1;33m)\u001b[0m\u001b[1;33m\u001b[0m\u001b[1;33m\u001b[0m\u001b[0m\n\u001b[0m",
      "\u001b[1;32m~\\Documents\\GitHub\\junction-art\\pyodrx\\opendrive.py\u001b[0m in \u001b[0;36madjust_roads_and_lanes\u001b[1;34m(self)\u001b[0m\n\u001b[0;32m    309\u001b[0m \u001b[1;33m\u001b[0m\u001b[0m\n\u001b[0;32m    310\u001b[0m             \u001b[1;31m# print(f\"create_lane_links for roads {results[r][0]} and {results[r][1]} \")\u001b[0m\u001b[1;33m\u001b[0m\u001b[1;33m\u001b[0m\u001b[1;33m\u001b[0m\u001b[0m\n\u001b[1;32m--> 311\u001b[1;33m             \u001b[0mcreate_lane_links\u001b[0m\u001b[1;33m(\u001b[0m\u001b[0mself\u001b[0m\u001b[1;33m.\u001b[0m\u001b[0mroads\u001b[0m\u001b[1;33m[\u001b[0m\u001b[0mresults\u001b[0m\u001b[1;33m[\u001b[0m\u001b[0mr\u001b[0m\u001b[1;33m]\u001b[0m\u001b[1;33m[\u001b[0m\u001b[1;36m0\u001b[0m\u001b[1;33m]\u001b[0m\u001b[1;33m]\u001b[0m\u001b[1;33m,\u001b[0m\u001b[0mself\u001b[0m\u001b[1;33m.\u001b[0m\u001b[0mroads\u001b[0m\u001b[1;33m[\u001b[0m\u001b[0mresults\u001b[0m\u001b[1;33m[\u001b[0m\u001b[0mr\u001b[0m\u001b[1;33m]\u001b[0m\u001b[1;33m[\u001b[0m\u001b[1;36m1\u001b[0m\u001b[1;33m]\u001b[0m\u001b[1;33m]\u001b[0m\u001b[1;33m)\u001b[0m\u001b[1;33m\u001b[0m\u001b[1;33m\u001b[0m\u001b[0m\n\u001b[0m\u001b[0;32m    312\u001b[0m \u001b[1;33m\u001b[0m\u001b[0m\n\u001b[0;32m    313\u001b[0m \u001b[1;33m\u001b[0m\u001b[0m\n",
      "\u001b[1;32m~\\Documents\\GitHub\\junction-art\\pyodrx\\links.py\u001b[0m in \u001b[0;36mcreate_lane_links\u001b[1;34m(road1, road2)\u001b[0m\n\u001b[0;32m    474\u001b[0m     \u001b[1;32melif\u001b[0m \u001b[0mroad2\u001b[0m\u001b[1;33m.\u001b[0m\u001b[0mroad_type\u001b[0m \u001b[1;33m!=\u001b[0m \u001b[1;33m-\u001b[0m\u001b[1;36m1\u001b[0m\u001b[1;33m:\u001b[0m\u001b[1;33m\u001b[0m\u001b[1;33m\u001b[0m\u001b[0m\n\u001b[0;32m    475\u001b[0m \u001b[1;33m\u001b[0m\u001b[0m\n\u001b[1;32m--> 476\u001b[1;33m         \u001b[0m_create_links_connecting_road\u001b[0m\u001b[1;33m(\u001b[0m\u001b[0mroad2\u001b[0m\u001b[1;33m,\u001b[0m\u001b[0mroad1\u001b[0m\u001b[1;33m)\u001b[0m\u001b[1;33m\u001b[0m\u001b[1;33m\u001b[0m\u001b[0m\n\u001b[0m\u001b[0;32m    477\u001b[0m \u001b[1;33m\u001b[0m\u001b[0m\n\u001b[0;32m    478\u001b[0m \u001b[1;32mdef\u001b[0m \u001b[0m_create_links_connecting_road\u001b[0m\u001b[1;33m(\u001b[0m\u001b[0mconnecting\u001b[0m\u001b[1;33m,\u001b[0m\u001b[0mroad\u001b[0m\u001b[1;33m)\u001b[0m\u001b[1;33m:\u001b[0m\u001b[1;33m\u001b[0m\u001b[1;33m\u001b[0m\u001b[0m\n",
      "\u001b[1;32m~\\Documents\\GitHub\\junction-art\\pyodrx\\links.py\u001b[0m in \u001b[0;36m_create_links_connecting_road\u001b[1;34m(connecting, road)\u001b[0m\n\u001b[0;32m    487\u001b[0m     \"\"\"\n\u001b[0;32m    488\u001b[0m     \u001b[0mlinktype\u001b[0m\u001b[1;33m,\u001b[0m \u001b[0msign\u001b[0m\u001b[1;33m,\u001b[0m \u001b[0mconnecting_lanesec\u001b[0m \u001b[1;33m=\u001b[0m  \u001b[0m_get_related_lanesection\u001b[0m\u001b[1;33m(\u001b[0m\u001b[0mconnecting\u001b[0m\u001b[1;33m,\u001b[0m\u001b[0mroad\u001b[0m\u001b[1;33m)\u001b[0m\u001b[1;33m\u001b[0m\u001b[1;33m\u001b[0m\u001b[0m\n\u001b[1;32m--> 489\u001b[1;33m     \u001b[0m_\u001b[0m\u001b[1;33m,\u001b[0m \u001b[0m_\u001b[0m\u001b[1;33m,\u001b[0m \u001b[0mroad_lanesection_id\u001b[0m \u001b[1;33m=\u001b[0m  \u001b[0m_get_related_lanesection\u001b[0m\u001b[1;33m(\u001b[0m\u001b[0mroad\u001b[0m\u001b[1;33m,\u001b[0m\u001b[0mconnecting\u001b[0m\u001b[1;33m)\u001b[0m\u001b[1;33m\u001b[0m\u001b[1;33m\u001b[0m\u001b[0m\n\u001b[0m\u001b[0;32m    490\u001b[0m \u001b[1;33m\u001b[0m\u001b[0m\n\u001b[0;32m    491\u001b[0m     \u001b[1;32mif\u001b[0m \u001b[0mconnecting_lanesec\u001b[0m \u001b[1;33m!=\u001b[0m \u001b[1;32mNone\u001b[0m\u001b[1;33m:\u001b[0m\u001b[1;33m\u001b[0m\u001b[1;33m\u001b[0m\u001b[0m\n",
      "\u001b[1;32m~\\Documents\\GitHub\\junction-art\\pyodrx\\links.py\u001b[0m in \u001b[0;36m_get_related_lanesection\u001b[1;34m(road, connected_road)\u001b[0m\n\u001b[0;32m    554\u001b[0m                 \u001b[0mroad_lanesection_id\u001b[0m \u001b[1;33m=\u001b[0m \u001b[1;36m0\u001b[0m\u001b[1;33m\u001b[0m\u001b[1;33m\u001b[0m\u001b[0m\n\u001b[0;32m    555\u001b[0m                 \u001b[0msign\u001b[0m \u001b[1;33m=\u001b[0m \u001b[1;36m1\u001b[0m\u001b[1;33m\u001b[0m\u001b[1;33m\u001b[0m\u001b[0m\n\u001b[1;32m--> 556\u001b[1;33m         \u001b[1;32melif\u001b[0m \u001b[0mconnected_road\u001b[0m\u001b[1;33m.\u001b[0m\u001b[0msuccessor\u001b[0m\u001b[1;33m.\u001b[0m\u001b[0melement_id\u001b[0m \u001b[1;33m==\u001b[0m \u001b[0mroad\u001b[0m\u001b[1;33m.\u001b[0m\u001b[0mid\u001b[0m\u001b[1;33m:\u001b[0m\u001b[1;33m\u001b[0m\u001b[1;33m\u001b[0m\u001b[0m\n\u001b[0m\u001b[0;32m    557\u001b[0m             \u001b[1;32mif\u001b[0m \u001b[0mconnected_road\u001b[0m\u001b[1;33m.\u001b[0m\u001b[0mpredecessor\u001b[0m\u001b[1;33m.\u001b[0m\u001b[0mlink_type\u001b[0m \u001b[1;33m==\u001b[0m \u001b[0mContactPoint\u001b[0m\u001b[1;33m.\u001b[0m\u001b[0mstart\u001b[0m\u001b[1;33m:\u001b[0m\u001b[1;33m\u001b[0m\u001b[1;33m\u001b[0m\u001b[0m\n\u001b[0;32m    558\u001b[0m                 \u001b[0mroad_lanesection_id\u001b[0m \u001b[1;33m=\u001b[0m \u001b[1;36m0\u001b[0m\u001b[1;33m\u001b[0m\u001b[1;33m\u001b[0m\u001b[0m\n",
      "\u001b[1;31mAttributeError\u001b[0m: 'NoneType' object has no attribute 'element_id'"
     ]
    }
   ],
   "source": [
    "roads = []\n",
    "roads.append(pyodrx.create_straight_road(0, 10))\n",
    "roads.append(roadBuilder.createSimpleCurve(1, np.pi/1.5, True, curvature = 0.9))\n",
    "roads.append(pyodrx.create_straight_road(2, 10))\n",
    "roads.append(roadBuilder.createSimpleCurve(3, np.pi/1.5, True, curvature = 0.9))\n",
    "roads.append(pyodrx.create_straight_road(4, 10))\n",
    "\n",
    "roads[0].add_successor(pyodrx.ElementType.junction,1)\n",
    "\n",
    "roads[1].add_predecessor(pyodrx.ElementType.road,0,pyodrx.ContactPoint.end)\n",
    "roads[1].add_successor(pyodrx.ElementType.road,2,pyodrx.ContactPoint.start)\n",
    "\n",
    "roads[2].add_predecessor(pyodrx.ElementType.junction,1)\n",
    "roads[2].add_successor(pyodrx.ElementType.junction,3)\n",
    "\n",
    "roads[3].add_predecessor(pyodrx.ElementType.road,2,pyodrx.ContactPoint.start)\n",
    "roads[3].add_successor(pyodrx.ElementType.road,4,pyodrx.ContactPoint.start)\n",
    "\n",
    "roads[4].add_predecessor(pyodrx.ElementType.junction,3)\n",
    "\n",
    "junction = junctionBuilder.createJunctionForASeriesOfRoads(roads)\n",
    "\n",
    "odrName = \"test_connectionRoad\"\n",
    "odr = extensions.createOdr(odrName, roads, [junction])\n",
    "\n",
    "lastConnection = harvester.createLastConnectionForLastAndFirstRoad(5, roads, junction)\n",
    "\n",
    "# for road in roads:\n",
    "#     road.planview.adjusted = False\n",
    "#     print(\" is planview adjusted \", road.planview.adjusted)\n",
    "#print(roads[0].predecessor.element_id)\n",
    "odr.add_road(roads[-1])\n",
    "# odr.adjust_road_wrt_neightbour(roads[-1].id,\n",
    "#                                roads[-1].predecessor,\n",
    "#                                pyodrx.ContactPoint.end,\n",
    "#                                'successor')\n",
    "# odr.reset()\n",
    "# odr.adjust_roads_and_lanes()\n",
    "\n",
    "odr.resetAndReadjust()\n",
    "\n",
    "\n",
    "\n",
    "# # pyodrx.prettyprint(odr.get_element())\n",
    "\n",
    "extensions.printRoadPositions(odr)\n",
    "\n",
    "# extensions.view_road(odr,os.path.join('..', configuration.get(\"esminipath\")))"
   ]
  },
  {
   "cell_type": "code",
   "execution_count": null,
   "metadata": {},
   "outputs": [],
   "source": []
  }
 ],
 "metadata": {
  "kernelspec": {
   "display_name": "Python 3",
   "language": "python",
   "name": "python3"
  },
  "language_info": {
   "codemirror_mode": {
    "name": "ipython",
    "version": 3
   },
   "file_extension": ".py",
   "mimetype": "text/x-python",
   "name": "python",
   "nbconvert_exporter": "python",
   "pygments_lexer": "ipython3",
   "version": "3.7.9"
  }
 },
 "nbformat": 4,
 "nbformat_minor": 4
}
