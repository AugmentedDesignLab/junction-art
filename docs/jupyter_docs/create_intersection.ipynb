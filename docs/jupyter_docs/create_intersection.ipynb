{
 "cells": [
  {
   "cell_type": "markdown",
   "metadata": {},
   "source": [
    "Before starting to create intersections, lets set some directory variables. Depending on the directory settings this will be different for different users. The project folder is where we have the JunctionArt project. In order to visualize the generated intersection we also need a module from esmini. Download esmini and put the directory name in the esminipath variable.  "
   ]
  },
  {
   "cell_type": "code",
   "execution_count": null,
   "metadata": {},
   "outputs": [],
   "source": [
    "projectFolder = 'C:/Users/abjawad/Documents/GitHub/junction-art'\n",
    "esminipath = 'C:/Users/abjawad/Documents/GitHub/esmini'"
   ]
  },
  {
   "cell_type": "markdown",
   "metadata": {},
   "source": [
    "Next lets put the folder directory to system path so that we dont get any import errors. "
   ]
  },
  {
   "cell_type": "code",
   "execution_count": null,
   "metadata": {},
   "outputs": [],
   "source": [
    "import os, sys\n",
    "currentFolder = os.path.abspath('')\n",
    "try:\n",
    "    sys.path.remove(str(currentFolder))\n",
    "except ValueError: # Already removed\n",
    "    pass\n",
    "sys.path.append(str(projectFolder))\n",
    "os.chdir(projectFolder)\n",
    "print( f\"current working dir{os.getcwd()}\")"
   ]
  },
  {
   "cell_type": "markdown",
   "metadata": {},
   "source": [
    "Lets import the necessary modules for creating the intersection. "
   ]
  },
  {
   "cell_type": "code",
   "execution_count": null,
   "metadata": {},
   "outputs": [],
   "source": [
    "import pyodrx\n",
    "from junctionart.extensions.CountryCodes import CountryCodes\n",
    "from junctionart.junctions.JunctionBuilderFromPointsAndHeading import JunctionBuilderFromPointsAndHeading \n",
    "import junctionart.extensions as extensions"
   ]
  },
  {
   "cell_type": "markdown",
   "metadata": {},
   "source": [
    "To use the standalone intersection generator 'JunctionBuilderFromPointsAndHeading', lets initialize the builder object using the country code (default country US) and global lane width (default lane width 3 meters). "
   ]
  },
  {
   "cell_type": "code",
   "execution_count": null,
   "metadata": {},
   "outputs": [],
   "source": [
    "intersectionBuilder = JunctionBuilderFromPointsAndHeading(country=CountryCodes.US, laneWidth=3)"
   ]
  },
  {
   "cell_type": "markdown",
   "metadata": {},
   "source": [
    "To create road intersection using 'JunctionBuilderFromPointsAndHeading', we need to pass in the road definitions to the 'intersectionBuilder' object. Road definition is a list containing at least three roads. Each of the defined road is called the incident roads and are defined as a dictionary. Incidents roads are connected with the intersection at the defined cartesian coordinate and the direction of the road is defined in heading (in radians). Along with this positional parameters, the number of left/right lanes and median type (for adding island) can be defined separately. Possible values for median type are 'partial/None'. Only one end point of the road can have median if the median type is defined as 'partial'. User need to define which endpoint. Lets create three roads for the intersection. "
   ]
  },
  {
   "cell_type": "code",
   "execution_count": null,
   "metadata": {},
   "outputs": [],
   "source": [
    "incidentRoad1 = {'x': -30, 'y': 30, 'heading': 2, 'leftLane': 2, 'rightLane': 2, 'medianType': 'partial', 'skipEndpoint': pyodrx.ContactPoint.start}\n",
    "incidentRoad2 = {'x':   0, 'y': 30, 'heading': 1,  'leftLane': 2, 'rightLane': 3, 'medianType': None, 'skipEndpoint': None}\n",
    "incidentRoad3 = {'x':   0, 'y':  0, 'heading': -1.5, 'leftLane': 1, 'rightLane': 1, 'medianType': 'partial', 'skipEndpoint': pyodrx.ContactPoint.end}"
   ]
  },
  {
   "cell_type": "markdown",
   "metadata": {},
   "source": [
    "Create the road definition list using the three incident roads."
   ]
  },
  {
   "cell_type": "code",
   "execution_count": null,
   "metadata": {},
   "outputs": [],
   "source": [
    "roadDefinition = [ incidentRoad1, incidentRoad2, incidentRoad3]"
   ]
  },
  {
   "cell_type": "markdown",
   "metadata": {},
   "source": [
    "To create the open drive "
   ]
  },
  {
   "cell_type": "code",
   "execution_count": null,
   "metadata": {},
   "outputs": [],
   "source": [
    "odr = intersectionBuilder.createIntersectionFromPointsWithRoadDefinition(odrID=0, \n",
    "                                                                         firstRoadId=100, \n",
    "                                                                         roadDefinition=roadDefinition, \n",
    "                                                                         straightRoadLen=40, \n",
    "                                                                         getAsOdr=True)\n",
    "extensions.view_road(odr, esminipath)"
   ]
  }
 ],
 "metadata": {
  "interpreter": {
   "hash": "3b7bb09f7d3bc26744c8e76021c1b867182aaa39f48320483e9c6d76f629cab2"
  },
  "kernelspec": {
   "display_name": "Python 3",
   "language": "python",
   "name": "python3"
  },
  "language_info": {
   "codemirror_mode": {
    "name": "ipython",
    "version": 3
   },
   "file_extension": ".py",
   "mimetype": "text/x-python",
   "name": "python",
   "nbconvert_exporter": "python",
   "pygments_lexer": "ipython3",
   "version": "3.7.9"
  }
 },
 "nbformat": 4,
 "nbformat_minor": 2
}
