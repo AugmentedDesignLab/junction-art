{
 "cells": [
  {
   "cell_type": "markdown",
   "source": [
    "Before starting to create intersections, lets set some directory variables. Depending on the directory settings this will be different for different users. The project folder is where we have the JunctionArt project. In order to visualize the generated intersection we also need a module from esmini. Download esmini and put the directory name in the esminipath variable.  "
   ],
   "metadata": {}
  },
  {
   "cell_type": "code",
   "execution_count": null,
   "source": [
    "projectFolder = 'C:/Users/abjawad/Documents/GitHub/junction-art'\r\n",
    "esminipath = 'C:/Users/abjawad/Documents/GitHub/esmini'"
   ],
   "outputs": [],
   "metadata": {}
  },
  {
   "cell_type": "markdown",
   "source": [
    "Next lets put the folder directory to system path so that we dont get any import errors. "
   ],
   "metadata": {}
  },
  {
   "cell_type": "code",
   "execution_count": null,
   "source": [
    "import os, sys\r\n",
    "currentFolder = os.path.abspath('')\r\n",
    "try:\r\n",
    "    sys.path.remove(str(currentFolder))\r\n",
    "except ValueError: # Already removed\r\n",
    "    pass\r\n",
    "\r\n",
    "sys.path.append(str(projectFolder))\r\n",
    "os.chdir(projectFolder)\r\n",
    "print( f\"current working dir{os.getcwd()}\")"
   ],
   "outputs": [],
   "metadata": {}
  },
  {
   "cell_type": "markdown",
   "source": [
    "Lets import the necessary modules for creating the intersection. "
   ],
   "metadata": {}
  },
  {
   "cell_type": "code",
   "execution_count": null,
   "source": [],
   "outputs": [],
   "metadata": {}
  }
 ],
 "metadata": {
  "orig_nbformat": 4,
  "language_info": {
   "name": "python",
   "version": "3.6.12",
   "mimetype": "text/x-python",
   "codemirror_mode": {
    "name": "ipython",
    "version": 3
   },
   "pygments_lexer": "ipython3",
   "nbconvert_exporter": "python",
   "file_extension": ".py"
  },
  "kernelspec": {
   "name": "python3",
   "display_name": "Python 3.6.12 64-bit ('opendrive': conda)"
  },
  "interpreter": {
   "hash": "1b9330e706f79fb92396c85f543413f455b80243b5625c05672a1ee6c84ae373"
  }
 },
 "nbformat": 4,
 "nbformat_minor": 2
}