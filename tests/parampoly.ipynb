{
 "cells": [
  {
   "cell_type": "code",
   "execution_count": 1,
   "metadata": {},
   "outputs": [],
   "source": [
    "from scipy import interpolate\n",
    "from scipy.interpolate import interp1d"
   ]
  },
  {
   "cell_type": "code",
   "execution_count": 2,
   "metadata": {},
   "outputs": [],
   "source": [
    "\n",
    "x_points = [ 0, 1, 2, 3, 4, 5]\n",
    "y_points = [12,14,22,39,58,77]"
   ]
  },
  {
   "cell_type": "code",
   "execution_count": 3,
   "metadata": {},
   "outputs": [],
   "source": [
    "tck = interpolate.splrep(x_points, y_points, k=2)"
   ]
  },
  {
   "cell_type": "code",
   "execution_count": 4,
   "metadata": {},
   "outputs": [
    {
     "data": {
      "text/plain": [
       "(array([0. , 0. , 0. , 1.5, 2.5, 3.5, 5. , 5. , 5. ]),\n",
       " array([12.        , 11.51654412, 20.62806373, 38.89276961, 62.79595588,\n",
       "        77.        ,  0.        ,  0.        ,  0.        ]),\n",
       " 2)"
      ]
     },
     "execution_count": 4,
     "metadata": {},
     "output_type": "execute_result"
    }
   ],
   "source": [
    "tck"
   ]
  },
  {
   "cell_type": "code",
   "execution_count": 5,
   "metadata": {},
   "outputs": [],
   "source": [
    "?interpolate.splrep"
   ]
  },
  {
   "cell_type": "code",
   "execution_count": 6,
   "metadata": {},
   "outputs": [],
   "source": [
    "import matplotlib.pyplot as plt\n",
    "import numpy as np"
   ]
  },
  {
   "cell_type": "code",
   "execution_count": 7,
   "metadata": {},
   "outputs": [],
   "source": [
    "x = np.linspace(0, 10, num=11, endpoint=True)"
   ]
  },
  {
   "cell_type": "code",
   "execution_count": 8,
   "metadata": {},
   "outputs": [],
   "source": [
    "y = np.cos(-x**2/9.0)"
   ]
  },
  {
   "cell_type": "code",
   "execution_count": 9,
   "metadata": {},
   "outputs": [],
   "source": [
    "f = interp1d(x, y)"
   ]
  },
  {
   "cell_type": "code",
   "execution_count": 10,
   "metadata": {},
   "outputs": [
    {
     "data": {
      "text/plain": [
       "<scipy.interpolate.interpolate.interp1d at 0x280849dac78>"
      ]
     },
     "execution_count": 10,
     "metadata": {},
     "output_type": "execute_result"
    }
   ],
   "source": [
    "f"
   ]
  },
  {
   "cell_type": "code",
   "execution_count": 11,
   "metadata": {},
   "outputs": [],
   "source": [
    "f2 = interp1d(x, y, kind='cubic')"
   ]
  },
  {
   "cell_type": "code",
   "execution_count": 12,
   "metadata": {},
   "outputs": [],
   "source": [
    "xnew = np.linspace(0, 4, num=41, endpoint=True)"
   ]
  },
  {
   "cell_type": "code",
   "execution_count": 13,
   "metadata": {},
   "outputs": [
    {
     "data": {
      "text/plain": [
       "[<matplotlib.lines.Line2D at 0x28084c89708>,\n",
       " <matplotlib.lines.Line2D at 0x28084c94a48>,\n",
       " <matplotlib.lines.Line2D at 0x28084c94c48>]"
      ]
     },
     "execution_count": 13,
     "metadata": {},
     "output_type": "execute_result"
    },
    {
     "data": {
      "image/png": "[encoded data removed]",
      "text/plain": [
       "<Figure size 432x288 with 1 Axes>"
      ]
     },
     "metadata": {
      "needs_background": "light"
     },
     "output_type": "display_data"
    }
   ],
   "source": [
    "plt.plot(x, y, 'o', xnew, f(xnew), '-', xnew, f2(xnew), '--')"
   ]
  },
  {
   "cell_type": "code",
   "execution_count": 22,
   "metadata": {},
   "outputs": [
    {
     "data": {
      "text/plain": [
       "<matplotlib.legend.Legend at 0x280870c0f08>"
      ]
     },
     "execution_count": 22,
     "metadata": {},
     "output_type": "execute_result"
    },
    {
     "data": {
      "image/png": "[encoded data removed]",
      "text/plain": [
       "<Figure size 432x288 with 1 Axes>"
      ]
     },
     "metadata": {
      "needs_background": "light"
     },
     "output_type": "display_data"
    }
   ],
   "source": [
    "plt.plot(x, y, 'o', xnew, f(xnew), '-', xnew, f2(xnew), '--')\n",
    "plt.legend(['data', 'linear', 'cubic'], loc='best')"
   ]
  },
  {
   "cell_type": "code",
   "execution_count": null,
   "metadata": {},
   "outputs": [],
   "source": []
  },
  {
   "cell_type": "code",
   "execution_count": 23,
   "metadata": {},
   "outputs": [
    {
     "data": {
      "text/plain": [
       "{'bounds_error': True,\n",
       " 'copy': True,\n",
       " 'axis': 0,\n",
       " 'y': array([ 1.        ,  0.99383351,  0.90284967,  0.54030231, -0.20550672,\n",
       "        -0.93454613, -0.65364362,  0.6683999 ,  0.67640492, -0.91113026,\n",
       "         0.11527995]),\n",
       " '_y': array([[ 1.        ],\n",
       "        [ 0.99383351],\n",
       "        [ 0.90284967],\n",
       "        [ 0.54030231],\n",
       "        [-0.20550672],\n",
       "        [-0.93454613],\n",
       "        [-0.65364362],\n",
       "        [ 0.6683999 ],\n",
       "        [ 0.67640492],\n",
       "        [-0.91113026],\n",
       "        [ 0.11527995]]),\n",
       " 'x': array([ 0.,  1.,  2.,  3.,  4.,  5.,  6.,  7.,  8.,  9., 10.]),\n",
       " '_kind': 'spline',\n",
       " '_fill_value_below': array([nan]),\n",
       " '_fill_value_above': array([nan]),\n",
       " '_extrapolate': False,\n",
       " '_fill_value_orig': array(nan),\n",
       " '_spline': <scipy.interpolate._bsplines.BSpline at 0x280849d9c08>,\n",
       " '_call': <function scipy.interpolate.interpolate.interp1d._call_spline(self, x_new)>}"
      ]
     },
     "execution_count": 23,
     "metadata": {},
     "output_type": "execute_result"
    }
   ],
   "source": [
    "f2.__dict__"
   ]
  },
  {
   "cell_type": "code",
   "execution_count": 24,
   "metadata": {},
   "outputs": [
    {
     "ename": "AttributeError",
     "evalue": "'interp1d' object has no attribute 'c'",
     "output_type": "error",
     "traceback": [
      "\u001b[1;31m---------------------------------------------------------------------------\u001b[0m",
      "\u001b[1;31mAttributeError\u001b[0m                            Traceback (most recent call last)",
      "\u001b[1;32m<ipython-input-24-1678c3a485b8>\u001b[0m in \u001b[0;36m<module>\u001b[1;34m\u001b[0m\n\u001b[1;32m----> 1\u001b[1;33m \u001b[0mf2\u001b[0m\u001b[1;33m.\u001b[0m\u001b[0mc\u001b[0m\u001b[1;33m\u001b[0m\u001b[1;33m\u001b[0m\u001b[0m\n\u001b[0m",
      "\u001b[1;31mAttributeError\u001b[0m: 'interp1d' object has no attribute 'c'"
     ]
    }
   ],
   "source": [
    "f2.c"
   ]
  },
  {
   "cell_type": "code",
   "execution_count": 27,
   "metadata": {},
   "outputs": [
    {
     "name": "stdout",
     "output_type": "stream",
     "text": [
      "S(1.25) =  15.5078125\n",
      "S0(0<=x<=1) =  12.0  +  0.5 (x-0) +  0.0 (x-0)^2  +  1.5 (x-0)^3\n",
      "S1(1< x<=2) =  14.0  +  5.0 (x-1) +  4.500000000000002 (x-1)^2  +  -1.5000000000000018 (x-1)^3\n",
      "...\n",
      "S(1.25) =  15.5078125\n"
     ]
    }
   ],
   "source": [
    "from scipy.interpolate import CubicSpline, CubicHermiteSpline\n",
    "\n",
    "# calculate 5 natural cubic spline polynomials for 6 points\n",
    "# (x,y) = (0,12) (1,14) (2,22) (3,39) (4,58) (5,77)\n",
    "x = np.array([0, 1, 2])\n",
    "y = np.array([12,14,22])\n",
    "\n",
    "# calculate natural cubic spline polynomials\n",
    "cs = CubicSpline(x,y,bc_type='natural')\n",
    "\n",
    "# show values of interpolation function at x=1.25\n",
    "print('S(1.25) = ', cs(1.25))\n",
    "\n",
    "## Aditional - find polynomial coefficients for different x regions\n",
    "\n",
    "# if you want to print polynomial coefficients in form\n",
    "# S0(0<=x<=1) = a0 + b0(x-x0) + c0(x-x0)^2 + d0(x-x0)^3\n",
    "# S1(1< x<=2) = a1 + b1(x-x1) + c1(x-x1)^2 + d1(x-x1)^3\n",
    "# ...\n",
    "# S4(4< x<=5) = a4 + b4(x-x4) + c5(x-x4)^2 + d5(x-x4)^3\n",
    "# x0 = 0; x1 = 1; x4 = 4; (start of x region interval)\n",
    "\n",
    "# show values of a0, b0, c0, d0, a1, b1, c1, d1 ...\n",
    "cs.c\n",
    "\n",
    "# Polynomial coefficients for 0 <= x <= 1\n",
    "a0 = cs.c.item(3,0)\n",
    "b0 = cs.c.item(2,0)\n",
    "c0 = cs.c.item(1,0)\n",
    "d0 = cs.c.item(0,0)\n",
    "\n",
    "# Polynomial coefficients for 1 < x <= 2\n",
    "a1 = cs.c.item(3,1)\n",
    "b1 = cs.c.item(2,1)\n",
    "c1 = cs.c.item(1,1)\n",
    "d1 = cs.c.item(0,1)\n",
    "\n",
    "# ...\n",
    "\n",
    "\n",
    "# Print polynomial equations for different x regions\n",
    "print('S0(0<=x<=1) = ', a0, ' + ', b0, '(x-0) + ', c0, '(x-0)^2  + ', d0, '(x-0)^3')\n",
    "print('S1(1< x<=2) = ', a1, ' + ', b1, '(x-1) + ', c1, '(x-1)^2  + ', d1, '(x-1)^3')\n",
    "print('...')\n",
    "\n",
    "# So we can calculate S(1.25) by using equation S1(1< x<=2)\n",
    "print('S(1.25) = ', a1 + b1*0.25 + c1*(0.25**2) + d1*(0.25**3))"
   ]
  },
  {
   "cell_type": "code",
   "execution_count": 28,
   "metadata": {},
   "outputs": [
    {
     "data": {
      "text/plain": [
       "array([[ 1.5, -1.5],\n",
       "       [ 0. ,  4.5],\n",
       "       [ 0.5,  5. ],\n",
       "       [12. , 14. ]])"
      ]
     },
     "execution_count": 28,
     "metadata": {},
     "output_type": "execute_result"
    }
   ],
   "source": [
    "cs.c"
   ]
  },
  {
   "cell_type": "code",
   "execution_count": 79,
   "metadata": {},
   "outputs": [],
   "source": [
    "tangents = np.array([\n",
    "    10, 0\n",
    "])\n",
    "\n",
    "t = np.array([0, 1])\n",
    "x = np.array([0, 10])"
   ]
  },
  {
   "cell_type": "code",
   "execution_count": 80,
   "metadata": {},
   "outputs": [],
   "source": [
    "hermitex = CubicHermiteSpline(t, x, tangents)"
   ]
  },
  {
   "cell_type": "code",
   "execution_count": 81,
   "metadata": {},
   "outputs": [],
   "source": [
    "tangents = np.array([\n",
    "   0,  -20\n",
    "])\n",
    "\n",
    "t = np.array([0,  1])\n",
    "y = np.array([0, -10])\n",
    "hermitey = CubicHermiteSpline(t, y, tangents)"
   ]
  },
  {
   "cell_type": "code",
   "execution_count": 82,
   "metadata": {},
   "outputs": [
    {
     "data": {
      "text/plain": [
       "[<matplotlib.lines.Line2D at 0x28088842ac8>,\n",
       " <matplotlib.lines.Line2D at 0x28088842d48>]"
      ]
     },
     "execution_count": 82,
     "metadata": {},
     "output_type": "execute_result"
    },
    {
     "data": {
      "image/png": "[encoded data removed]",
      "text/plain": [
       "<Figure size 432x288 with 1 Axes>"
      ]
     },
     "metadata": {
      "needs_background": "light"
     },
     "output_type": "display_data"
    }
   ],
   "source": [
    "\n",
    "tnew = np.linspace(0,1, 50)\n",
    "\n",
    "plt.plot( x, y, 'o', hermitex(tnew), hermitey(tnew), '--')"
   ]
  },
  {
   "cell_type": "code",
   "execution_count": 78,
   "metadata": {},
   "outputs": [
    {
     "data": {
      "text/plain": [
       "[<matplotlib.lines.Line2D at 0x280887d4908>]"
      ]
     },
     "execution_count": 78,
     "metadata": {},
     "output_type": "execute_result"
    },
    {
     "data": {
      "image/png": "[encoded data removed]",
      "text/plain": [
       "<Figure size 432x288 with 1 Axes>"
      ]
     },
     "metadata": {
      "needs_background": "light"
     },
     "output_type": "display_data"
    }
   ],
   "source": [
    "tnew = np.linspace(0,1, 50)\n",
    "plt.plot( tnew, hermitey(tnew), '--')"
   ]
  },
  {
   "cell_type": "code",
   "execution_count": 97,
   "metadata": {},
   "outputs": [
    {
     "data": {
      "text/plain": [
       "[<matplotlib.lines.Line2D at 0x28088a59348>,\n",
       " <matplotlib.lines.Line2D at 0x28088a59608>]"
      ]
     },
     "execution_count": 97,
     "metadata": {},
     "output_type": "execute_result"
    },
    {
     "data": {
      "image/png": "[encoded data removed]",
      "text/plain": [
       "<Figure size 432x288 with 1 Axes>"
      ]
     },
     "metadata": {
      "needs_background": "light"
     },
     "output_type": "display_data"
    }
   ],
   "source": [
    "tangentX = np.array([\n",
    "    3.09016992482654, -10.0\n",
    "])\n",
    "\n",
    "t = np.array([0, 1])\n",
    "x = np.array([44.30602949438151, 40.0])\n",
    "y = np.array([-5.223206854241455, 0.0])\n",
    "hermitex = CubicHermiteSpline(t, x, tangentX)\n",
    "\n",
    "tangentY = np.array([\n",
    "   9.51056516909997, 1.2246467991473533e-15\n",
    "])\n",
    "hermitey = CubicHermiteSpline(t, y, tangentY)\n",
    "\n",
    "tnew = np.linspace(0,1, 50)\n",
    "plt.plot( x, y, 'o', hermitex(tnew), hermitey(tnew), '--')"
   ]
  },
  {
   "cell_type": "code",
   "execution_count": 95,
   "metadata": {},
   "outputs": [
    {
     "data": {
      "text/plain": [
       "array([[ 10.],\n",
       "       [-20.],\n",
       "       [  0.],\n",
       "       [ 10.]])"
      ]
     },
     "execution_count": 95,
     "metadata": {},
     "output_type": "execute_result"
    }
   ],
   "source": [
    "hermitex.c"
   ]
  },
  {
   "cell_type": "code",
   "execution_count": 93,
   "metadata": {},
   "outputs": [
    {
     "data": {
      "text/plain": [
       "array([  0., -10.,  20., -10.])"
      ]
     },
     "execution_count": 93,
     "metadata": {},
     "output_type": "execute_result"
    }
   ],
   "source": [
    "hermitey.c.flatten()"
   ]
  },
  {
   "cell_type": "code",
   "execution_count": 94,
   "metadata": {},
   "outputs": [
    {
     "data": {
      "text/plain": [
       "array([[  0.],\n",
       "       [-10.],\n",
       "       [ 20.],\n",
       "       [-10.]])"
      ]
     },
     "execution_count": 94,
     "metadata": {},
     "output_type": "execute_result"
    }
   ],
   "source": [
    "hermitey.c"
   ]
  },
  {
   "cell_type": "code",
   "execution_count": null,
   "metadata": {},
   "outputs": [],
   "source": []
  }
 ],
 "metadata": {
  "kernelspec": {
   "display_name": "Python 3",
   "language": "python",
   "name": "python3"
  },
  "language_info": {
   "codemirror_mode": {
    "name": "ipython",
    "version": 3
   },
   "file_extension": ".py",
   "mimetype": "text/x-python",
   "name": "python",
   "nbconvert_exporter": "python",
   "pygments_lexer": "ipython3",
   "version": "3.7.4"
  }
 },
 "nbformat": 4,
 "nbformat_minor": 2
}
