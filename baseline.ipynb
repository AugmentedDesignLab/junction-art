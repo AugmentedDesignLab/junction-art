{
 "cells": [
  {
   "cell_type": "code",
   "execution_count": 1,
   "id": "8cd4f938-35ed-4c26-b31d-8d6ed34a56ff",
   "metadata": {},
   "outputs": [],
   "source": [
    "%load_ext autoreload\n",
    "%autoreload 2"
   ]
  },
  {
   "cell_type": "code",
   "execution_count": 4,
   "id": "2888e4b5-fd1a-4456-be33-a4dc570e6cef",
   "metadata": {},
   "outputs": [],
   "source": [
    "import math\n",
    "from junctionart.roundabout.ClassicGenerator import ClassicGenerator\n",
    "from junctionart.roundabout.RewardUtil import RewardUtil\n",
    "from tqdm import tqdm\n",
    "import numpy as np"
   ]
  },
  {
   "cell_type": "code",
   "execution_count": 1,
   "id": "67ba3c87-9610-47a4-be0f-794fada67d8c",
   "metadata": {},
   "outputs": [],
   "source": []
  },
  {
   "cell_type": "code",
   "execution_count": 3,
   "id": "9ba4302d-6b6e-4331-9151-cd3641d16c31",
   "metadata": {},
   "outputs": [],
   "source": [
    "roadDefinition = roadDefs[0]"
   ]
  },
  {
   "cell_type": "code",
   "execution_count": 5,
   "id": "06d842e5-d9ac-4c31-875e-98b91ffe63b1",
   "metadata": {},
   "outputs": [],
   "source": [
    "generator = ClassicGenerator()"
   ]
  },
  {
   "cell_type": "code",
   "execution_count": 10,
   "id": "f9405ac6-3e76-4d36-b7b1-dd9c6eac1d4a",
   "metadata": {},
   "outputs": [
    {
     "name": "stderr",
     "output_type": "stream",
     "text": [
      "100%|█████████████| 20/20 [00:01<00:00, 10.60it/s]"
     ]
    },
    {
     "name": "stdout",
     "output_type": "stream",
     "text": [
      "6.575 +- 1.2871965661856\n"
     ]
    },
    {
     "name": "stderr",
     "output_type": "stream",
     "text": [
      "\n"
     ]
    }
   ],
   "source": [
    "import numpy as np\n",
    "import pickle\n",
    "with open('inputTestCases/_input2ways_n=4_.pickle', 'rb') as f:\n",
    "    roadDefs = pickle.load(f) # deserialize using load()\n",
    "scores = []\n",
    "roundabouts = []\n",
    "for roadDefinition in tqdm(roadDefs, ncols = 50, total=len(roadDefs)):\n",
    "    generator.generateWithRoadDefinition(roadDefinition, isWarpCircle=False)\n",
    "    # generator.getRoundabout().showRoundabout()\n",
    "    # RewardUtil.showRewardView(generator.getRoundabout())\n",
    "    roundabouts.append(generator.getRoundabout())\n",
    "    scores.append(generator.getRoundabout().getReward())\n",
    "\n",
    "scores = np.asarray(scores)\n",
    "print(scores.mean(), \"+-\", scores.std())"
   ]
  },
  {
   "cell_type": "code",
   "execution_count": 11,
   "id": "54765b56-d733-4a31-a9cb-19f9e611eeb3",
   "metadata": {},
   "outputs": [
    {
     "name": "stderr",
     "output_type": "stream",
     "text": [
      "100%|█████████████| 20/20 [00:04<00:00,  4.19it/s]"
     ]
    },
    {
     "name": "stdout",
     "output_type": "stream",
     "text": [
      "17.375 +- 0.8347903928532\n"
     ]
    },
    {
     "name": "stderr",
     "output_type": "stream",
     "text": [
      "\n"
     ]
    }
   ],
   "source": [
    "import pickle\n",
    "with open('inputTestCases/_input3ways_n=6_.pickle', 'rb') as f:\n",
    "    roadDefs = pickle.load(f) # deserialize using load()\n",
    "    \n",
    "import numpy as np\n",
    "scores = []\n",
    "for roadDefinition in tqdm(roadDefs, ncols = 50, total=len(roadDefs)):\n",
    "    generator.generateWithRoadDefinition(roadDefinition, isWarpCircle=False)\n",
    "    # generator.getRoundabout().showRoundabout()\n",
    "    # RewardUtil.showRewardView(generator.getRoundabout())\n",
    "    scores.append(generator.getRoundabout().getReward())\n",
    "    \n",
    "scores = np.asarray(scores)\n",
    "print(scores.mean(), \"+-\", scores.std())"
   ]
  },
  {
   "cell_type": "code",
   "execution_count": 12,
   "id": "f51ea622-4b59-4101-a863-0350b929efc3",
   "metadata": {},
   "outputs": [
    {
     "name": "stderr",
     "output_type": "stream",
     "text": [
      "100%|█████████████| 20/20 [00:05<00:00,  3.70it/s]"
     ]
    },
    {
     "name": "stdout",
     "output_type": "stream",
     "text": [
      "30.325 +- 1.2275483697190916\n"
     ]
    },
    {
     "name": "stderr",
     "output_type": "stream",
     "text": [
      "\n"
     ]
    }
   ],
   "source": [
    "import pickle\n",
    "with open('inputTestCases/_input4ways_n=8_.pickle', 'rb') as f:\n",
    "    roadDefs = pickle.load(f) # deserialize using load()\n",
    "    \n",
    "import numpy as np\n",
    "scores = []\n",
    "for roadDefinition in tqdm(roadDefs, ncols = 50, total=len(roadDefs)):\n",
    "    generator.generateWithRoadDefinition(roadDefinition, isWarpCircle=False)\n",
    "    # generator.getRoundabout().showRoundabout()\n",
    "    # RewardUtil.showRewardView(generator.getRoundabout())\n",
    "    scores.append(generator.getRoundabout().getReward())\n",
    "    \n",
    "scores = np.asarray(scores)\n",
    "print(scores.mean(), \"+-\", scores.std())"
   ]
  },
  {
   "cell_type": "code",
   "execution_count": 22,
   "id": "f1563b2e-937a-4f6e-bb23-6c0abfcec215",
   "metadata": {},
   "outputs": [],
   "source": []
  },
  {
   "cell_type": "code",
   "execution_count": 25,
   "id": "ea1c9f54-24c6-4b0b-bb33-11cd66a4c8b1",
   "metadata": {},
   "outputs": [
    {
     "data": {
      "text/plain": [
       "76.67067238251393"
      ]
     },
     "execution_count": 25,
     "metadata": {},
     "output_type": "execute_result"
    }
   ],
   "source": [
    "from junctionart.roundabout.RewardUtil import RewardUtil\n",
    "RewardUtil"
   ]
  }
 ],
 "metadata": {
  "kernelspec": {
   "display_name": "Python 3 (ipykernel)",
   "language": "python",
   "name": "python3"
  },
  "language_info": {
   "codemirror_mode": {
    "name": "ipython",
    "version": 3
   },
   "file_extension": ".py",
   "mimetype": "text/x-python",
   "name": "python",
   "nbconvert_exporter": "python",
   "pygments_lexer": "ipython3",
   "version": "3.9.7"
  }
 },
 "nbformat": 4,
 "nbformat_minor": 5
}
