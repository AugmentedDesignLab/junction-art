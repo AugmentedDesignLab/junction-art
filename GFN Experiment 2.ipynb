{
 "cells": [
  {
   "cell_type": "code",
   "execution_count": 2,
   "id": "c0bd12c4-3b34-4dd6-b34b-7e01ae31eb6f",
   "metadata": {},
   "outputs": [],
   "source": [
    "# from junctionart.roundabout.LogFlow import LogFlow\n",
    "from junctionart.roundabout.RewardUtil import RewardUtil\n",
    "from junctionart.roundabout.RoundaboutLaneEncodingEnv import RoundaboutLaneEncodingEnv\n",
    "from junctionart.roundabout.GFNAgent2 import GFNAgent2\n",
    "from junctionart.roundabout.FlowFunction import FlowFunction as FF\n",
    "import math\n",
    "import matplotlib.pyplot as plt\n",
    "import torch\n",
    "from tqdm import tqdm"
   ]
  },
  {
   "cell_type": "code",
   "execution_count": 2,
   "id": "b3136ded-b23a-4d67-973e-6a26924ec6fb",
   "metadata": {},
   "outputs": [],
   "source": [
    "%load_ext autoreload\n",
    "%autoreload 2"
   ]
  },
  {
   "cell_type": "code",
   "execution_count": 23,
   "id": "2b150ff3-12a0-4572-9dc7-ab96b070000c",
   "metadata": {},
   "outputs": [
    {
     "data": {
      "text/plain": [
       "tensor(420.2205, grad_fn=<AddBackward0>)"
      ]
     },
     "execution_count": 23,
     "metadata": {},
     "output_type": "execute_result"
    }
   ],
   "source": [
    "threePoints = [\n",
    "            {\"x\": 80, \"y\": 20, \"heading\": math.radians(45),'leftLane': 1, 'rightLane': 1, 'medianType': None, 'skipEndpoint': None},\n",
    "            {\"x\": 210, \"y\": 20, \"heading\": math.radians(115),'leftLane': 1, 'rightLane': 1, 'medianType': None, 'skipEndpoint': None},\n",
    "        ]\n",
    "env = RoundaboutLaneEncodingEnv()\n",
    "agent=GFNAgent2(generatorEnv=env, roadDefinitions = threePoints, vector_Len = 4,N_values = 30,batch_size=10)\n",
    "ff = FF(4,120)\n",
    "state= torch.tensor([2, 12, 12, 1])\n",
    "# state = [1, 11, 11, 0]\n",
    "# action=torch.zeros(120)\n",
    "# action[41] = 1\n",
    "# agent.UpdateState(state,action)\n",
    "# print(state)\n",
    "# agent.get_flow_out(state,ff)\n",
    "agent.step_forward(ff)\n",
    "agent.step_forward(ff)\n",
    "agent.step_forward(ff)\n",
    "agent.step_forward(ff)\n",
    "agent.CalculateFlowMatchingLoss(ff)"
   ]
  },
  {
   "cell_type": "code",
   "execution_count": 16,
   "id": "9ee20c64-2a94-41a3-ab65-27ba6d1840fa",
   "metadata": {},
   "outputs": [
    {
     "name": "stderr",
     "output_type": "stream",
     "text": [
      "100%|█████████████████████████████████████████████████████████████████████████████████████████████████████████████████████████████████| 2000/2000 [7:05:46<00:00, 12.77s/it]\n"
     ]
    }
   ],
   "source": [
    "import torch\n",
    "import numpy as np\n",
    "import torch.optim as optim \n",
    "import math\n",
    "import matplotlib.pyplot as plt\n",
    "import matplotlib\n",
    "from junctionart.roundabout.RoundaboutLaneEncodingEnv import RoundaboutLaneEncodingEnv\n",
    "from junctionart.roundabout.GFNAgent2 import GFNAgent2\n",
    "from junctionart.roundabout.FlowFunction import FlowFunction as FF\n",
    "from tqdm import tqdm\n",
    "\n",
    "N_values=30\n",
    "vector_Len=4\n",
    "N_epsiodes=2000\n",
    "threePoints = [\n",
    "            {\"x\": 80, \"y\": 20, \"heading\": math.radians(45),'leftLane': 1, 'rightLane': 1, 'medianType': None, 'skipEndpoint': None},\n",
    "            {\"x\": 210, \"y\": 20, \"heading\": math.radians(115),'leftLane': 1, 'rightLane': 1, 'medianType': None, 'skipEndpoint': None},\n",
    "        ]\n",
    "env = RoundaboutLaneEncodingEnv()\n",
    "\n",
    "agent=GFNAgent2(generatorEnv=env, roadDefinitions = threePoints, vector_Len=vector_Len,N_values=N_values,batch_size=32)\n",
    "\n",
    "Fnet=FF(state_dim=vector_Len, n_embed=vector_Len*N_values)\n",
    "ff = FF(state_dim = 4, n_embed = vector_Len*N_values)\n",
    "agent.reset()\n",
    "\n",
    "optimizer = optim.Adam(Fnet.parameters(), lr=1e-4)\n",
    "\n",
    "\n",
    "Match_loss_all=[]\n",
    "AllRewards=[]\n",
    "\n",
    "for Episode in tqdm(range(N_epsiodes)):\n",
    "    # print(\"episode\",Episode)\n",
    "    agent.reset()\n",
    "    #####forward, build the trajectory\n",
    "    for step in range(vector_Len):\n",
    "        states, rewards=agent.step_forward(Fnet)\n",
    "\n",
    "    #####calculate rewards\n",
    "    AllRewards.append(rewards.mean().item())\n",
    "\n",
    "    #####calculate flow match loss\n",
    "    optimizer.zero_grad()\n",
    "\n",
    "    Match_loss=agent.CalculateFlowMatchingLoss(Fnet)\n",
    "    Match_loss_all.append(Match_loss.item())\n",
    "\n",
    "    Match_loss.backward()\n",
    "\n",
    "    optimizer.step()"
   ]
  },
  {
   "cell_type": "code",
   "execution_count": 17,
   "id": "7765c929-7d72-43c5-9a05-858ed3010c71",
   "metadata": {},
   "outputs": [
    {
     "data": {
      "image/png": "[encoded data removed]",
      "text/plain": [
       "<Figure size 432x288 with 1 Axes>"
      ]
     },
     "metadata": {
      "needs_background": "light"
     },
     "output_type": "display_data"
    }
   ],
   "source": [
    "plt.plot(torch.arange(N_epsiodes), Match_loss_all)\n",
    "# plt.yscale('log')\n",
    "plt.show()"
   ]
  },
  {
   "cell_type": "code",
   "execution_count": 18,
   "id": "ee4bb7a8-92e1-484b-88d0-f60b0a84bad7",
   "metadata": {},
   "outputs": [
    {
     "data": {
      "image/png": "[encoded data removed]",
      "text/plain": [
       "<Figure size 432x288 with 1 Axes>"
      ]
     },
     "metadata": {
      "needs_background": "light"
     },
     "output_type": "display_data"
    }
   ],
   "source": [
    "plt.plot(torch.arange(N_epsiodes), AllRewards)\n",
    "# plt.yscale('log')\n",
    "plt.show()"
   ]
  }
 ],
 "metadata": {
  "kernelspec": {
   "display_name": "Python 3 (ipykernel)",
   "language": "python",
   "name": "python3"
  },
  "language_info": {
   "codemirror_mode": {
    "name": "ipython",
    "version": 3
   },
   "file_extension": ".py",
   "mimetype": "text/x-python",
   "name": "python",
   "nbconvert_exporter": "python",
   "pygments_lexer": "ipython3",
   "version": "3.9.7"
  }
 },
 "nbformat": 4,
 "nbformat_minor": 5
}
