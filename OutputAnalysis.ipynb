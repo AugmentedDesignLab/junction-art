{
 "cells": [
  {
   "cell_type": "code",
   "execution_count": 1,
   "id": "4ec3b5b9-9a53-46c2-9223-b200f024626a",
   "metadata": {},
   "outputs": [],
   "source": [
    "import numpy as np\n",
    "import pickle\n",
    "with open('analysis/expSAC_N=8_K=200.pkl', 'rb') as f:\n",
    "    output = pickle.load(f) # deserialize using load()\n",
    "\n"
   ]
  },
  {
   "cell_type": "code",
   "execution_count": 2,
   "id": "dc8ea727-038f-4b07-8916-69e209895753",
   "metadata": {},
   "outputs": [],
   "source": [
    "from tqdm import tqdm \n",
    "from junctionart.roundabout.RewardUtil import RewardUtil\n",
    "def getRewards(roundabouts):\n",
    "    rewards = []\n",
    "    for roundaboutList in tqdm(roundabouts):\n",
    "        rewardList = [roundabout.getReward() for roundabout in roundaboutList]\n",
    "        rewards.append(rewardList)\n",
    "    return rewards\n",
    "\n",
    "def getDiversityScore(roundabouts):\n",
    "    distances = []\n",
    "    for i in tqdm(range(len(roundabouts))):\n",
    "        for j in range(i + 1, len(roundabouts)):\n",
    "            distance = RewardUtil.getDistance(roundabouts[i], roundabouts[j])\n",
    "            distances.append(distance)\n",
    "\n",
    "    distances = np.array(distances)\n",
    "    return distances.sum() / (len(roundabouts) * (len(roundabouts) - 1))"
   ]
  },
  {
   "cell_type": "code",
   "execution_count": 3,
   "id": "be3a7d8b-56de-410b-9f7b-eae80d984047",
   "metadata": {},
   "outputs": [
    {
     "name": "stderr",
     "output_type": "stream",
     "text": [
      "100%|███████████████████████████████████████████████████████████████████████████████████████████| 20/20 [00:22<00:00,  1.12s/it]"
     ]
    },
    {
     "name": "stdout",
     "output_type": "stream",
     "text": [
      "25.84 +- 2.107344300298364\n",
      "-0.3537406650271799 +- 0.19203139680627285\n"
     ]
    },
    {
     "name": "stderr",
     "output_type": "stream",
     "text": [
      "\n"
     ]
    }
   ],
   "source": [
    "from junctionart.roundabout.Roundabout import Roundabout\n",
    "\n",
    "roundabouts = output['roundabouts']\n",
    "proxyRewards = output['proxyRewards']\n",
    "roundabouts = [roundaboutList[:50] for roundaboutList in roundabouts]\n",
    "proxyRewards = [pList[:50] for pList in proxyRewards]\n",
    "\n",
    "rewards = np.asarray(getRewards(roundabouts))\n",
    "proxyRewards = np.log(np.asarray(proxyRewards))\n",
    "# proxyRewards = np.asarray(proxyRewards)\n",
    "\n",
    "print(rewards.mean(), \"+-\", rewards.std())\n",
    "print(proxyRewards.mean(), \"+-\", proxyRewards.std())"
   ]
  },
  {
   "cell_type": "code",
   "execution_count": 4,
   "id": "6163fb20-5a2e-4b7a-a6d0-a9dc1fda1182",
   "metadata": {},
   "outputs": [
    {
     "name": "stderr",
     "output_type": "stream",
     "text": [
      "100%|███████████████████████████████████████████████████████████████████████████████████████████| 20/20 [01:30<00:00,  4.52s/it]"
     ]
    },
    {
     "name": "stdout",
     "output_type": "stream",
     "text": [
      "25.14325 +- 2.3328586407024323\n",
      "-0.397171680479412 +- 0.20619152579789682\n"
     ]
    },
    {
     "name": "stderr",
     "output_type": "stream",
     "text": [
      "\n"
     ]
    }
   ],
   "source": [
    "from junctionart.roundabout.Roundabout import Roundabout\n",
    "\n",
    "roundabouts = output['roundabouts']\n",
    "proxyRewards = output['proxyRewards']\n",
    "roundabouts = [roundaboutList for roundaboutList in roundabouts]\n",
    "proxyRewards = [pList for pList in proxyRewards]\n",
    "\n",
    "rewards = np.asarray(getRewards(roundabouts))\n",
    "proxyRewards = np.log(np.asarray(proxyRewards))\n",
    "\n",
    "print(rewards.mean(), \"+-\", rewards.std())\n",
    "print(proxyRewards.mean(), \"+-\", proxyRewards.std())"
   ]
  },
  {
   "cell_type": "code",
   "execution_count": 5,
   "id": "a0dd82fa-c426-4fbe-bc7e-6b4cd665adc7",
   "metadata": {},
   "outputs": [
    {
     "name": "stderr",
     "output_type": "stream",
     "text": [
      "100%|███████████████████████████████████████████████████████████████████████████████████████████| 50/50 [00:33<00:00,  1.48it/s]\n",
      "100%|███████████████████████████████████████████████████████████████████████████████████████████| 50/50 [00:33<00:00,  1.48it/s]\n",
      "100%|███████████████████████████████████████████████████████████████████████████████████████████| 50/50 [00:33<00:00,  1.48it/s]\n",
      "100%|███████████████████████████████████████████████████████████████████████████████████████████| 50/50 [00:33<00:00,  1.49it/s]\n",
      "100%|███████████████████████████████████████████████████████████████████████████████████████████| 50/50 [00:33<00:00,  1.49it/s]\n",
      "100%|███████████████████████████████████████████████████████████████████████████████████████████| 50/50 [00:33<00:00,  1.49it/s]\n",
      "100%|███████████████████████████████████████████████████████████████████████████████████████████| 50/50 [00:33<00:00,  1.48it/s]\n",
      "100%|███████████████████████████████████████████████████████████████████████████████████████████| 50/50 [00:33<00:00,  1.49it/s]\n",
      "100%|███████████████████████████████████████████████████████████████████████████████████████████| 50/50 [00:33<00:00,  1.49it/s]\n",
      "100%|███████████████████████████████████████████████████████████████████████████████████████████| 50/50 [00:33<00:00,  1.49it/s]\n",
      "100%|███████████████████████████████████████████████████████████████████████████████████████████| 50/50 [00:33<00:00,  1.48it/s]\n",
      "100%|███████████████████████████████████████████████████████████████████████████████████████████| 50/50 [00:33<00:00,  1.48it/s]\n",
      "100%|███████████████████████████████████████████████████████████████████████████████████████████| 50/50 [00:33<00:00,  1.49it/s]\n",
      "100%|███████████████████████████████████████████████████████████████████████████████████████████| 50/50 [00:33<00:00,  1.48it/s]\n",
      "100%|███████████████████████████████████████████████████████████████████████████████████████████| 50/50 [00:33<00:00,  1.50it/s]\n",
      "100%|███████████████████████████████████████████████████████████████████████████████████████████| 50/50 [00:33<00:00,  1.49it/s]\n",
      "100%|███████████████████████████████████████████████████████████████████████████████████████████| 50/50 [00:33<00:00,  1.50it/s]\n",
      "100%|███████████████████████████████████████████████████████████████████████████████████████████| 50/50 [00:33<00:00,  1.49it/s]\n",
      "100%|███████████████████████████████████████████████████████████████████████████████████████████| 50/50 [00:33<00:00,  1.49it/s]\n",
      "100%|███████████████████████████████████████████████████████████████████████████████████████████| 50/50 [00:33<00:00,  1.50it/s]"
     ]
    },
    {
     "name": "stdout",
     "output_type": "stream",
     "text": [
      "3.363292109436151 +- 1.9678179251599142\n"
     ]
    },
    {
     "name": "stderr",
     "output_type": "stream",
     "text": [
      "\n"
     ]
    }
   ],
   "source": [
    "roundabouts = output['roundabouts']\n",
    "diversityScores = [getDiversityScore(roundaboutList[:50]) for roundaboutList in roundabouts]\n",
    "diversityScores = np.asarray(diversityScores)\n",
    "\n",
    "print(diversityScores.mean(), \"+-\", diversityScores.std())"
   ]
  },
  {
   "cell_type": "code",
   "execution_count": 6,
   "id": "548809dd-5fab-4e20-9eae-665d550446d7",
   "metadata": {},
   "outputs": [
    {
     "name": "stderr",
     "output_type": "stream",
     "text": [
      "100%|█████████████████████████████████████████████████████████████████████████████████████████| 200/200 [13:34<00:00,  4.07s/it]\n",
      "100%|█████████████████████████████████████████████████████████████████████████████████████████| 200/200 [15:24<00:00,  4.62s/it]\n",
      "100%|█████████████████████████████████████████████████████████████████████████████████████████| 200/200 [15:00<00:00,  4.50s/it]\n",
      "100%|█████████████████████████████████████████████████████████████████████████████████████████| 200/200 [14:58<00:00,  4.49s/it]\n",
      "100%|█████████████████████████████████████████████████████████████████████████████████████████| 200/200 [14:14<00:00,  4.27s/it]\n",
      "100%|█████████████████████████████████████████████████████████████████████████████████████████| 200/200 [14:33<00:00,  4.37s/it]\n",
      "100%|█████████████████████████████████████████████████████████████████████████████████████████| 200/200 [15:09<00:00,  4.55s/it]\n",
      "100%|█████████████████████████████████████████████████████████████████████████████████████████| 200/200 [14:47<00:00,  4.44s/it]\n",
      "100%|█████████████████████████████████████████████████████████████████████████████████████████| 200/200 [15:09<00:00,  4.55s/it]\n",
      "100%|█████████████████████████████████████████████████████████████████████████████████████████| 200/200 [15:27<00:00,  4.64s/it]\n",
      "100%|█████████████████████████████████████████████████████████████████████████████████████████| 200/200 [15:30<00:00,  4.65s/it]\n",
      "100%|█████████████████████████████████████████████████████████████████████████████████████████| 200/200 [13:07<00:00,  3.94s/it]\n",
      "100%|█████████████████████████████████████████████████████████████████████████████████████████| 200/200 [12:17<00:00,  3.69s/it]\n",
      "100%|█████████████████████████████████████████████████████████████████████████████████████████| 200/200 [12:23<00:00,  3.72s/it]\n",
      "100%|█████████████████████████████████████████████████████████████████████████████████████████| 200/200 [12:30<00:00,  3.75s/it]\n",
      "100%|█████████████████████████████████████████████████████████████████████████████████████████| 200/200 [13:14<00:00,  3.97s/it]\n",
      "100%|█████████████████████████████████████████████████████████████████████████████████████████| 200/200 [10:15<00:00,  3.08s/it]\n",
      "100%|█████████████████████████████████████████████████████████████████████████████████████████| 200/200 [09:38<00:00,  2.89s/it]\n",
      "100%|█████████████████████████████████████████████████████████████████████████████████████████| 200/200 [09:39<00:00,  2.90s/it]\n",
      "100%|█████████████████████████████████████████████████████████████████████████████████████████| 200/200 [09:19<00:00,  2.80s/it]"
     ]
    },
    {
     "name": "stdout",
     "output_type": "stream",
     "text": [
      "3.431402094252396 +- 2.0211932057961386\n"
     ]
    },
    {
     "name": "stderr",
     "output_type": "stream",
     "text": [
      "\n"
     ]
    }
   ],
   "source": [
    "roundabouts = output['roundabouts']\n",
    "diversityScores = [getDiversityScore(roundaboutList) for roundaboutList in roundabouts]\n",
    "diversityScores = np.asarray(diversityScores)\n",
    "\n",
    "print(diversityScores.mean(), \"+-\", diversityScores.std())"
   ]
  },
  {
   "cell_type": "code",
   "execution_count": 4,
   "id": "b0c308d8-6f0e-458f-bc77-2ba7f9a30190",
   "metadata": {},
   "outputs": [
    {
     "data": {
      "text/plain": [
       "15.835"
      ]
     },
     "execution_count": 4,
     "metadata": {},
     "output_type": "execute_result"
    }
   ],
   "source": []
  },
  {
   "cell_type": "code",
   "execution_count": null,
   "id": "c94a7325-b9f1-489b-b37a-b723f28e7b6c",
   "metadata": {},
   "outputs": [],
   "source": []
  }
 ],
 "metadata": {
  "kernelspec": {
   "display_name": "Python 3 (ipykernel)",
   "language": "python",
   "name": "python3"
  },
  "language_info": {
   "codemirror_mode": {
    "name": "ipython",
    "version": 3
   },
   "file_extension": ".py",
   "mimetype": "text/x-python",
   "name": "python",
   "nbconvert_exporter": "python",
   "pygments_lexer": "ipython3",
   "version": "3.9.7"
  }
 },
 "nbformat": 4,
 "nbformat_minor": 5
}
