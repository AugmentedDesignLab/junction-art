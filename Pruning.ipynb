{
 "cells": [
  {
   "cell_type": "code",
   "execution_count": 1,
   "id": "d40b5373-cf8b-4ce3-9936-51943f1ffb99",
   "metadata": {},
   "outputs": [],
   "source": [
    "%load_ext autoreload\n",
    "%autoreload 2"
   ]
  },
  {
   "cell_type": "code",
   "execution_count": 18,
   "id": "1d057c55-4ecc-4bc4-817d-3cf8b80d3e11",
   "metadata": {},
   "outputs": [],
   "source": [
    "import torch\n",
    "import numpy as np\n",
    "import torch.optim as optim \n",
    "import math\n",
    "import matplotlib.pyplot as plt\n",
    "import matplotlib\n",
    "from junctionart.roundabout.RoundaboutLaneEncodingEnv import RoundaboutLaneEncodingEnv\n",
    "from junctionart.roundabout.GFNAgent2 import GFNAgent2\n",
    "from junctionart.roundabout.FlowFunction import FlowFunction as FF\n",
    "from tqdm import tqdm\n",
    "\n",
    "threePoints = [\n",
    "            {\"x\": 80, \"y\": 20, \"heading\": math.radians(45),'leftLane': 1, 'rightLane': 1, 'medianType': None, 'skipEndpoint': None},\n",
    "            {\"x\": 210, \"y\": 20, \"heading\": math.radians(220),'leftLane': 1, 'rightLane': 1, 'medianType': None, 'skipEndpoint': None},\n",
    "        ]\n",
    "env = RoundaboutLaneEncodingEnv()\n",
    "config = [0, 0, 0, 0]\n",
    "env.generateWithRoadDefinition(threePoints,outgoingLanesMerge=False,nSegments=30,laneToCircularId=config, createOdr=True)\n",
    "circularPoints, roadEndPoints = env.getCircularPointsAndRoadEndPoints(threePoints, 30)"
   ]
  },
  {
   "cell_type": "code",
   "execution_count": 23,
   "id": "32855c19-a84c-4edc-bd34-f07ab2d0770d",
   "metadata": {},
   "outputs": [
    {
     "data": {
      "text/plain": [
       "[2, 3, 4, 5, 6, 7, 8, 9, 10, 11, 12]"
      ]
     },
     "execution_count": 23,
     "metadata": {},
     "output_type": "execute_result"
    },
    {
     "data": {
      "image/png": "[encoded data removed]",
      "text/plain": [
       "<Figure size 432x288 with 1 Axes>"
      ]
     },
     "metadata": {
      "needs_background": "light"
     },
     "output_type": "display_data"
    }
   ],
   "source": [
    "from shapely.geometry import LinearRing, LineString, Point\n",
    "\n",
    "circle = LinearRing([(point[0], point[1]) for point in circularPoints])\n",
    "\n",
    "plt.plot(*circle.xy)\n",
    "ind = []\n",
    "for i in range(circularPoints.shape[0]):\n",
    "    circularPoint = circularPoints[i]\n",
    "    line = LineString([roadEndPoints[3], circularPoint])\n",
    "\n",
    "    if type(line.intersection(circle)) == Point:\n",
    "        ind.append(i)\n",
    "\n",
    "ind"
   ]
  },
  {
   "cell_type": "code",
   "execution_count": 25,
   "id": "ceabb51b-67c6-4c5f-9b87-f5910fe534b7",
   "metadata": {},
   "outputs": [],
   "source": [
    "action_indice=torch.arange(0,4*30).reshape(4,30)\n",
    "action_space=torch.nn.functional.one_hot(action_indice.flatten())"
   ]
  },
  {
   "cell_type": "code",
   "execution_count": 26,
   "id": "865d9716-9995-4904-8ff7-ac4e4673eb91",
   "metadata": {},
   "outputs": [
    {
     "data": {
      "text/plain": [
       "tensor([[1, 0, 0,  ..., 0, 0, 0],\n",
       "        [0, 1, 0,  ..., 0, 0, 0],\n",
       "        [0, 0, 1,  ..., 0, 0, 0],\n",
       "        ...,\n",
       "        [0, 0, 0,  ..., 1, 0, 0],\n",
       "        [0, 0, 0,  ..., 0, 1, 0],\n",
       "        [0, 0, 0,  ..., 0, 0, 1]])"
      ]
     },
     "execution_count": 26,
     "metadata": {},
     "output_type": "execute_result"
    }
   ],
   "source": []
  },
  {
   "cell_type": "code",
   "execution_count": null,
   "id": "4abfe775-7aaa-4823-a942-484c1d3ce07f",
   "metadata": {},
   "outputs": [],
   "source": []
  }
 ],
 "metadata": {
  "kernelspec": {
   "display_name": "Python 3 (ipykernel)",
   "language": "python",
   "name": "python3"
  },
  "language_info": {
   "codemirror_mode": {
    "name": "ipython",
    "version": 3
   },
   "file_extension": ".py",
   "mimetype": "text/x-python",
   "name": "python",
   "nbconvert_exporter": "python",
   "pygments_lexer": "ipython3",
   "version": "3.9.7"
  }
 },
 "nbformat": 4,
 "nbformat_minor": 5
}
