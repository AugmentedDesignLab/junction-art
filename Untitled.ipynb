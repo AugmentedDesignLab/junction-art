{
 "cells": [
  {
   "cell_type": "code",
   "execution_count": 7,
   "metadata": {},
   "outputs": [],
   "source": [
    "\n",
    "from skspatial.objects import Line, Point\n",
    "import numpy as np\n",
    "import math"
   ]
  },
  {
   "cell_type": "code",
   "execution_count": 8,
   "metadata": {},
   "outputs": [],
   "source": [
    "a = Point([3, 4])"
   ]
  },
  {
   "cell_type": "code",
   "execution_count": 9,
   "metadata": {},
   "outputs": [
    {
     "data": {
      "text/plain": [
       "4"
      ]
     },
     "execution_count": 9,
     "metadata": {},
     "output_type": "execute_result"
    }
   ],
   "source": [
    "a[1]"
   ]
  },
  {
   "cell_type": "code",
   "execution_count": 32,
   "metadata": {},
   "outputs": [
    {
     "name": "stdout",
     "output_type": "stream",
     "text": [
      "[0.0099995 0.99995  ]\n",
      "[0.00499994 0.9999875 ]\n",
      "0.004999708352698849\n",
      "0\n"
     ]
    }
   ],
   "source": [
    "vector_1 = [1, 100]\n",
    "vector_2 = [1, 200]\n",
    "\n",
    "unit_vector_1 = vector_1 / np.linalg.norm(vector_1)\n",
    "unit_vector_2 = vector_2 / np.linalg.norm(vector_2)\n",
    "print(unit_vector_1)\n",
    "print(unit_vector_2)\n",
    "# dot_product = np.dot(unit_vector_1, unit_vector_2)\n",
    "dot_product = np.dot(unit_vector_1, unit_vector_2)\n",
    "angle = np.arccos(dot_product)\n",
    "\n",
    "print(angle)\n",
    "print(round(math.degrees(angle)))"
   ]
  },
  {
   "cell_type": "code",
   "execution_count": 48,
   "metadata": {},
   "outputs": [],
   "source": [
    "\n",
    "def getHeading(centerPos, pointPos):\n",
    "\n",
    "    # translate point to center\n",
    "    pointPos[0] = pointPos[0] - centerPos[0]\n",
    "    pointPos[1] = pointPos[1] - centerPos[1]\n",
    "\n",
    "    # find angle wrt 1, 0\n",
    "    xDir = [1, 0]\n",
    "\n",
    "    unit_vector_1 = xDir / np.linalg.norm(xDir)\n",
    "    unit_vector_2 = pointPos / np.linalg.norm(pointPos)\n",
    "    dot_product = np.dot(unit_vector_1, unit_vector_2)\n",
    "    absAngle = np.arccos(dot_product)\n",
    "    \n",
    "    angle = None\n",
    "    \n",
    "    if pointPos[1] >= 0:\n",
    "        angle = absAngle\n",
    "    else:\n",
    "        angle = 2 * np.pi - absAngle\n",
    "#     if pointPos[0] >= 0:\n",
    "#         if pointPos[1] >= 0:\n",
    "#             angle = absAngle\n",
    "#         else:\n",
    "#             angle = 2 * np.pi - absAngle\n",
    "#     else:\n",
    "#         if pointPos[1] >= 0:\n",
    "#             angle = absAngle\n",
    "#         else:\n",
    "#             angle = 2 * np.pi - absAngle\n",
    "        \n",
    "            \n",
    "    \n",
    "    return angle"
   ]
  },
  {
   "cell_type": "code",
   "execution_count": 55,
   "metadata": {},
   "outputs": [
    {
     "name": "stdout",
     "output_type": "stream",
     "text": [
      "360\n"
     ]
    }
   ],
   "source": [
    "\n",
    "print(round(math.degrees(getHeading([0,0], [1,-.001]))))"
   ]
  },
  {
   "cell_type": "code",
   "execution_count": null,
   "metadata": {},
   "outputs": [],
   "source": []
  }
 ],
 "metadata": {
  "kernelspec": {
   "display_name": "Python 3",
   "language": "python",
   "name": "python3"
  },
  "language_info": {
   "codemirror_mode": {
    "name": "ipython",
    "version": 3
   },
   "file_extension": ".py",
   "mimetype": "text/x-python",
   "name": "python",
   "nbconvert_exporter": "python",
   "pygments_lexer": "ipython3",
   "version": "3.7.9"
  }
 },
 "nbformat": 4,
 "nbformat_minor": 4
}
