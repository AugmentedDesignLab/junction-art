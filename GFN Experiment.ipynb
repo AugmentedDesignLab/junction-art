{
 "cells": [
  {
   "cell_type": "code",
   "execution_count": 1,
   "id": "a7fd33a3-efbd-4960-bfaf-0be2f8bb34bb",
   "metadata": {},
   "outputs": [],
   "source": [
    "from junctionart.roundabout.LogFlow import LogFlow\n",
    "from junctionart.roundabout.RewardUtil import RewardUtil\n",
    "from junctionart.roundabout.RoundaboutLaneEncodingEnv import RoundaboutLaneEncodingEnv\n",
    "from junctionart.roundabout.GFNAgent import GFNAgent\n",
    "import math\n",
    "import matplotlib.pyplot as plt\n",
    "import torch\n",
    "from tqdm import tqdm"
   ]
  },
  {
   "cell_type": "code",
   "execution_count": 2,
   "id": "776ba1eb-1b66-4862-9e0d-8603d964a250",
   "metadata": {},
   "outputs": [],
   "source": [
    "%load_ext autoreload\n",
    "%autoreload 2"
   ]
  },
  {
   "cell_type": "code",
   "execution_count": 3,
   "id": "c9941eb6-c360-4b99-bfeb-febddf334c46",
   "metadata": {},
   "outputs": [],
   "source": [
    "threePoints = [\n",
    "            {\"x\": 80, \"y\": 20, \"heading\": math.radians(45),'leftLane': 1, 'rightLane': 1, 'medianType': None, 'skipEndpoint': None},\n",
    "            {\"x\": 210, \"y\": 20, \"heading\": math.radians(115),'leftLane': 1, 'rightLane': 1, 'medianType': None, 'skipEndpoint': None},\n",
    "            # {\"x\": 100, \"y\": 100, \"heading\": math.radians(300),'leftLane': 1, 'rightLane': 1, 'medianType': None, 'skipEndpoint': None},\n",
    "            # {\"x\": 160, \"y\": 49, \"heading\": math.radians(300),'leftLane': 1, 'rightLane': 1, 'medianType': None, 'skipEndpoint': None},\n",
    "            # {\"x\": 160, \"y\": 100, \"heading\": math.radians(220),'leftLane': 1, 'rightLane': 1, 'medianType': None, 'skipEndpoint': None},\n",
    "        ]\n",
    "env = RoundaboutLaneEncodingEnv()\n",
    "# agent = GFNAgent(env, [120, 512, 512, 120], 30, 4, roadDefinitions = threePoints)\n",
    "# states, losses = agent.train(epoch = 1500, updateFrequency=5)"
   ]
  },
  {
   "cell_type": "code",
   "execution_count": null,
   "id": "d781159b-736e-4c5c-afe5-2d7212cd49ec",
   "metadata": {},
   "outputs": [
    {
     "ename": "NameError",
     "evalue": "name 'losses' is not defined",
     "output_type": "error",
     "traceback": [
      "\u001b[0;31m---------------------------------------------------------------------------\u001b[0m",
      "\u001b[0;31mNameError\u001b[0m                                 Traceback (most recent call last)",
      "\u001b[0;32m/var/folders/6r/ybj42rmx5yzdgsy5vpnr2j980000gn/T/ipykernel_17010/3382088084.py\u001b[0m in \u001b[0;36m<module>\u001b[0;34m\u001b[0m\n\u001b[0;32m----> 1\u001b[0;31m \u001b[0mplt\u001b[0m\u001b[0;34m.\u001b[0m\u001b[0mplot\u001b[0m\u001b[0;34m(\u001b[0m\u001b[0mlosses\u001b[0m\u001b[0;34m)\u001b[0m\u001b[0;34m\u001b[0m\u001b[0;34m\u001b[0m\u001b[0m\n\u001b[0m\u001b[1;32m      2\u001b[0m \u001b[0mplt\u001b[0m\u001b[0;34m.\u001b[0m\u001b[0myscale\u001b[0m\u001b[0;34m(\u001b[0m\u001b[0;34m'log'\u001b[0m\u001b[0;34m)\u001b[0m\u001b[0;34m\u001b[0m\u001b[0;34m\u001b[0m\u001b[0m\n\u001b[1;32m      3\u001b[0m \u001b[0mplt\u001b[0m\u001b[0;34m.\u001b[0m\u001b[0mshow\u001b[0m\u001b[0;34m(\u001b[0m\u001b[0;34m)\u001b[0m\u001b[0;34m\u001b[0m\u001b[0;34m\u001b[0m\u001b[0m\n",
      "\u001b[0;31mNameError\u001b[0m: name 'losses' is not defined"
     ]
    }
   ],
   "source": [
    "plt.plot(losses)\n",
    "plt.yscale('log')\n",
    "plt.show()"
   ]
  },
  {
   "cell_type": "code",
   "execution_count": null,
   "id": "5ea2b869-09f8-46b2-a07b-4885aeebc469",
   "metadata": {},
   "outputs": [
    {
     "data": {
      "text/plain": [
       "tensor([  0,   1,   3,   5,   6,   8,  11,  12,  15,  16,  17,  18,  20,  22,\n",
       "         30,  33,  38,  41,  44,  45,  49,  52,  55,  56,  59,  61,  66,  67,\n",
       "         69,  70,  73,  74,  75,  76,  77,  78,  80,  81,  82,  83,  84,  85,\n",
       "         87,  88,  93,  94,  99, 100, 101, 102, 103, 107, 110, 111, 112, 115,\n",
       "        117])"
      ]
     },
     "execution_count": 15,
     "metadata": {},
     "output_type": "execute_result"
    }
   ],
   "source": [
    "from torch.distributions.categorical import Categorical\n",
    "a = [6.0822e-04, 7.7668e-04, 2.8431e+00, 6.4091e-02, 2.5966e+01, 8.1908e-05,\n",
    "        1.7941e-04, 8.3205e-01, 2.4770e-03, 1.7511e-01, 1.8791e-01, 7.7863e-06,\n",
    "        7.9466e-06, 2.0961e+03, 1.8717e+01, 1.3091e-02, 2.5445e-03, 1.6869e-04,\n",
    "        2.3713e-02, 1.2537e+00, 2.8531e-04, 2.5878e-01, 1.2899e-03, 2.6976e+00,\n",
    "        8.9098e+02, 2.3714e+00, 2.6635e+03, 1.5125e-01, 5.2793e+00, 2.2719e+00,\n",
    "        9.0890e-06, 5.2307e+03, 4.8046e+02, 1.8598e-02, 1.0518e+01, 3.1072e+00,\n",
    "        5.4064e-01, 1.2805e+01, 3.6724e-03, 1.4865e+00, 2.4160e-01, 5.5914e-03,\n",
    "        6.1929e+01, 3.0942e-01, 1.3019e-05, 3.2959e-04, 1.4720e-01, 6.5493e-01,\n",
    "        5.8897e-01, 6.1398e-02, 7.4399e+01, 3.0209e-01, 4.5894e-02, 1.5509e-01,\n",
    "        4.9617e+01, 1.4231e-06, 9.3242e-05, 5.8922e+01, 1.1802e+01, 8.3853e-02,\n",
    "        1.3236e+00, 4.2897e-04, 3.1290e+01, 4.0755e+05, 3.2390e-01, 5.0833e-01,\n",
    "        8.6954e-05, 8.6696e-02, 1.2280e+02, 3.8450e-02, 5.4853e-05, 3.8263e+03,\n",
    "        1.4910e+01, 7.2930e-04, 5.7011e-03, 1.8528e-02, 7.6657e-03, 1.2236e-06,\n",
    "        1.3795e-02, 8.7827e+03, 4.5648e-04, 9.2449e-03, 6.2630e-04, 8.3952e-02,\n",
    "        1.5511e-03, 7.5965e-06, 1.0363e+01, 3.9455e-04, 4.3584e-02, 4.2451e-01,\n",
    "        1.7088e+02, 1.4523e-01, 5.2743e+04, 7.4030e-02, 4.8108e-02, 1.3944e+05,\n",
    "        7.9900e+02, 1.9491e+01, 1.1886e+01, 8.0112e-03, 1.1700e-07, 3.2429e-02,\n",
    "        2.6427e-02, 1.6540e-02, 1.7669e+01, 5.6678e-01, 7.6482e+03, 7.9985e-05,\n",
    "        3.1685e+00, 9.9248e+00, 3.5110e-04, 6.4364e-04, 2.1879e-02, 1.0062e-01,\n",
    "        9.0976e+00, 2.3670e-07, 2.6257e-01, 2.9608e-05, 2.3209e+00, 6.4359e-01]\n",
    "a = torch.tensor(a)\n",
    "torch.where(a < .1)[0]"
   ]
  },
  {
   "cell_type": "code",
   "execution_count": 16,
   "id": "7adf4629-28a0-4d14-a884-7715328bbb9a",
   "metadata": {},
   "outputs": [],
   "source": [
    "%load_ext line_profiler"
   ]
  },
  {
   "cell_type": "code",
   "execution_count": 25,
   "id": "17dec3a2-e77e-4852-b9bc-8e0c704427f5",
   "metadata": {},
   "outputs": [
    {
     "ename": "IndexError",
     "evalue": "list index out of range",
     "output_type": "error",
     "traceback": [
      "\u001b[0;31m---------------------------------------------------------------------------\u001b[0m",
      "\u001b[0;31mIndexError\u001b[0m                                Traceback (most recent call last)",
      "\u001b[0;32m/var/folders/6r/ybj42rmx5yzdgsy5vpnr2j980000gn/T/ipykernel_69237/3529251262.py\u001b[0m in \u001b[0;36m<module>\u001b[0;34m\u001b[0m\n\u001b[1;32m     17\u001b[0m         [25, 24,  9,  3]]\n\u001b[1;32m     18\u001b[0m \u001b[0;31m# config = [1, 10, 11, 0]\u001b[0m\u001b[0;34m\u001b[0m\u001b[0;34m\u001b[0m\u001b[0m\n\u001b[0;32m---> 19\u001b[0;31m \u001b[0mconfig\u001b[0m \u001b[0;34m=\u001b[0m \u001b[0mconfigs\u001b[0m\u001b[0;34m[\u001b[0m\u001b[0;36m16\u001b[0m\u001b[0;34m]\u001b[0m\u001b[0;34m\u001b[0m\u001b[0;34m\u001b[0m\u001b[0m\n\u001b[0m\u001b[1;32m     20\u001b[0m \u001b[0;31m# print(config)\u001b[0m\u001b[0;34m\u001b[0m\u001b[0;34m\u001b[0m\u001b[0m\n\u001b[1;32m     21\u001b[0m \u001b[0;31m# env = RoundaboutLaneEncodingEnv()\u001b[0m\u001b[0;34m\u001b[0m\u001b[0;34m\u001b[0m\u001b[0m\n",
      "\u001b[0;31mIndexError\u001b[0m: list index out of range"
     ]
    }
   ],
   "source": [
    "# config = agent.generateTrajectory()\n",
    "configs = [[25, 21,  3,  3],\n",
    "        [25, 29,  3,  3],\n",
    "        [25, 26,  3,  3],\n",
    "        [25, 20,  3,  3],\n",
    "        [25, 24, 12,  3],\n",
    "        [25, 29,  5,  3],\n",
    "        [25, 26,  3,  3],\n",
    "        [25, 26,  3,  3],\n",
    "        [25, 24,  3,  3],\n",
    "        [25, 26,  9,  3],\n",
    "        [25, 21,  3,  3],\n",
    "        [25, 24,  3,  3],\n",
    "        [25, 24,  3,  3],\n",
    "        [25, 24,  3,  3],\n",
    "        [25, 24,  5,  3],\n",
    "        [25, 24,  9,  3]]\n",
    "# config = [1, 10, 11, 0]\n",
    "# config = configs[16]\n",
    "# print(config)\n",
    "# env = RoundaboutLaneEncodingEnv()\n",
    "# env = RoundaboutLaneEncodingEnv()\n",
    "# %prun \n",
    "env.generateWithRoadDefinition(threePoints,outgoingLanesMerge=False,nSegments=30,laneToCircularId=config, createOdr=True)\n",
    "roundabout = env.getRoundabout()\n",
    "\n",
    "print(roundabout.getReward())\n",
    "roundabout.showRoundabout()\n",
    "# RewardUtil.showRewardView(roundabout)"
   ]
  },
  {
   "cell_type": "code",
   "execution_count": 111,
   "id": "9d6bb456-5f15-4782-a80e-edc58b2f6c88",
   "metadata": {},
   "outputs": [
    {
     "data": {
      "text/plain": [
       "(30, 2)"
      ]
     },
     "execution_count": 111,
     "metadata": {},
     "output_type": "execute_result"
    }
   ],
   "source": [
    "env.getCircularPointsOnly(threePoints, 30)"
   ]
  },
  {
   "cell_type": "code",
   "execution_count": null,
   "id": "78df51bf-faa6-4c2b-94de-16b6264aa031",
   "metadata": {},
   "outputs": [],
   "source": [
    "print(rewards)\n",
    "sns.kdeplot(rewards)"
   ]
  },
  {
   "cell_type": "code",
   "execution_count": null,
   "id": "95e4981d-f9b7-44b3-9c36-ffe8bb4b6c1e",
   "metadata": {},
   "outputs": [],
   "source": []
  }
 ],
 "metadata": {
  "kernelspec": {
   "display_name": "Python 3 (ipykernel)",
   "language": "python",
   "name": "python3"
  },
  "language_info": {
   "codemirror_mode": {
    "name": "ipython",
    "version": 3
   },
   "file_extension": ".py",
   "mimetype": "text/x-python",
   "name": "python",
   "nbconvert_exporter": "python",
   "pygments_lexer": "ipython3",
   "version": "3.9.7"
  }
 },
 "nbformat": 4,
 "nbformat_minor": 5
}
