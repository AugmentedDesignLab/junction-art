{
 "cells": [
  {
   "cell_type": "code",
   "execution_count": 1,
   "metadata": {},
   "outputs": [
    {
     "name": "stdout",
     "output_type": "stream",
     "text": [
      "current working dirC:\\Users\\abjaw\\Documents\\GitHub\\junction-art\n"
     ]
    }
   ],
   "source": [
    "exec(open(\"init_notebook.py\").read())"
   ]
  },
  {
   "cell_type": "code",
   "execution_count": 2,
   "metadata": {},
   "outputs": [],
   "source": [
    "import pyodrx, extensions\n",
    "from library.Configuration import Configuration\n",
    "import numpy as np\n",
    "from junctions.RoadBuilder import RoadBuilder\n",
    "from junctions.JunctionBuilder import JunctionBuilder\n",
    "from junctions.AngleCurvatureMap import AngleCurvatureMap\n",
    "from junctions.StandardCurveTypes import StandardCurveTypes\n",
    "from junctions.StraightRoadBuilder import StraightRoadBuilder\n",
    "import math"
   ]
  },
  {
   "cell_type": "code",
   "execution_count": 3,
   "metadata": {},
   "outputs": [
    {
     "name": "stdout",
     "output_type": "stream",
     "text": [
      "{'test': 'This is nothing', 'test2': {'test22': 'this is something'}, 'esminipath': 'C:\\\\Users\\\\abjaw\\\\Documents\\\\GitHub\\\\esmini', 'rootPath': 'C:\\\\Users\\\\abjaw\\\\Documents\\\\GitHub\\\\junction-art'}\n"
     ]
    }
   ],
   "source": [
    "roadBuilder = RoadBuilder()\n",
    "straightRoadBuilder = StraightRoadBuilder()\n",
    "junctionBuilder = JunctionBuilder()\n",
    "configuration = Configuration()\n",
    "angleCurvatureMap = AngleCurvatureMap()\n",
    "esminiPath = configuration.get(\"esminipath\")"
   ]
  },
  {
   "cell_type": "code",
   "execution_count": 4,
   "metadata": {},
   "outputs": [
    {
     "name": "stderr",
     "output_type": "stream",
     "text": [
      "ERROR:root:The road object do not have extended lanes properties. Please, update your code.\n"
     ]
    },
    {
     "name": "stdout",
     "output_type": "stream",
     "text": [
      "starting adjustment. May freeze!!!!!!!!!!!!!\n",
      "start points starting\n",
      "C:\\Users\\abjaw\\Documents\\GitHub\\esmini\\bin\\odrplot.exe C:/Users/abjaw/Documents/GitHub/esmini/bin/pythonroad.xodr\n"
     ]
    },
    {
     "data": {
      "image/png": "[encoded data removed]",
      "text/plain": [
       "<Figure size 1152x576 with 1 Axes>"
      ]
     },
     "metadata": {
      "needs_background": "light"
     },
     "output_type": "display_data"
    }
   ],
   "source": [
    "angle = 10\n",
    "numberofLanes = 4\n",
    "laneOffset = 4\n",
    "curve, angle = angleCurvatureMap.getCurvatureForNonOverlappingRoads(angle, numberofLanes, laneOffset)\n",
    "roads = []\n",
    "#creating roads\n",
    "roads.append(straightRoadBuilder.create(roadId=0, \n",
    "                                        length=50,\n",
    "                                        n_lanes=numberofLanes, \n",
    "                                        lane_offset=laneOffset))\n",
    "roads.append(roadBuilder.createSimpleCurveWithLongArcWithLaneNumberandOffset(connectionRoadId=1,\n",
    "                                                                             angleBetweenEndpoints=angle,\n",
    "                                                                             isJunction=False, \n",
    "                                                                             curvature=curve, \n",
    "                                                                             _lane_offset=laneOffset, \n",
    "                                                                             _n_lanes=numberofLanes))\n",
    "roads.append(straightRoadBuilder.create(roadId=2, \n",
    "                                        length=10,\n",
    "                                        n_lanes=numberofLanes, \n",
    "                                        lane_offset=laneOffset))\n",
    "\n",
    "roads.append(straightRoadBuilder.create(roadId=3, \n",
    "                                        length=10,\n",
    "                                        n_lanes=numberofLanes, \n",
    "                                        lane_offset=laneOffset))\n",
    "roads.append(roadBuilder.createSimpleCurveWithLongArcWithLaneNumberandOffset(connectionRoadId=4,\n",
    "                                                                             angleBetweenEndpoints=angle,\n",
    "                                                                             isJunction=False, \n",
    "                                                                             curvature=curve, \n",
    "                                                                             _lane_offset=laneOffset, \n",
    "                                                                             _n_lanes=numberofLanes))\n",
    "roads.append(straightRoadBuilder.create(roadId=5, \n",
    "                                        length=20,\n",
    "                                        n_lanes=numberofLanes, \n",
    "                                        lane_offset=laneOffset))\n",
    "\n",
    "#setting successor and predecessor\n",
    "roads[0].add_successor(pyodrx.ElementType.road,1,pyodrx.ContactPoint.start)\n",
    "roads[1].add_predecessor(pyodrx.ElementType.road,0,pyodrx.ContactPoint.end)\n",
    "\n",
    "roads[1].add_successor(pyodrx.ElementType.road,2,pyodrx.ContactPoint.start)\n",
    "roads[2].add_predecessor(pyodrx.ElementType.road,1,pyodrx.ContactPoint.end)\n",
    "\n",
    "roads[2].add_successor(pyodrx.ElementType.road,3,pyodrx.ContactPoint.start)\n",
    "roads[3].add_predecessor(pyodrx.ElementType.road,2,pyodrx.ContactPoint.end)\n",
    "\n",
    "roads[3].add_successor(pyodrx.ElementType.road,4,pyodrx.ContactPoint.start)\n",
    "roads[4].add_predecessor(pyodrx.ElementType.road,3,pyodrx.ContactPoint.end)\n",
    "\n",
    "roads[4].add_successor(pyodrx.ElementType.road,5,pyodrx.ContactPoint.start)\n",
    "roads[5].add_predecessor(pyodrx.ElementType.road,4,pyodrx.ContactPoint.end)\n",
    "\n",
    "\n",
    "odrName=\"intersection_test\"\n",
    "odr=extensions.createOdr(odrName, roads, [])\n",
    "extensions.view_road(odr, esminiPath)"
   ]
  },
  {
   "cell_type": "code",
   "execution_count": 18,
   "metadata": {},
   "outputs": [
    {
     "name": "stdout",
     "output_type": "stream",
     "text": [
      "<extensions.ExtendedSpiral.ExtendedSpiral object at 0x00000241D17F5E48>\n",
      "{'s': '0', 'x': '50.0', 'y': '0.0', 'hdg': '0', 'length': '4.153883619746505'}\n",
      "(54.14475080982829, 0.20509099262032104, 0.14835298849645986, 4.153883619746505)\n",
      "(54.12953867859841, -0.4097949399223684, -0.1483529884964598, 4.153883619746505)\n",
      "<pyodrx.geometry.Arc object at 0x00000241D12A0888>\n",
      "{'s': '4.153883619746505', 'x': '54.14475080982829', 'y': '0.20509099262032104', 'hdg': '0.14835298849645986', 'length': '37.38495257771854'}\n",
      "(56.51768418735264, 27.32784425750239, 2.8187067440477844, 37.38495257771854)\n",
      "(64.34392399802597, -25.0387483302519, -2.5220007670548648, 37.38495257771854)\n",
      "<extensions.ExtendedSpiral.ExtendedSpiral object at 0x00000241D12A08C8>\n",
      "{'s': '41.538836197465045', 'x': '56.51768418735264', 'y': '27.32784425750239', 'hdg': '2.8187067440477844', 'length': '4.153883619746505'}\n",
      "(52.471515128825885, 28.249547865310753, 2.9670597325442443, 4.153883619746505)\n",
      "(52.65219527326716, 28.83748562084286, 2.6703537555513246, 4.153883619746505)\n",
      "<extensions.ExtendedSpiral.ExtendedSpiral object at 0x00000241D161AE48>\n",
      "{'s': '0', 'x': '32.77536005415543', 'y': '31.72251133683382', 'hdg': '2.9670597325442443', 'length': '4.153883619746505'}\n",
      "(28.657963643057794, 32.24026454513539, 3.115412721040704, 4.153883619746505)\n",
      "(28.779718486987502, 32.84316742036082, 2.8187067440477844, 4.153883619746505)\n",
      "<pyodrx.geometry.Arc object at 0x00000241D161B888>\n",
      "{'s': '4.153883619746505', 'x': '28.657963643057794', 'y': '32.24026454513539', 'hdg': '3.115412721040704', 'length': '37.38495257771854'}\n",
      "(21.611263886975316, 5.941622374303309, 5.785766476592029, 37.38495257771854)\n",
      "(22.99728539811631, 58.87166104042055, 0.4450589654893795, 37.38495257771854)\n",
      "<extensions.ExtendedSpiral.ExtendedSpiral object at 0x00000241D161B8C8>\n",
      "{'s': '41.538836197465045', 'x': '21.611263886975316', 'y': '5.941622374303309', 'hdg': '5.785766476592029', 'length': '4.153883619746505'}\n",
      "(25.43591040065466, 4.331311647695959, 5.9341194650884885, 4.153883619746505)\n",
      "(25.155880876038587, 3.78368076441896, 5.637413488095569, 4.153883619746505)\n"
     ]
    }
   ],
   "source": [
    "for r in roads:\n",
    "    if r.curveType == StandardCurveTypes.LongArc:\n",
    "        for geom in r.planview._adjusted_geometries:\n",
    "            print(geom.geom_type)\n",
    "            print(geom.get_attributes())\n",
    "            print(geom.get_end_data())\n",
    "            print(geom.get_start_data())\n",
    "            "
   ]
  },
  {
   "cell_type": "code",
   "execution_count": 14,
   "metadata": {},
   "outputs": [],
   "source": [
    "def perp(a):\n",
    "    b = np.empty_like(a)\n",
    "    b[0] = -a[1]\n",
    "    b[1] = a[0]\n",
    "    return b\n",
    "\n",
    "def seg_intersect(a1,a2, b1,b2):\n",
    "    da = [a2[0]-a1[0], a2[1]-a1[1]]\n",
    "    db = [b2[0]-b1[0], b2[1]-b1[1]]\n",
    "    dp = [a1[0]-b1[0], a1[1]-b1[1]]\n",
    "    dap = perp(da)\n",
    "    denom = np.dot( dap, db)\n",
    "    num = np.dot( dap, dp )\n",
    "    return (num / denom.astype(float))*db[0] + b1[0], (num / denom.astype(float))*db[1] + b1[1]"
   ]
  },
  {
   "cell_type": "code",
   "execution_count": 26,
   "metadata": {},
   "outputs": [],
   "source": [
    "def isCollidingRoad(road1, road2):\n",
    "#     print(road1.curveType)\n",
    "#     print(road2.curveType)\n",
    "    if road1.curveType == StandardCurveTypes.LongArc and road2.curveType == StandardCurveTypes.Line:\n",
    "        for geom in road1.planview._adjusted_geometries:\n",
    "            p1, p2, p3, p4 = [[], []], [[], []], [[], []], [[], []]"
   ]
  },
  {
   "cell_type": "code",
   "execution_count": 27,
   "metadata": {},
   "outputs": [
    {
     "name": "stdout",
     "output_type": "stream",
     "text": [
      "StandardCurveTypes.LongArc\n",
      "StandardCurveTypes.Line\n",
      "long arc and line\n"
     ]
    }
   ],
   "source": [
    "isCollidingRoad(roads[1], roads[0])"
   ]
  },
  {
   "cell_type": "code",
   "execution_count": null,
   "metadata": {},
   "outputs": [],
   "source": [
    "#creating roads\n",
    "\n",
    "angle = 10\n",
    "numberofLanes = 1\n",
    "laneOffset = 10\n",
    "curve, angle = angleCurvatureMap.getCurvatureForNonOverlappingRoads(angle, numberofLanes, laneOffset)\n",
    "roads = []\n",
    "roads.append(pyodrx.create_straight_road(0, 50,  n_lanes=numberofLanes, lane_offset=laneOffset))\n",
    "roads.append(roadBuilder.createSimpleCurveWithLongArcWithLaneNumberandOffset(1, angle, False, curvature = curve, _n_lanes = numberofLanes, _lane_offset=laneOffset))\n",
    "roads.append(pyodrx.create_straight_road(2, 50, n_lanes=numberofLanes, lane_offset=laneOffset))\n",
    "roads.append(roadBuilder.createSimpleCurveWithLongArcWithLaneNumberandOffset(3, angle, False, curvature = curve, _n_lanes = numberofLanes, _lane_offset=laneOffset))\n",
    "roads.append(pyodrx.create_straight_road(4, 70, n_lanes=numberofLanes, lane_offset=laneOffset))\n",
    "roads.append(roadBuilder.createSimpleCurveWithLongArcWithLaneNumberandOffset(5, angle, False, curvature = curve, _n_lanes = numberofLanes, _lane_offset=laneOffset))\n",
    "roads.append(pyodrx.create_straight_road(6, 50, n_lanes=numberofLanes, lane_offset=laneOffset))\n",
    "\n",
    "\n",
    "roads[0].add_successor(pyodrx.ElementType.road,1,pyodrx.ContactPoint.start)\n",
    "\n",
    "roads[1].add_predecessor(pyodrx.ElementType.road,0,pyodrx.ContactPoint.end)\n",
    "roads[1].add_successor(pyodrx.ElementType.road,2,pyodrx.ContactPoint.start)\n",
    "\n",
    "roads[2].add_predecessor(pyodrx.ElementType.road,1,pyodrx.ContactPoint.end)\n",
    "roads[2].add_successor(pyodrx.ElementType.road,3,pyodrx.ContactPoint.start)\n",
    "\n",
    "roads[3].add_predecessor(pyodrx.ElementType.road,2,pyodrx.ContactPoint.end)\n",
    "roads[3].add_successor(pyodrx.ElementType.road,4,pyodrx.ContactPoint.start)\n",
    "\n",
    "roads[4].add_predecessor(pyodrx.ElementType.road,3,pyodrx.ContactPoint.end)\n",
    "roads[4].add_successor(pyodrx.ElementType.road,5,pyodrx.ContactPoint.start)\n",
    "\n",
    "roads[5].add_predecessor(pyodrx.ElementType.road,4,pyodrx.ContactPoint.end)\n",
    "roads[5].add_successor(pyodrx.ElementType.road,6,pyodrx.ContactPoint.start)\n",
    "\n",
    "roads[6].add_predecessor(pyodrx.ElementType.road,5,pyodrx.ContactPoint.end)\n",
    "\n",
    "odrName = \"curve_test\"\n",
    "\n",
    "odr = extensions.createOdr(odrName, roads, [])\n",
    "extensions.view_road(odr, esminiPath)"
   ]
  },
  {
   "cell_type": "code",
   "execution_count": null,
   "metadata": {},
   "outputs": [],
   "source": [
    "#create roads\n",
    "angle = 45\n",
    "numberofLanes = 1\n",
    "laneOffset = 3\n",
    "curve, angle = angleCurvatureMap.getCurvatureForNonOverlappingRoads(angle, numberofLanes, laneOffset)\n",
    "roads = []\n",
    "\n",
    "roads.append(straightRoadBuilder.create(roadId=0, length=20))\n",
    "roads.append(roadBuilder.createSimpleCurve(connectionRoadId=1,angleBetweenEndpoints=angle,curvature=curve))\n",
    "roads.append(straightRoadBuilder.create(roadId=2, length=5))\n",
    "roads.append(roadBuilder.createSimpleCurve(connectionRoadId=3,angleBetweenEndpoints=angle,curvature=curve))\n",
    "roads.append(straightRoadBuilder.create(roadId=4, length=7))\n",
    "\n",
    "roads[0].add_successor(pyodrx.ElementType.road,1,pyodrx.ContactPoint.start)\n",
    "roads[1].add_predecessor(pyodrx.ElementType.road,0,pyodrx.ContactPoint.end)\n",
    "\n",
    "roads[1].add_successor(pyodrx.ElementType.road,2,pyodrx.ContactPoint.start)\n",
    "roads[2].add_predecessor(pyodrx.ElementType.road,1,pyodrx.ContactPoint.end)\n",
    "\n",
    "roads[2].add_successor(pyodrx.ElementType.road,3,pyodrx.ContactPoint.start)\n",
    "roads[3].add_predecessor(pyodrx.ElementType.road,2,pyodrx.ContactPoint.end)\n",
    "\n",
    "roads[3].add_successor(pyodrx.ElementType.road,4,pyodrx.ContactPoint.start)\n",
    "roads[4].add_predecessor(pyodrx.ElementType.road,3,pyodrx.ContactPoint.end)\n",
    "\n",
    "odrName=\"intersection_test\"\n",
    "odr=extensions.createOdr(odrName, roads, [])\n",
    "extensions.view_road(odr, esminiPath)"
   ]
  }
 ],
 "metadata": {
  "kernelspec": {
   "display_name": "Python 3",
   "language": "python",
   "name": "python3"
  },
  "language_info": {
   "codemirror_mode": {
    "name": "ipython",
    "version": 3
   },
   "file_extension": ".py",
   "mimetype": "text/x-python",
   "name": "python",
   "nbconvert_exporter": "python",
   "pygments_lexer": "ipython3",
   "version": "3.7.9"
  }
 },
 "nbformat": 4,
 "nbformat_minor": 4
}
