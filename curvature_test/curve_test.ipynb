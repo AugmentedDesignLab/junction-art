{
 "cells": [
  {
   "cell_type": "code",
   "execution_count": null,
   "metadata": {},
   "outputs": [],
   "source": [
    "exec(open(\"init_notebook.py\").read())"
   ]
  },
  {
   "cell_type": "code",
   "execution_count": null,
   "metadata": {},
   "outputs": [],
   "source": [
    "import pyodrx, extensions\n",
    "from library.Configuration import Configuration\n",
    "import numpy as np\n",
    "from junctions.RoadBuilder import RoadBuilder\n",
    "from junctions.JunctionBuilder import JunctionBuilder"
   ]
  },
  {
   "cell_type": "code",
   "execution_count": null,
   "metadata": {},
   "outputs": [],
   "source": [
    "roadBuilder = RoadBuilder()\n",
    "junctionBuilder = JunctionBuilder()"
   ]
  },
  {
   "cell_type": "code",
   "execution_count": null,
   "metadata": {},
   "outputs": [],
   "source": [
    "roads = []\n",
    "roads.append(pyodrx.create_straight_road(0, 10))\n",
    "roads.append(roadBuilder.createSimpleCurve(1, np.pi/1.5, True, curvature = 0.9))\n",
    "roads.append(pyodrx.create_straight_road(2, 10))\n",
    "\n",
    "roads[0].add_successor(pyodrx.ElementType.road,1,pyodrx.ContactPoint.end)\n",
    "\n",
    "roads[1].add_predecessor(pyodrx.ElementType.road,0,pyodrx.ContactPoint.start)\n",
    "roads[1].add_successor(pyodrx.ElementType.road,2,pyodrx.ContactPoint.end)\n",
    "\n",
    "roads[2].add_predecessor(pyodrx.ElementType.road,1,pyodrx.ContactPoint.start)\n",
    "\n",
    "junction = junctionBuilder.createJunctionForASeriesOfRoads(roads)\n",
    "\n"
   ]
  },
  {
   "cell_type": "code",
   "execution_count": null,
   "metadata": {},
   "outputs": [],
   "source": [
    "odrName = \"curve_test\"\n",
    "odr = extensions.createOdr(odrName, roads, [])\n",
    "odr.adjust_roads_and_lanes()\n"
   ]
  },
  {
   "cell_type": "code",
   "execution_count": null,
   "metadata": {},
   "outputs": [],
   "source": []
  }
 ],
 "metadata": {
  "kernelspec": {
   "display_name": "Python 3",
   "language": "python",
   "name": "python3"
  },
  "language_info": {
   "codemirror_mode": {
    "name": "ipython",
    "version": 3
   },
   "file_extension": ".py",
   "mimetype": "text/x-python",
   "name": "python",
   "nbconvert_exporter": "python",
   "pygments_lexer": "ipython3",
   "version": "3.7.9"
  }
 },
 "nbformat": 4,
 "nbformat_minor": 4
}
