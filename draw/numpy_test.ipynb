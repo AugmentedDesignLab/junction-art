{
 "cells": [
  {
   "cell_type": "code",
   "execution_count": 96,
   "source": [
    "import numpy as np\r\n",
    "from sympy.geometry import Point2D"
   ],
   "outputs": [],
   "metadata": {}
  },
  {
   "cell_type": "code",
   "execution_count": 97,
   "source": [
    "def get_coordinate_wrt_origin(aU, bU, cU, dU, aV, bV, cV, dV, step):\r\n",
    "    \r\n",
    "    array_size = np.int64((1/step)+1)\r\n",
    "\r\n",
    "    coff1 = np.array([[aU, bU, cU, dU]])\r\n",
    "    coff2 = np.array([[aV, bV, cV, dV]])\r\n",
    "\r\n",
    "    mat_i = np.array([i for i in np.arange(0, 1+step, step)])\r\n",
    "    new_mat = np.zeros((4, array_size))\r\n",
    "    for i in range(4):\r\n",
    "        new_mat[i] = mat_i**i\r\n",
    "\r\n",
    "    xVal = coff1.dot(new_mat)\r\n",
    "    yVal = coff2.dot(new_mat)\r\n",
    "\r\n",
    "    return xVal[0], yVal[0]\r\n",
    "\r\n",
    "\r\n",
    "def get_differentiated_values(bU, cU, dU, bV, cV, dV, step):\r\n",
    "        \r\n",
    "    array_size = np.int64((1/step)+1)\r\n",
    "\r\n",
    "    coff1 = np.array([[bU, 2*cU, 3*dU]])\r\n",
    "    coff2 = np.array([[bV, 2*cV, 3*dV]])\r\n",
    "\r\n",
    "    mat_i = np.array([i for i in np.arange(0, 1+step, step)])\r\n",
    "    new_mat = np.zeros((3, array_size))\r\n",
    "    for i in range(3):\r\n",
    "        new_mat[i] = mat_i**i\r\n",
    "\r\n",
    "    finalx = coff1.dot(new_mat)\r\n",
    "    finaly = coff2.dot(new_mat)\r\n",
    "\r\n",
    "    return finalx[0], finaly[0]"
   ],
   "outputs": [],
   "metadata": {}
  },
  {
   "cell_type": "code",
   "execution_count": 98,
   "source": [
    "step = 0.1\r\n",
    "# _size = np.int64((1/step)+1)\r\n",
    "\r\n",
    "aU, bU, cU, dU = 0.0, 14.142135623730951, 1.715728752538098, -5.857864376269049\r\n",
    "aV, bV, cV, dV = 0.0, 0.0, 15.857864376269049, -5.857864376269049\r\n",
    "\r\n",
    "center_x, center_y = get_coordinate_wrt_origin(aU, bU, cU, dU, aV, bV, cV, dV, step)\r\n",
    "\r\n",
    "for i in range(center_x.size):\r\n",
    "    print('i', center_x[i], center_y[i])\r\n",
    "\r\n"
   ],
   "outputs": [
    {
     "output_type": "stream",
     "name": "stdout",
     "text": [
      "i 0.0 0.0\n",
      "i 1.425512985522207 0.15272077938642145\n",
      "i 2.8501933598375615 0.5874516600406097\n",
      "i 4.23889393668845 1.2690454557049504\n",
      "i 5.556467529817257 2.162354980121829\n",
      "i 6.767766952966369 3.232233047033631\n",
      "i 7.837645019878171 4.443532470182744\n",
      "i 8.73095454429505 5.761106063311551\n",
      "i 9.41254833995939 7.1498066401624385\n",
      "i 9.84727922061358 8.574487014477793\n",
      "i 10.0 10.0\n"
     ]
    }
   ],
   "metadata": {}
  },
  {
   "cell_type": "code",
   "execution_count": 99,
   "source": [
    "aU, bU, cU, dU = 0.0, 14.142135623730951, 1.715728752538098, -5.857864376269049\r\n",
    "aV, bV, cV, dV = 0.0, 0.0, 15.857864376269049, -5.857864376269049\r\n",
    "step = 0.1\r\n",
    "x_diff, y_diff = get_differentiated_values(bU, cU, dU, bV, cV, dV, step)\r\n",
    "\r\n",
    "for i in range(x_diff.size):\r\n",
    "    print('i', x_diff[i], y_diff[i])"
   ],
   "outputs": [
    {
     "output_type": "stream",
     "name": "stdout",
     "text": [
      "i 14.142135623730951 0.0\n",
      "i 14.3095454429505 2.9958369439657386\n",
      "i 14.125483399593904 5.640202025355334\n",
      "i 13.589949493661166 7.933095244168786\n",
      "i 12.702943725152284 9.874516600406096\n",
      "i 11.464466094067262 11.464466094067262\n",
      "i 9.874516600406094 12.702943725152286\n",
      "i 7.933095244168786 13.589949493661166\n",
      "i 5.640202025355331 14.125483399593906\n",
      "i 2.9958369439657364 14.3095454429505\n",
      "i 0.0 14.142135623730951\n"
     ]
    }
   ],
   "metadata": {}
  },
  {
   "cell_type": "code",
   "execution_count": 107,
   "source": [
    "import math\r\n",
    "start = Point2D(-10, 0)\r\n",
    "start_h = 6.283185307179586\r\n",
    "\r\n",
    "x = center_x*math.cos(start_h) # math.cos(start_h) - center_y*math.sin(start_h)\r\n",
    "y = center_x*math.sin(start_h) # math.sin(start_h) + center_y*math.cos(start_h)\r\n",
    "\r\n",
    "for i in range(x.size):\r\n",
    "    print('i', x[i], y[i])\r\n"
   ],
   "outputs": [
    {
     "output_type": "stream",
     "name": "stdout",
     "text": [
      "i 0.0 0.0\n",
      "i 1.425512985522207 0.15272077938642145\n",
      "i 2.8501933598375615 0.5874516600406097\n",
      "i 4.23889393668845 1.2690454557049504\n",
      "i 5.556467529817257 2.162354980121829\n",
      "i 6.767766952966369 3.232233047033631\n",
      "i 7.837645019878171 4.443532470182744\n",
      "i 8.73095454429505 5.761106063311551\n",
      "i 9.41254833995939 7.1498066401624385\n",
      "i 9.84727922061358 8.574487014477793\n",
      "i 10.0 10.0\n"
     ]
    }
   ],
   "metadata": {}
  }
 ],
 "metadata": {
  "orig_nbformat": 4,
  "language_info": {
   "name": "python",
   "version": "3.7.9"
  },
  "kernelspec": {
   "name": "python3",
   "display_name": "Python 3.7.9 64-bit ('opendrive': conda)"
  },
  "interpreter": {
   "hash": "ce71887d534cbfa8c617c8bfbe2398d9a96e71b12c30fd82ff7777b232f494fd"
  }
 },
 "nbformat": 4,
 "nbformat_minor": 2
}