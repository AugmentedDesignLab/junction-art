{
 "cells": [
  {
   "cell_type": "code",
   "execution_count": null,
   "source": [
    "import os, sys\r\n",
    "currentFolder = os.path.abspath('')\r\n",
    "try:\r\n",
    "    sys.path.remove(str(currentFolder))\r\n",
    "except ValueError: # Already removed\r\n",
    "    pass\r\n",
    "\r\n",
    "projectFolder = 'C:/Users/abjaw/Documents/GitHub/junction-art'\r\n",
    "sys.path.append(str(projectFolder))\r\n",
    "os.chdir(projectFolder)\r\n",
    "print( f\"current working dir{os.getcwd()}\")"
   ],
   "outputs": [],
   "metadata": {}
  },
  {
   "cell_type": "code",
   "execution_count": null,
   "source": [
    "from junctions.JunctionBuilderFromPointsAndHeading import JunctionBuilderFromPointsAndHeading\r\n",
    "from draw.IntersectionDrawer import IntersectionDrawer\r\n",
    "import math\r\n",
    "import matplotlib.pyplot as plt"
   ],
   "outputs": [],
   "metadata": {}
  },
  {
   "cell_type": "code",
   "execution_count": null,
   "source": [
    "from library.Configuration import Configuration\r\n",
    "from junctions.SequentialJunctionBuilder import SequentialJunctionBuilder\r\n",
    "from junctions.IntersectionValidator import IntersectionValidator\r\n",
    "from junctions.LaneConfiguration import LaneConfigurationStrategies\r\n",
    "import pyodrx\r\n",
    "import extensions\r\n",
    "import numpy as np\r\n",
    "\r\n",
    "configuration = Configuration()\r\n",
    "outputDir= os.path.join(os.getcwd(), 'output')\r\n",
    "lastId = 0\r\n",
    "seed = 1\r\n",
    "builder = SequentialJunctionBuilder(minAngle=np.pi/10, \r\n",
    "                                    maxAngle=np.pi * .75, \r\n",
    "                                    straightRoadLen=5, \r\n",
    "                                    probLongConnection=0.5, \r\n",
    "                                    probMinAngle=0.5, \r\n",
    "                                    probRestrictedLane=0.2,\r\n",
    "                                    maxConnectionLength=50, \r\n",
    "                                    minConnectionLength=20,\r\n",
    "                                    random_seed=seed)\r\n",
    "\r\n",
    "randomState =configuration.get(\"random_state\")\r\n",
    "validator = IntersectionValidator()\r\n",
    "\r\n",
    "intersection_array = []\r\n",
    "\r\n",
    "maxNumberOfRoadsPerJunction = 3\r\n",
    "minLanePerSide = 2\r\n",
    "maxLanePerSide = 2\r\n",
    "\r\n",
    "for sl in range(5):\r\n",
    "    path = configuration.get(\"harvested_straight_roads\")\r\n",
    "    intersection = builder.createWithRandomLaneConfigurations(path, \r\n",
    "                        sl, \r\n",
    "                        maxNumberOfRoadsPerJunction=maxNumberOfRoadsPerJunction, \r\n",
    "                        maxLanePerSide=maxLanePerSide, \r\n",
    "                        minLanePerSide=minLanePerSide, \r\n",
    "                        internalConnections=True, \r\n",
    "                        cp1=pyodrx.ContactPoint.end,\r\n",
    "                        internalLinkStrategy = LaneConfigurationStrategies.SPLIT_ANY,\r\n",
    "                        getAsOdr=False)\r\n",
    "    intersection_array.append(intersection)\r\n"
   ],
   "outputs": [],
   "metadata": {}
  },
  {
   "cell_type": "code",
   "execution_count": null,
   "source": [
    "for intersection in intersection_array:\r\n",
    "    isValid = validator.validateIncidentPoints(intersection, builder.minConnectionLength)\r\n",
    "    print('intersection i ', intersection.id ,isValid)\r\n",
    "\r\n",
    "    if isValid:\r\n",
    "        intersection_drawer = IntersectionDrawer(intersection, step=0.1)\r\n",
    "        intersection_drawer.draw_polygon_image_arr(include_u_turn=True)\r\n",
    "        intersection_drawer.get_area_values(include_u_turn=False)\r\n"
   ],
   "outputs": [],
   "metadata": {}
  },
  {
   "cell_type": "code",
   "execution_count": null,
   "source": [
    "# from draw.IntersectionDrawer import IntersectionDrawer\r\n",
    "# intersection_drawer = IntersectionDrawer(intersection_array[3], 0.5)\r\n",
    "# intersection_drawer.draw_polygon_image_arr(include_u_turn=True)\r\n"
   ],
   "outputs": [],
   "metadata": {}
  },
  {
   "cell_type": "code",
   "execution_count": null,
   "source": [
    "# intersection_drawer = IntersectionDrawer(intersection_array[0], 0.3)\r\n",
    "# intersection_drawer.draw_polygon_image_arr()"
   ],
   "outputs": [],
   "metadata": {}
  },
  {
   "cell_type": "code",
   "execution_count": null,
   "source": [],
   "outputs": [],
   "metadata": {}
  }
 ],
 "metadata": {
  "orig_nbformat": 4,
  "language_info": {
   "name": "python",
   "version": "3.7.9",
   "mimetype": "text/x-python",
   "codemirror_mode": {
    "name": "ipython",
    "version": 3
   },
   "pygments_lexer": "ipython3",
   "nbconvert_exporter": "python",
   "file_extension": ".py"
  },
  "kernelspec": {
   "name": "python3",
   "display_name": "Python 3.7.9 64-bit ('opendrive': conda)"
  },
  "interpreter": {
   "hash": "ce71887d534cbfa8c617c8bfbe2398d9a96e71b12c30fd82ff7777b232f494fd"
  }
 },
 "nbformat": 4,
 "nbformat_minor": 2
}