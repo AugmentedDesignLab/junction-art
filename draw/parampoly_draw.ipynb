{
 "cells": [
  {
   "cell_type": "code",
   "execution_count": 1,
   "source": [
    "import os, sys\r\n",
    "currentFolder = os.path.abspath('')\r\n",
    "try:\r\n",
    "    sys.path.remove(str(currentFolder))\r\n",
    "except ValueError: # Already removed\r\n",
    "    pass\r\n",
    "\r\n",
    "projectFolder = 'C:/Users/abjaw/Documents/GitHub/junction-art'\r\n",
    "sys.path.append(str(projectFolder))\r\n",
    "os.chdir(projectFolder)\r\n",
    "print( f\"current working dir{os.getcwd()}\")"
   ],
   "outputs": [
    {
     "output_type": "stream",
     "name": "stdout",
     "text": [
      "current working dirC:\\Users\\abjaw\\Documents\\GitHub\\junction-art\n"
     ]
    }
   ],
   "metadata": {}
  },
  {
   "cell_type": "code",
   "execution_count": 2,
   "source": [
    "import extensions\r\n",
    "from junctions.StraightRoadBuilder import StraightRoadBuilder\r\n",
    "from extensions.CountryCodes import CountryCodes\r\n",
    "import matplotlib.pyplot as plt\r\n",
    "from draw.ODRPlot import ODRPlot\r\n",
    "import math\r\n",
    "from sympy import Point, Line\r\n",
    "from junctions.JunctionBuilderFromPointsAndHeading import JunctionBuilderFromPointsAndHeading"
   ],
   "outputs": [],
   "metadata": {}
  },
  {
   "cell_type": "code",
   "execution_count": 3,
   "source": [
    "straightRoadBuilder = StraightRoadBuilder()\r\n",
    "junctionBuilder = JunctionBuilderFromPointsAndHeading()"
   ],
   "outputs": [],
   "metadata": {}
  },
  {
   "cell_type": "code",
   "execution_count": 4,
   "source": [
    "threePoints = [\r\n",
    "            [-30,  30, math.radians(135)],\r\n",
    "            [ 30,  40, math.radians(45)],\r\n",
    "            [  0,  -40,  math.radians(270)]\r\n",
    "        ]"
   ],
   "outputs": [],
   "metadata": {}
  },
  {
   "cell_type": "code",
   "execution_count": 5,
   "source": [
    "odr = junctionBuilder.createIntersectionFromPoints(odrID=0,\r\n",
    "                                                   points=threePoints,\r\n",
    "                                                   straightRoadLen=20,\r\n",
    "                                                   maxLanePerSide=3,\r\n",
    "                                                   minLanePerSide=2)"
   ],
   "outputs": [],
   "metadata": {}
  },
  {
   "cell_type": "code",
   "execution_count": 6,
   "source": [
    "p = Point(1,1)\r\n",
    "print(p.x, p.y)\r\n"
   ],
   "outputs": [
    {
     "output_type": "stream",
     "name": "stdout",
     "text": [
      "1 1\n"
     ]
    }
   ],
   "metadata": {}
  },
  {
   "cell_type": "code",
   "execution_count": 7,
   "source": [
    "# print(odr.roads.get('0').lanes.lanesections[0].leftlanes)\r\n",
    "# print(odr.roads.get('0').planview.get_end_point())\r\n",
    "# print(odr.roads.get('0').planview.get_element())\r\n",
    "# for key in odr.roads:\r\n",
    "#     print(key)"
   ],
   "outputs": [],
   "metadata": {}
  },
  {
   "cell_type": "code",
   "execution_count": 8,
   "source": [
    "# for key in odr.roads:\r\n",
    "#     road = odr.roads.get(key)\r\n",
    "#     print(road.id, road.curveType)\r\n",
    "#     for lanesection in road.lanes.lanesections:\r\n",
    "#         print('left lanes ', lanesection.leftlanes)\r\n",
    "#         print('right lanes ', lanesection.rightlanes)"
   ],
   "outputs": [],
   "metadata": {}
  },
  {
   "cell_type": "code",
   "execution_count": 9,
   "source": [
    "odr_plot = ODRPlot(odr)"
   ],
   "outputs": [],
   "metadata": {}
  },
  {
   "cell_type": "code",
   "execution_count": 10,
   "source": [
    "odr_plot.draw_odr()"
   ],
   "outputs": [
    {
     "output_type": "display_data",
     "data": {
      "text/plain": [
       "<Figure size 432x288 with 1 Axes>"
      ],
      "image/png": "[encoded data removed]"
     },
     "metadata": {
      "needs_background": "light"
     }
    }
   ],
   "metadata": {}
  },
  {
   "cell_type": "code",
   "execution_count": 11,
   "source": [
    "\r\n",
    "# x1, y1 = [-1, 12], [1, 4]\r\n",
    "# x2, y2 = [1, 10], [3, 2]\r\n",
    "# xval = [-1, 1, 1, 3]\r\n",
    "# yval = [12, 4, 10, 2]\r\n",
    "# # plt.plot(x1, y1, x2, y2, marker = 'o')\r\n",
    "# plt.plot(xval, yval)\r\n",
    "# plt.show()\r\n"
   ],
   "outputs": [],
   "metadata": {}
  },
  {
   "cell_type": "code",
   "execution_count": 12,
   "source": [
    "start_point, end_point = Point(0, 0), Point(100, 100)\r\n",
    "ab = Line(start_point, end_point)\r\n",
    "a, b, c = ab.coefficients\r\n",
    "print(\"abc \", a, b, c)\r\n",
    "m, c = -(a/b), -(c/b)\r\n",
    "print('m, c ', m, c)\r\n",
    "abs_diff = -10*math.sqrt(m**2 + 1)\r\n",
    "print('abs ', abs_diff)\r\n",
    "c1, c2 = c - abs_diff, c + abs_diff\r\n",
    "print('c1, c2 ', c1, c2)\r\n",
    "cd = Line(Point(-c1/m, 0), Point(0, c1))\r\n",
    "ef = Line(Point(-c2/m, 0), Point(0, c2))\r\n",
    "print('cd ef ', cd, ef)\r\n",
    "# ce = ab.perpendicular_line(start_point)\r\n",
    "# df = ab.perpendicular_line(end_point) \r\n",
    "\r\n",
    "ce = Line(Point(0, -10), Point(0, 10))\r\n",
    "df = Line(Point(100, -10), Point(100, 10))\r\n",
    "\r\n",
    "print('ce df ', ce, df)\r\n",
    "\r\n",
    "c = ce.intersection(cd)\r\n",
    "d = df.intersection(cd)\r\n",
    "e = ce.intersection(ef)\r\n",
    "f = df.intersection(ef)\r\n",
    "\r\n",
    "print('c ', c)\r\n",
    "print('d ', d)\r\n",
    "print('e ', e)\r\n",
    "print('f' ,f)\r\n",
    "\r\n",
    "# cd = Line(c[0], d[0])\r\n",
    "# ef = Line(e[0], f[0])\r\n",
    "\r\n",
    "# print(ab.coefficients)\r\n",
    "# print(cd.coefficients)\r\n",
    "# print(ef.coefficients)\r\n"
   ],
   "outputs": [
    {
     "output_type": "stream",
     "name": "stdout",
     "text": [
      "abc  -100 100 0\n",
      "m, c  1 0\n",
      "abs  -14.142135623730951\n",
      "c1, c2  14.1421356237310 -14.1421356237310\n",
      "cd ef  Line2D(Point2D(-14142135623731/1000000000000, 0), Point2D(0, 14142135623731/1000000000000)) Line2D(Point2D(14142135623731/1000000000000, 0), Point2D(0, -14142135623731/1000000000000))\n",
      "ce df  Line2D(Point2D(0, -10), Point2D(0, 10)) Line2D(Point2D(100, -10), Point2D(100, 10))\n",
      "c  [Point2D(0, 14142135623731/1000000000000)]\n",
      "d  [Point2D(100, 114142135623731/1000000000000)]\n",
      "e  [Point2D(0, -14142135623731/1000000000000)]\n",
      "f [Point2D(100, 85857864376269/1000000000000)]\n"
     ]
    }
   ],
   "metadata": {}
  },
  {
   "cell_type": "code",
   "execution_count": 13,
   "source": [
    "start_point, end_point = Point(0, 0), Point(100, 100)\r\n",
    "\r\n",
    "line = Line(start_point, end_point)\r\n",
    "print(line.equation())\r\n"
   ],
   "outputs": [
    {
     "output_type": "stream",
     "name": "stdout",
     "text": [
      "-100*x + 100*y\n"
     ]
    }
   ],
   "metadata": {}
  }
 ],
 "metadata": {
  "orig_nbformat": 4,
  "language_info": {
   "name": "python",
   "version": "3.7.9",
   "mimetype": "text/x-python",
   "codemirror_mode": {
    "name": "ipython",
    "version": 3
   },
   "pygments_lexer": "ipython3",
   "nbconvert_exporter": "python",
   "file_extension": ".py"
  },
  "kernelspec": {
   "name": "python3",
   "display_name": "Python 3.7.9 64-bit ('opendrive': conda)"
  },
  "interpreter": {
   "hash": "ce71887d534cbfa8c617c8bfbe2398d9a96e71b12c30fd82ff7777b232f494fd"
  }
 },
 "nbformat": 4,
 "nbformat_minor": 2
}